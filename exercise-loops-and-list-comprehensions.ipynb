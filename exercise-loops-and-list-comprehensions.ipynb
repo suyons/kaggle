{
 "cells": [
  {
   "cell_type": "markdown",
   "id": "438a4299",
   "metadata": {
    "papermill": {
     "duration": 0.007925,
     "end_time": "2024-02-15T05:08:12.965905",
     "exception": false,
     "start_time": "2024-02-15T05:08:12.957980",
     "status": "completed"
    },
    "tags": []
   },
   "source": [
    "**This notebook is an exercise in the [Python](https://www.kaggle.com/learn/python) course.  You can reference the tutorial at [this link](https://www.kaggle.com/colinmorris/loops-and-list-comprehensions).**\n",
    "\n",
    "---\n"
   ]
  },
  {
   "cell_type": "markdown",
   "id": "23ed29fe",
   "metadata": {
    "papermill": {
     "duration": 0.006493,
     "end_time": "2024-02-15T05:08:12.981116",
     "exception": false,
     "start_time": "2024-02-15T05:08:12.974623",
     "status": "completed"
    },
    "tags": []
   },
   "source": [
    "With all you've learned, you can start writing much more interesting programs. See if you can solve the problems below.\n",
    "\n",
    "As always, run the setup code below before working on the questions."
   ]
  },
  {
   "cell_type": "code",
   "execution_count": 1,
   "id": "b542e1d5",
   "metadata": {
    "execution": {
     "iopub.execute_input": "2024-02-15T05:08:13.001872Z",
     "iopub.status.busy": "2024-02-15T05:08:13.001053Z",
     "iopub.status.idle": "2024-02-15T05:08:14.051797Z",
     "shell.execute_reply": "2024-02-15T05:08:14.050561Z"
    },
    "papermill": {
     "duration": 1.06548,
     "end_time": "2024-02-15T05:08:14.054444",
     "exception": false,
     "start_time": "2024-02-15T05:08:12.988964",
     "status": "completed"
    },
    "tags": []
   },
   "outputs": [
    {
     "name": "stdout",
     "output_type": "stream",
     "text": [
      "Setup complete.\n"
     ]
    }
   ],
   "source": [
    "from learntools.core import binder; binder.bind(globals())\n",
    "from learntools.python.ex5 import *\n",
    "print('Setup complete.')"
   ]
  },
  {
   "cell_type": "markdown",
   "id": "db799f37",
   "metadata": {
    "papermill": {
     "duration": 0.006865,
     "end_time": "2024-02-15T05:08:14.068079",
     "exception": false,
     "start_time": "2024-02-15T05:08:14.061214",
     "status": "completed"
    },
    "tags": []
   },
   "source": [
    "# 1.\n",
    "\n",
    "Have you ever felt debugging involved a bit of luck? The following program has a bug. Try to identify the bug and fix it."
   ]
  },
  {
   "cell_type": "code",
   "execution_count": 2,
   "id": "48881de6",
   "metadata": {
    "execution": {
     "iopub.execute_input": "2024-02-15T05:08:14.083814Z",
     "iopub.status.busy": "2024-02-15T05:08:14.082658Z",
     "iopub.status.idle": "2024-02-15T05:08:14.088540Z",
     "shell.execute_reply": "2024-02-15T05:08:14.087625Z"
    },
    "papermill": {
     "duration": 0.016162,
     "end_time": "2024-02-15T05:08:14.090858",
     "exception": false,
     "start_time": "2024-02-15T05:08:14.074696",
     "status": "completed"
    },
    "tags": []
   },
   "outputs": [],
   "source": [
    "def has_lucky_number(nums):\n",
    "    \"\"\"Return whether the given list of numbers is lucky. A lucky list contains\n",
    "    at least one number divisible by 7.\n",
    "    \"\"\"\n",
    "    for num in nums:\n",
    "        if num % 7 == 0:\n",
    "            return True\n",
    "        else:\n",
    "            return False"
   ]
  },
  {
   "cell_type": "markdown",
   "id": "3107d0d9",
   "metadata": {
    "papermill": {
     "duration": 0.006528,
     "end_time": "2024-02-15T05:08:14.106431",
     "exception": false,
     "start_time": "2024-02-15T05:08:14.099903",
     "status": "completed"
    },
    "tags": []
   },
   "source": [
    "Try to identify the bug and fix it in the cell below:"
   ]
  },
  {
   "cell_type": "code",
   "execution_count": 3,
   "id": "0235d6d6",
   "metadata": {
    "execution": {
     "iopub.execute_input": "2024-02-15T05:08:14.121946Z",
     "iopub.status.busy": "2024-02-15T05:08:14.121228Z",
     "iopub.status.idle": "2024-02-15T05:08:14.131095Z",
     "shell.execute_reply": "2024-02-15T05:08:14.130054Z"
    },
    "papermill": {
     "duration": 0.020148,
     "end_time": "2024-02-15T05:08:14.133286",
     "exception": false,
     "start_time": "2024-02-15T05:08:14.113138",
     "status": "completed"
    },
    "tags": []
   },
   "outputs": [
    {
     "data": {
      "application/javascript": [
       "parent.postMessage({\"jupyterEvent\": \"custom.exercise_interaction\", \"data\": {\"outcomeType\": 2, \"failureMessage\": \"Got a return value of `None` given `nums=[]`, but expected a value of type `bool`. (Did you forget a `return` statement?)\", \"interactionType\": 1, \"questionType\": 2, \"questionId\": \"1_EarlyExitDebugging\", \"learnToolsVersion\": \"0.3.4\", \"valueTowardsCompletion\": 0.0, \"exceptionClass\": \"\", \"trace\": \"\"}}, \"*\")"
      ],
      "text/plain": [
       "<IPython.core.display.Javascript object>"
      ]
     },
     "metadata": {},
     "output_type": "display_data"
    },
    {
     "data": {
      "text/markdown": [
       "<span style=\"color:#cc3333\">Incorrect:</span> Got a return value of `None` given `nums=[]`, but expected a value of type `bool`. (Did you forget a `return` statement?)"
      ],
      "text/plain": [
       "Incorrect: Got a return value of `None` given `nums=[]`, but expected a value of type `bool`. (Did you forget a `return` statement?)"
      ]
     },
     "metadata": {},
     "output_type": "display_data"
    }
   ],
   "source": [
    "def has_lucky_number(nums):\n",
    "    \"\"\"Return whether the given list of numbers is lucky. A lucky list contains\n",
    "    at least one number divisible by 7.\n",
    "    \"\"\"\n",
    "    for num in nums:\n",
    "        if num % 7 == 0:\n",
    "            return True\n",
    "        else:\n",
    "            return False\n",
    "\n",
    "# Check your answer\n",
    "q1.check()"
   ]
  },
  {
   "cell_type": "code",
   "execution_count": 4,
   "id": "76f23a43",
   "metadata": {
    "execution": {
     "iopub.execute_input": "2024-02-15T05:08:14.149712Z",
     "iopub.status.busy": "2024-02-15T05:08:14.149270Z",
     "iopub.status.idle": "2024-02-15T05:08:14.153018Z",
     "shell.execute_reply": "2024-02-15T05:08:14.152157Z"
    },
    "papermill": {
     "duration": 0.014783,
     "end_time": "2024-02-15T05:08:14.155271",
     "exception": false,
     "start_time": "2024-02-15T05:08:14.140488",
     "status": "completed"
    },
    "tags": []
   },
   "outputs": [],
   "source": [
    "#q1.hint()\n",
    "#q1.solution()"
   ]
  },
  {
   "cell_type": "markdown",
   "id": "0c7e1c02",
   "metadata": {
    "papermill": {
     "duration": 0.006875,
     "end_time": "2024-02-15T05:08:14.169418",
     "exception": false,
     "start_time": "2024-02-15T05:08:14.162543",
     "status": "completed"
    },
    "tags": []
   },
   "source": [
    "# 2.\n",
    "Look at the Python expression below. What do you think we'll get when we run it? When you've made your prediction, uncomment the code and run the cell to see if you were right."
   ]
  },
  {
   "cell_type": "code",
   "execution_count": 5,
   "id": "1af7b1aa",
   "metadata": {
    "execution": {
     "iopub.execute_input": "2024-02-15T05:08:14.185738Z",
     "iopub.status.busy": "2024-02-15T05:08:14.185030Z",
     "iopub.status.idle": "2024-02-15T05:08:14.189349Z",
     "shell.execute_reply": "2024-02-15T05:08:14.188160Z"
    },
    "papermill": {
     "duration": 0.015128,
     "end_time": "2024-02-15T05:08:14.191658",
     "exception": false,
     "start_time": "2024-02-15T05:08:14.176530",
     "status": "completed"
    },
    "tags": []
   },
   "outputs": [],
   "source": [
    "#[1, 2, 3, 4] > 2"
   ]
  },
  {
   "cell_type": "markdown",
   "id": "baf45ca0",
   "metadata": {
    "papermill": {
     "duration": 0.007006,
     "end_time": "2024-02-15T05:08:14.206117",
     "exception": false,
     "start_time": "2024-02-15T05:08:14.199111",
     "status": "completed"
    },
    "tags": []
   },
   "source": [
    "R and Python have some libraries (like numpy and pandas) compare each element of the list to 2 (i.e. do an 'element-wise' comparison) and give us a list of booleans like `[False, False, True, True]`. \n",
    "\n",
    "Implement a function that reproduces this behaviour, returning a list of booleans corresponding to whether the corresponding element is greater than n."
   ]
  },
  {
   "cell_type": "code",
   "execution_count": 6,
   "id": "6cd1da20",
   "metadata": {
    "execution": {
     "iopub.execute_input": "2024-02-15T05:08:14.224168Z",
     "iopub.status.busy": "2024-02-15T05:08:14.223572Z",
     "iopub.status.idle": "2024-02-15T05:08:14.232101Z",
     "shell.execute_reply": "2024-02-15T05:08:14.230950Z"
    },
    "papermill": {
     "duration": 0.021055,
     "end_time": "2024-02-15T05:08:14.234889",
     "exception": false,
     "start_time": "2024-02-15T05:08:14.213834",
     "status": "completed"
    },
    "tags": []
   },
   "outputs": [
    {
     "data": {
      "application/javascript": [
       "parent.postMessage({\"jupyterEvent\": \"custom.exercise_interaction\", \"data\": {\"outcomeType\": 4, \"interactionType\": 1, \"questionType\": 2, \"questionId\": \"2_ElementWiseComparison\", \"learnToolsVersion\": \"0.3.4\", \"valueTowardsCompletion\": 0.0, \"failureMessage\": \"\", \"exceptionClass\": \"\", \"trace\": \"\"}}, \"*\")"
      ],
      "text/plain": [
       "<IPython.core.display.Javascript object>"
      ]
     },
     "metadata": {},
     "output_type": "display_data"
    },
    {
     "data": {
      "text/markdown": [
       "<span style=\"color:#ccaa33\">Check:</span> When you've updated the starter code, `check()` will tell you whether your code is correct. "
      ],
      "text/plain": [
       "Check: When you've updated the starter code, `check()` will tell you whether your code is correct. "
      ]
     },
     "metadata": {},
     "output_type": "display_data"
    }
   ],
   "source": [
    "def elementwise_greater_than(L, thresh):\n",
    "    \"\"\"Return a list with the same length as L, where the value at index i is \n",
    "    True if L[i] is greater than thresh, and False otherwise.\n",
    "    \n",
    "    >>> elementwise_greater_than([1, 2, 3, 4], 2)\n",
    "    [False, False, True, True]\n",
    "    \"\"\"\n",
    "    pass\n",
    "\n",
    "# Check your answer\n",
    "q2.check()"
   ]
  },
  {
   "cell_type": "code",
   "execution_count": 7,
   "id": "e70ee1fa",
   "metadata": {
    "execution": {
     "iopub.execute_input": "2024-02-15T05:08:14.252029Z",
     "iopub.status.busy": "2024-02-15T05:08:14.251612Z",
     "iopub.status.idle": "2024-02-15T05:08:14.256334Z",
     "shell.execute_reply": "2024-02-15T05:08:14.255112Z"
    },
    "papermill": {
     "duration": 0.015957,
     "end_time": "2024-02-15T05:08:14.258683",
     "exception": false,
     "start_time": "2024-02-15T05:08:14.242726",
     "status": "completed"
    },
    "tags": []
   },
   "outputs": [],
   "source": [
    "#q2.solution()"
   ]
  },
  {
   "cell_type": "markdown",
   "id": "891d4c42",
   "metadata": {
    "papermill": {
     "duration": 0.007473,
     "end_time": "2024-02-15T05:08:14.273948",
     "exception": false,
     "start_time": "2024-02-15T05:08:14.266475",
     "status": "completed"
    },
    "tags": []
   },
   "source": [
    "# 3.\n",
    "\n",
    "Complete the body of the function below according to its docstring."
   ]
  },
  {
   "cell_type": "code",
   "execution_count": 8,
   "id": "73a7f06f",
   "metadata": {
    "execution": {
     "iopub.execute_input": "2024-02-15T05:08:14.291625Z",
     "iopub.status.busy": "2024-02-15T05:08:14.291183Z",
     "iopub.status.idle": "2024-02-15T05:08:14.299424Z",
     "shell.execute_reply": "2024-02-15T05:08:14.298617Z"
    },
    "papermill": {
     "duration": 0.019669,
     "end_time": "2024-02-15T05:08:14.301626",
     "exception": false,
     "start_time": "2024-02-15T05:08:14.281957",
     "status": "completed"
    },
    "tags": []
   },
   "outputs": [
    {
     "data": {
      "application/javascript": [
       "parent.postMessage({\"jupyterEvent\": \"custom.exercise_interaction\", \"data\": {\"outcomeType\": 4, \"interactionType\": 1, \"questionType\": 2, \"questionId\": \"3_BoringMenu\", \"learnToolsVersion\": \"0.3.4\", \"valueTowardsCompletion\": 0.0, \"failureMessage\": \"\", \"exceptionClass\": \"\", \"trace\": \"\"}}, \"*\")"
      ],
      "text/plain": [
       "<IPython.core.display.Javascript object>"
      ]
     },
     "metadata": {},
     "output_type": "display_data"
    },
    {
     "data": {
      "text/markdown": [
       "<span style=\"color:#ccaa33\">Check:</span> When you've updated the starter code, `check()` will tell you whether your code is correct. "
      ],
      "text/plain": [
       "Check: When you've updated the starter code, `check()` will tell you whether your code is correct. "
      ]
     },
     "metadata": {},
     "output_type": "display_data"
    }
   ],
   "source": [
    "def menu_is_boring(meals):\n",
    "    \"\"\"Given a list of meals served over some period of time, return True if the\n",
    "    same meal has ever been served two days in a row, and False otherwise.\n",
    "    \"\"\"\n",
    "    pass\n",
    "\n",
    "# Check your answer\n",
    "q3.check()"
   ]
  },
  {
   "cell_type": "code",
   "execution_count": 9,
   "id": "92975469",
   "metadata": {
    "execution": {
     "iopub.execute_input": "2024-02-15T05:08:14.320287Z",
     "iopub.status.busy": "2024-02-15T05:08:14.319170Z",
     "iopub.status.idle": "2024-02-15T05:08:14.324651Z",
     "shell.execute_reply": "2024-02-15T05:08:14.323250Z"
    },
    "papermill": {
     "duration": 0.017396,
     "end_time": "2024-02-15T05:08:14.327141",
     "exception": false,
     "start_time": "2024-02-15T05:08:14.309745",
     "status": "completed"
    },
    "tags": []
   },
   "outputs": [],
   "source": [
    "#q3.hint()\n",
    "#q3.solution()"
   ]
  },
  {
   "cell_type": "markdown",
   "id": "bee837b3",
   "metadata": {
    "papermill": {
     "duration": 0.008122,
     "end_time": "2024-02-15T05:08:14.343725",
     "exception": false,
     "start_time": "2024-02-15T05:08:14.335603",
     "status": "completed"
    },
    "tags": []
   },
   "source": [
    "# 4. <span title=\"A bit spicy\" style=\"color: darkgreen \">🌶️</span>\n",
    "\n",
    "Next to the Blackjack table, the Python Challenge Casino has a slot machine. You can get a result from the slot machine by calling `play_slot_machine()`. The number it returns is your winnings in dollars. Usually it returns 0.  But sometimes you'll get lucky and get a big payday. Try running it below:"
   ]
  },
  {
   "cell_type": "code",
   "execution_count": 10,
   "id": "a05f7f47",
   "metadata": {
    "execution": {
     "iopub.execute_input": "2024-02-15T05:08:14.362737Z",
     "iopub.status.busy": "2024-02-15T05:08:14.361983Z",
     "iopub.status.idle": "2024-02-15T05:08:14.368501Z",
     "shell.execute_reply": "2024-02-15T05:08:14.367142Z"
    },
    "papermill": {
     "duration": 0.018941,
     "end_time": "2024-02-15T05:08:14.370905",
     "exception": false,
     "start_time": "2024-02-15T05:08:14.351964",
     "status": "completed"
    },
    "tags": []
   },
   "outputs": [
    {
     "data": {
      "text/plain": [
       "0"
      ]
     },
     "execution_count": 10,
     "metadata": {},
     "output_type": "execute_result"
    }
   ],
   "source": [
    "play_slot_machine()"
   ]
  },
  {
   "cell_type": "markdown",
   "id": "7f05d53c",
   "metadata": {
    "papermill": {
     "duration": 0.008297,
     "end_time": "2024-02-15T05:08:14.387907",
     "exception": false,
     "start_time": "2024-02-15T05:08:14.379610",
     "status": "completed"
    },
    "tags": []
   },
   "source": [
    "By the way, did we mention that each play costs $1? Don't worry, we'll send you the bill later.\n",
    "\n",
    "On average, how much money can you expect to gain (or lose) every time you play the machine?  The casino keeps it a secret, but you can estimate the average value of each pull using a technique called the **Monte Carlo method**. To estimate the average outcome, we simulate the scenario many times, and return the average result.\n",
    "\n",
    "Complete the following function to calculate the average value per play of the slot machine."
   ]
  },
  {
   "cell_type": "code",
   "execution_count": 11,
   "id": "16f171ef",
   "metadata": {
    "execution": {
     "iopub.execute_input": "2024-02-15T05:08:14.406534Z",
     "iopub.status.busy": "2024-02-15T05:08:14.406089Z",
     "iopub.status.idle": "2024-02-15T05:08:14.411725Z",
     "shell.execute_reply": "2024-02-15T05:08:14.410423Z"
    },
    "papermill": {
     "duration": 0.018036,
     "end_time": "2024-02-15T05:08:14.414304",
     "exception": false,
     "start_time": "2024-02-15T05:08:14.396268",
     "status": "completed"
    },
    "tags": []
   },
   "outputs": [],
   "source": [
    "def estimate_average_slot_payout(n_runs):\n",
    "    \"\"\"Run the slot machine n_runs times and return the average net profit per run.\n",
    "    Example calls (note that return value is nondeterministic!):\n",
    "    >>> estimate_average_slot_payout(1)\n",
    "    -1\n",
    "    >>> estimate_average_slot_payout(1)\n",
    "    0.5\n",
    "    \"\"\"\n",
    "    pass"
   ]
  },
  {
   "cell_type": "markdown",
   "id": "0434c280",
   "metadata": {
    "papermill": {
     "duration": 0.008238,
     "end_time": "2024-02-15T05:08:14.431188",
     "exception": false,
     "start_time": "2024-02-15T05:08:14.422950",
     "status": "completed"
    },
    "tags": []
   },
   "source": [
    "When you think you know the expected value per spin, run the code cell below to view the solution and get credit for answering the question."
   ]
  },
  {
   "cell_type": "code",
   "execution_count": 12,
   "id": "7c8eb32d",
   "metadata": {
    "execution": {
     "iopub.execute_input": "2024-02-15T05:08:14.451228Z",
     "iopub.status.busy": "2024-02-15T05:08:14.450410Z",
     "iopub.status.idle": "2024-02-15T05:08:14.460334Z",
     "shell.execute_reply": "2024-02-15T05:08:14.459335Z"
    },
    "papermill": {
     "duration": 0.022937,
     "end_time": "2024-02-15T05:08:14.462807",
     "exception": false,
     "start_time": "2024-02-15T05:08:14.439870",
     "status": "completed"
    },
    "tags": []
   },
   "outputs": [
    {
     "data": {
      "application/javascript": [
       "parent.postMessage({\"jupyterEvent\": \"custom.exercise_interaction\", \"data\": {\"interactionType\": 3, \"questionType\": 4, \"questionId\": \"4_ExpectedSlotsPayout\", \"learnToolsVersion\": \"0.3.4\", \"valueTowardsCompletion\": 0.0, \"failureMessage\": \"\", \"exceptionClass\": \"\", \"trace\": \"\", \"outcomeType\": 4}}, \"*\")"
      ],
      "text/plain": [
       "<IPython.core.display.Javascript object>"
      ]
     },
     "metadata": {},
     "output_type": "display_data"
    },
    {
     "data": {
      "text/markdown": [
       "<span style=\"color:#33cc99\">Solution:</span> \n",
       "    \n",
       "The exact expected value of one pull of the slot machine is 0.025 - i.e. a little more than 2 cents.  See?  Not every game in the Python Challenge Casino is rigged against the player!\n",
       "\n",
       "In order to get this answer, you'll need to implement the `estimate_average_slot_payout(n_runs)` function to simulate pulling the slot machine `n_runs` times.  It should return the payout averaged over those `n_runs`.\n",
       "\n",
       "Then, once the function is defined, in order to estimate the average slot payout, we need only call the function.\n",
       "\n",
       "Because of the high variance of the outcome (there are some very rare high payout results that significantly affect the average) you might need to run your function with a very high value of `n_runs` to get a stable answer close to the true expectation.  For instance, you might use a value for `n_runs` of 1000000.\n",
       "\n",
       "Here's an example for how the function could look:\n",
       "```python\n",
       "def estimate_average_slot_payout(n_runs):\n",
       "    # Play slot machine n_runs times, calculate payout of each\n",
       "    payouts = [play_slot_machine()-1 for i in range(n_runs)]\n",
       "    # Calculate the average value\n",
       "    avg_payout = sum(payouts) / n_runs\n",
       "    return avg_payout\n",
       "    \n",
       "estimate_average_slot_payout(10000000)\n",
       "\n",
       "```\n",
       "\n",
       "This should return an answer close to 0.025!\n",
       "            \n"
      ],
      "text/plain": [
       "Solution: \n",
       "    \n",
       "The exact expected value of one pull of the slot machine is 0.025 - i.e. a little more than 2 cents.  See?  Not every game in the Python Challenge Casino is rigged against the player!\n",
       "\n",
       "In order to get this answer, you'll need to implement the `estimate_average_slot_payout(n_runs)` function to simulate pulling the slot machine `n_runs` times.  It should return the payout averaged over those `n_runs`.\n",
       "\n",
       "Then, once the function is defined, in order to estimate the average slot payout, we need only call the function.\n",
       "\n",
       "Because of the high variance of the outcome (there are some very rare high payout results that significantly affect the average) you might need to run your function with a very high value of `n_runs` to get a stable answer close to the true expectation.  For instance, you might use a value for `n_runs` of 1000000.\n",
       "\n",
       "Here's an example for how the function could look:\n",
       "```python\n",
       "def estimate_average_slot_payout(n_runs):\n",
       "    # Play slot machine n_runs times, calculate payout of each\n",
       "    payouts = [play_slot_machine()-1 for i in range(n_runs)]\n",
       "    # Calculate the average value\n",
       "    avg_payout = sum(payouts) / n_runs\n",
       "    return avg_payout\n",
       "    \n",
       "estimate_average_slot_payout(10000000)\n",
       "\n",
       "```\n",
       "\n",
       "This should return an answer close to 0.025!\n",
       "            "
      ]
     },
     "metadata": {},
     "output_type": "display_data"
    }
   ],
   "source": [
    "# Check your answer (Run this code cell to receive credit!)\n",
    "q4.solution()"
   ]
  },
  {
   "cell_type": "markdown",
   "id": "efe79185",
   "metadata": {
    "papermill": {
     "duration": 0.008779,
     "end_time": "2024-02-15T05:08:14.480601",
     "exception": false,
     "start_time": "2024-02-15T05:08:14.471822",
     "status": "completed"
    },
    "tags": []
   },
   "source": [
    "# Keep Going\n",
    "\n",
    "Many programmers report that dictionaries are their favorite data structure. You'll get to **[learn about them](https://www.kaggle.com/colinmorris/strings-and-dictionaries)** (as well as strings) in the next lesson."
   ]
  },
  {
   "cell_type": "markdown",
   "id": "29117ce8",
   "metadata": {
    "papermill": {
     "duration": 0.008611,
     "end_time": "2024-02-15T05:08:14.498422",
     "exception": false,
     "start_time": "2024-02-15T05:08:14.489811",
     "status": "completed"
    },
    "tags": []
   },
   "source": [
    "---\n",
    "\n",
    "\n",
    "\n",
    "\n",
    "*Have questions or comments? Visit the [course discussion forum](https://www.kaggle.com/learn/python/discussion) to chat with other learners.*"
   ]
  }
 ],
 "metadata": {
  "kaggle": {
   "accelerator": "none",
   "dataSources": [],
   "isGpuEnabled": false,
   "isInternetEnabled": false,
   "language": "python",
   "sourceType": "notebook"
  },
  "kernelspec": {
   "display_name": "Python 3",
   "language": "python",
   "name": "python3"
  },
  "language_info": {
   "codemirror_mode": {
    "name": "ipython",
    "version": 3
   },
   "file_extension": ".py",
   "mimetype": "text/x-python",
   "name": "python",
   "nbconvert_exporter": "python",
   "pygments_lexer": "ipython3",
   "version": "3.10.13"
  },
  "learntools_metadata": {
   "lesson_index": 4,
   "type": "exercise"
  },
  "papermill": {
   "default_parameters": {},
   "duration": 5.26134,
   "end_time": "2024-02-15T05:08:15.028231",
   "environment_variables": {},
   "exception": null,
   "input_path": "__notebook__.ipynb",
   "output_path": "__notebook__.ipynb",
   "parameters": {},
   "start_time": "2024-02-15T05:08:09.766891",
   "version": "2.5.0"
  }
 },
 "nbformat": 4,
 "nbformat_minor": 5
}
