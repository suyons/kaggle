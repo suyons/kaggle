{
 "cells": [
  {
   "cell_type": "markdown",
   "id": "56ad591b",
   "metadata": {
    "papermill": {
     "duration": 0.006174,
     "end_time": "2024-02-15T02:58:54.198019",
     "exception": false,
     "start_time": "2024-02-15T02:58:54.191845",
     "status": "completed"
    },
    "tags": []
   },
   "source": [
    "**This notebook is an exercise in the [Python](https://www.kaggle.com/learn/python) course.  You can reference the tutorial at [this link](https://www.kaggle.com/colinmorris/functions-and-getting-help).**\n",
    "\n",
    "---\n"
   ]
  },
  {
   "cell_type": "markdown",
   "id": "6391af60",
   "metadata": {
    "papermill": {
     "duration": 0.005216,
     "end_time": "2024-02-15T02:58:54.209010",
     "exception": false,
     "start_time": "2024-02-15T02:58:54.203794",
     "status": "completed"
    },
    "tags": []
   },
   "source": [
    "Functions are powerful. Try writing some yourself.\n",
    "\n",
    "As before, don't forget to run the setup code below before jumping into question 1."
   ]
  },
  {
   "cell_type": "code",
   "execution_count": 1,
   "id": "d141ec6f",
   "metadata": {
    "_kg_hide-input": true,
    "_kg_hide-output": true,
    "execution": {
     "iopub.execute_input": "2024-02-15T02:58:54.223089Z",
     "iopub.status.busy": "2024-02-15T02:58:54.222321Z",
     "iopub.status.idle": "2024-02-15T02:58:55.366222Z",
     "shell.execute_reply": "2024-02-15T02:58:55.364346Z"
    },
    "papermill": {
     "duration": 1.154729,
     "end_time": "2024-02-15T02:58:55.369352",
     "exception": false,
     "start_time": "2024-02-15T02:58:54.214623",
     "status": "completed"
    },
    "tags": []
   },
   "outputs": [
    {
     "name": "stdout",
     "output_type": "stream",
     "text": [
      "Setup complete.\n"
     ]
    }
   ],
   "source": [
    "# SETUP. You don't need to worry for now about what this code does or how it works.\n",
    "from learntools.core import binder; binder.bind(globals())\n",
    "from learntools.python.ex2 import *\n",
    "print('Setup complete.')"
   ]
  },
  {
   "cell_type": "markdown",
   "id": "46b89361",
   "metadata": {
    "papermill": {
     "duration": 0.005581,
     "end_time": "2024-02-15T02:58:55.380829",
     "exception": false,
     "start_time": "2024-02-15T02:58:55.375248",
     "status": "completed"
    },
    "tags": []
   },
   "source": [
    "# 1.\n",
    "\n",
    "Complete the body of the following function according to its docstring.\n",
    "\n",
    "HINT: Python has a built-in function `round`."
   ]
  },
  {
   "cell_type": "code",
   "execution_count": 2,
   "id": "2e17a489",
   "metadata": {
    "execution": {
     "iopub.execute_input": "2024-02-15T02:58:55.394821Z",
     "iopub.status.busy": "2024-02-15T02:58:55.394231Z",
     "iopub.status.idle": "2024-02-15T02:58:55.407180Z",
     "shell.execute_reply": "2024-02-15T02:58:55.405749Z"
    },
    "papermill": {
     "duration": 0.02316,
     "end_time": "2024-02-15T02:58:55.409784",
     "exception": false,
     "start_time": "2024-02-15T02:58:55.386624",
     "status": "completed"
    },
    "tags": []
   },
   "outputs": [
    {
     "data": {
      "application/javascript": [
       "parent.postMessage({\"jupyterEvent\": \"custom.exercise_interaction\", \"data\": {\"outcomeType\": 1, \"valueTowardsCompletion\": 0.16666666666666666, \"interactionType\": 1, \"questionType\": 2, \"questionId\": \"1_RoundFunctionProblem\", \"learnToolsVersion\": \"0.3.4\", \"failureMessage\": \"\", \"exceptionClass\": \"\", \"trace\": \"\"}}, \"*\")"
      ],
      "text/plain": [
       "<IPython.core.display.Javascript object>"
      ]
     },
     "metadata": {},
     "output_type": "display_data"
    },
    {
     "data": {
      "text/markdown": [
       "<span style=\"color:#33cc33\">Correct</span>"
      ],
      "text/plain": [
       "Correct"
      ]
     },
     "metadata": {},
     "output_type": "display_data"
    }
   ],
   "source": [
    "def round_to_two_places(num):\n",
    "    \"\"\"Return the given number rounded to two decimal places. \n",
    "    \n",
    "    >>> round_to_two_places(3.14159)\n",
    "    3.14\n",
    "    \"\"\"\n",
    "    # Replace this body with your own code.\n",
    "    # (\"pass\" is a keyword that does literally nothing. We used it as a placeholder\n",
    "    # because after we begin a code block, Python requires at least one line of code)\n",
    "    return round(num, 2)\n",
    "\n",
    "# help(round)\n",
    "# Check your answer\n",
    "q1.check()"
   ]
  },
  {
   "cell_type": "code",
   "execution_count": 3,
   "id": "47171655",
   "metadata": {
    "execution": {
     "iopub.execute_input": "2024-02-15T02:58:55.424321Z",
     "iopub.status.busy": "2024-02-15T02:58:55.423890Z",
     "iopub.status.idle": "2024-02-15T02:58:55.429211Z",
     "shell.execute_reply": "2024-02-15T02:58:55.427774Z"
    },
    "papermill": {
     "duration": 0.015832,
     "end_time": "2024-02-15T02:58:55.431891",
     "exception": false,
     "start_time": "2024-02-15T02:58:55.416059",
     "status": "completed"
    },
    "tags": []
   },
   "outputs": [],
   "source": [
    "# Uncomment the following for a hint\n",
    "# q1.hint()\n",
    "# Or uncomment the following to peek at the solution\n",
    "#q1.solution()"
   ]
  },
  {
   "cell_type": "markdown",
   "id": "040c480a",
   "metadata": {
    "papermill": {
     "duration": 0.005841,
     "end_time": "2024-02-15T02:58:55.443911",
     "exception": false,
     "start_time": "2024-02-15T02:58:55.438070",
     "status": "completed"
    },
    "tags": []
   },
   "source": [
    "# 2.\n",
    "The help for `round` says that `ndigits` (the second argument) may be negative.\n",
    "What do you think will happen when it is? Try some examples in the following cell."
   ]
  },
  {
   "cell_type": "code",
   "execution_count": 4,
   "id": "7bce1e0a",
   "metadata": {
    "execution": {
     "iopub.execute_input": "2024-02-15T02:58:55.458187Z",
     "iopub.status.busy": "2024-02-15T02:58:55.457768Z",
     "iopub.status.idle": "2024-02-15T02:58:55.466304Z",
     "shell.execute_reply": "2024-02-15T02:58:55.465043Z"
    },
    "papermill": {
     "duration": 0.019066,
     "end_time": "2024-02-15T02:58:55.468905",
     "exception": false,
     "start_time": "2024-02-15T02:58:55.449839",
     "status": "completed"
    },
    "tags": []
   },
   "outputs": [
    {
     "data": {
      "text/plain": [
       "1200.0"
      ]
     },
     "execution_count": 4,
     "metadata": {},
     "output_type": "execute_result"
    }
   ],
   "source": [
    "# Put your test code here\n",
    "round(1234.5678, -2)"
   ]
  },
  {
   "cell_type": "markdown",
   "id": "0b46e2ff",
   "metadata": {
    "papermill": {
     "duration": 0.005846,
     "end_time": "2024-02-15T02:58:55.481112",
     "exception": false,
     "start_time": "2024-02-15T02:58:55.475266",
     "status": "completed"
    },
    "tags": []
   },
   "source": [
    "Can you think of a case where this would be useful?  Once you're ready, run the code cell below to see the answer and to receive credit for completing the problem."
   ]
  },
  {
   "cell_type": "code",
   "execution_count": 5,
   "id": "fec30fde",
   "metadata": {
    "execution": {
     "iopub.execute_input": "2024-02-15T02:58:55.496628Z",
     "iopub.status.busy": "2024-02-15T02:58:55.496148Z",
     "iopub.status.idle": "2024-02-15T02:58:55.507661Z",
     "shell.execute_reply": "2024-02-15T02:58:55.506603Z"
    },
    "papermill": {
     "duration": 0.022401,
     "end_time": "2024-02-15T02:58:55.510130",
     "exception": false,
     "start_time": "2024-02-15T02:58:55.487729",
     "status": "completed"
    },
    "tags": []
   },
   "outputs": [
    {
     "data": {
      "application/javascript": [
       "parent.postMessage({\"jupyterEvent\": \"custom.exercise_interaction\", \"data\": {\"interactionType\": 3, \"questionType\": 4, \"questionId\": \"2_RoundNdigitsProblem\", \"learnToolsVersion\": \"0.3.4\", \"valueTowardsCompletion\": 0.0, \"failureMessage\": \"\", \"exceptionClass\": \"\", \"trace\": \"\", \"outcomeType\": 4}}, \"*\")"
      ],
      "text/plain": [
       "<IPython.core.display.Javascript object>"
      ]
     },
     "metadata": {},
     "output_type": "display_data"
    },
    {
     "data": {
      "text/markdown": [
       "<span style=\"color:#33cc99\">Solution:</span> As you've seen, `ndigits=-1` rounds to the nearest 10, `ndigits=-2` rounds to the nearest 100 and so on. Where might this be useful? Suppose we're dealing with large numbers:\n",
       "\n",
       "> The area of Finland is 338,424 km²  \n",
       "> The area of Greenland is 2,166,086 km²\n",
       "\n",
       "We probably don't care whether it's really 338,424, or 338,425, or 338,177. All those digits of accuracy are just distracting. We can chop them off by calling `round()` with `ndigits=-3`:\n",
       "\n",
       "> The area of Finland is 338,000 km²  \n",
       "> The area of Greenland is 2,166,000 km²\n",
       "\n",
       "(We'll talk about how we would get the commas later when we talk about string formatting :))\n"
      ],
      "text/plain": [
       "Solution: As you've seen, `ndigits=-1` rounds to the nearest 10, `ndigits=-2` rounds to the nearest 100 and so on. Where might this be useful? Suppose we're dealing with large numbers:\n",
       "\n",
       "> The area of Finland is 338,424 km²  \n",
       "> The area of Greenland is 2,166,086 km²\n",
       "\n",
       "We probably don't care whether it's really 338,424, or 338,425, or 338,177. All those digits of accuracy are just distracting. We can chop them off by calling `round()` with `ndigits=-3`:\n",
       "\n",
       "> The area of Finland is 338,000 km²  \n",
       "> The area of Greenland is 2,166,000 km²\n",
       "\n",
       "(We'll talk about how we would get the commas later when we talk about string formatting :))"
      ]
     },
     "metadata": {},
     "output_type": "display_data"
    }
   ],
   "source": [
    "# Check your answer (Run this code cell to receive credit!)\n",
    "q2.solution()"
   ]
  },
  {
   "cell_type": "markdown",
   "id": "c80d8d0f",
   "metadata": {
    "papermill": {
     "duration": 0.006037,
     "end_time": "2024-02-15T02:58:55.522607",
     "exception": false,
     "start_time": "2024-02-15T02:58:55.516570",
     "status": "completed"
    },
    "tags": []
   },
   "source": [
    "# 3.\n",
    "\n",
    "In the previous exercise, the candy-sharing friends Alice, Bob and Carol tried to split candies evenly. For the sake of their friendship, any candies left over would be smashed. For example, if they collectively bring home 91 candies, they'll take 30 each and smash 1.\n",
    "\n",
    "Below is a simple function that will calculate the number of candies to smash for *any* number of total candies.\n",
    "\n",
    "Modify it so that it optionally takes a second argument representing the number of friends the candies are being split between. If no second argument is provided, it should assume 3 friends, as before.\n",
    "\n",
    "Update the docstring to reflect this new behaviour."
   ]
  },
  {
   "cell_type": "code",
   "execution_count": 6,
   "id": "36cf24cc",
   "metadata": {
    "execution": {
     "iopub.execute_input": "2024-02-15T02:58:55.538899Z",
     "iopub.status.busy": "2024-02-15T02:58:55.538506Z",
     "iopub.status.idle": "2024-02-15T02:58:55.549088Z",
     "shell.execute_reply": "2024-02-15T02:58:55.547552Z"
    },
    "papermill": {
     "duration": 0.022816,
     "end_time": "2024-02-15T02:58:55.551880",
     "exception": false,
     "start_time": "2024-02-15T02:58:55.529064",
     "status": "completed"
    },
    "tags": []
   },
   "outputs": [
    {
     "data": {
      "application/javascript": [
       "parent.postMessage({\"jupyterEvent\": \"custom.exercise_interaction\", \"data\": {\"outcomeType\": 1, \"valueTowardsCompletion\": 0.16666666666666666, \"interactionType\": 1, \"questionType\": 2, \"questionId\": \"3_CandySmashingFunctionProblem\", \"learnToolsVersion\": \"0.3.4\", \"failureMessage\": \"\", \"exceptionClass\": \"\", \"trace\": \"\"}}, \"*\")"
      ],
      "text/plain": [
       "<IPython.core.display.Javascript object>"
      ]
     },
     "metadata": {},
     "output_type": "display_data"
    },
    {
     "data": {
      "text/markdown": [
       "<span style=\"color:#33cc33\">Correct</span>"
      ],
      "text/plain": [
       "Correct"
      ]
     },
     "metadata": {},
     "output_type": "display_data"
    }
   ],
   "source": [
    "def to_smash(total_candies, divider = 3):\n",
    "    \"\"\"Return the number of leftover candies that must be smashed after distributing\n",
    "    the given number of candies evenly between 3 friends.\n",
    "    \n",
    "    >>> to_smash(91)\n",
    "    1\n",
    "    \"\"\"\n",
    "    return total_candies % divider\n",
    "\n",
    "# Check your answer\n",
    "q3.check()"
   ]
  },
  {
   "cell_type": "code",
   "execution_count": 7,
   "id": "57b1dd71",
   "metadata": {
    "execution": {
     "iopub.execute_input": "2024-02-15T02:58:55.567422Z",
     "iopub.status.busy": "2024-02-15T02:58:55.566965Z",
     "iopub.status.idle": "2024-02-15T02:58:55.573146Z",
     "shell.execute_reply": "2024-02-15T02:58:55.571500Z"
    },
    "papermill": {
     "duration": 0.017515,
     "end_time": "2024-02-15T02:58:55.576143",
     "exception": false,
     "start_time": "2024-02-15T02:58:55.558628",
     "status": "completed"
    },
    "tags": []
   },
   "outputs": [],
   "source": [
    "# q3.hint()"
   ]
  },
  {
   "cell_type": "code",
   "execution_count": 8,
   "id": "7f5a8756",
   "metadata": {
    "execution": {
     "iopub.execute_input": "2024-02-15T02:58:55.592884Z",
     "iopub.status.busy": "2024-02-15T02:58:55.592337Z",
     "iopub.status.idle": "2024-02-15T02:58:55.598087Z",
     "shell.execute_reply": "2024-02-15T02:58:55.596293Z"
    },
    "papermill": {
     "duration": 0.017065,
     "end_time": "2024-02-15T02:58:55.600542",
     "exception": false,
     "start_time": "2024-02-15T02:58:55.583477",
     "status": "completed"
    },
    "tags": []
   },
   "outputs": [],
   "source": [
    "#q3.solution()"
   ]
  },
  {
   "cell_type": "markdown",
   "id": "5ebbd6ae",
   "metadata": {
    "papermill": {
     "duration": 0.006327,
     "end_time": "2024-02-15T02:58:55.613479",
     "exception": false,
     "start_time": "2024-02-15T02:58:55.607152",
     "status": "completed"
    },
    "tags": []
   },
   "source": [
    "# 4. (Optional)\n",
    "\n",
    "It may not be fun, but reading and understanding error messages will be an important part of your Python career.\n",
    "\n",
    "Each code cell below contains some commented buggy code. For each cell...\n",
    "\n",
    "1. Read the code and predict what you think will happen when it's run.\n",
    "2. Then uncomment the code and run it to see what happens. (**Tip**: In the kernel editor, you can highlight several lines and press `ctrl`+`/` to toggle commenting.)\n",
    "3. Fix the code (so that it accomplishes its intended purpose without throwing an exception)\n",
    "\n",
    "<!-- TODO: should this be autochecked? Delta is probably pretty small. -->"
   ]
  },
  {
   "cell_type": "code",
   "execution_count": 9,
   "id": "d696b878",
   "metadata": {
    "execution": {
     "iopub.execute_input": "2024-02-15T02:58:55.628596Z",
     "iopub.status.busy": "2024-02-15T02:58:55.628045Z",
     "iopub.status.idle": "2024-02-15T02:58:55.633642Z",
     "shell.execute_reply": "2024-02-15T02:58:55.632126Z"
    },
    "papermill": {
     "duration": 0.016365,
     "end_time": "2024-02-15T02:58:55.636192",
     "exception": false,
     "start_time": "2024-02-15T02:58:55.619827",
     "status": "completed"
    },
    "tags": []
   },
   "outputs": [],
   "source": [
    "# ruound_to_two_places(9.9999)"
   ]
  },
  {
   "cell_type": "code",
   "execution_count": 10,
   "id": "d606e608",
   "metadata": {
    "execution": {
     "iopub.execute_input": "2024-02-15T02:58:55.651433Z",
     "iopub.status.busy": "2024-02-15T02:58:55.650980Z",
     "iopub.status.idle": "2024-02-15T02:58:55.658693Z",
     "shell.execute_reply": "2024-02-15T02:58:55.657208Z"
    },
    "papermill": {
     "duration": 0.018863,
     "end_time": "2024-02-15T02:58:55.661408",
     "exception": false,
     "start_time": "2024-02-15T02:58:55.642545",
     "status": "completed"
    },
    "tags": []
   },
   "outputs": [
    {
     "data": {
      "text/plain": [
       "10.0"
      ]
     },
     "execution_count": 10,
     "metadata": {},
     "output_type": "execute_result"
    }
   ],
   "source": [
    "round_to_two_places(9.9999)"
   ]
  },
  {
   "cell_type": "code",
   "execution_count": 11,
   "id": "bd192d2d",
   "metadata": {
    "execution": {
     "iopub.execute_input": "2024-02-15T02:58:55.678184Z",
     "iopub.status.busy": "2024-02-15T02:58:55.677035Z",
     "iopub.status.idle": "2024-02-15T02:58:55.682686Z",
     "shell.execute_reply": "2024-02-15T02:58:55.681493Z"
    },
    "papermill": {
     "duration": 0.017135,
     "end_time": "2024-02-15T02:58:55.685156",
     "exception": false,
     "start_time": "2024-02-15T02:58:55.668021",
     "status": "completed"
    },
    "tags": []
   },
   "outputs": [],
   "source": [
    "# x = -10\n",
    "# y = 5\n",
    "# # Which of the two variables above has the smallest absolute value?\n",
    "# smallest_abs = min(abs(x, y))"
   ]
  },
  {
   "cell_type": "code",
   "execution_count": 12,
   "id": "dbfa809f",
   "metadata": {
    "execution": {
     "iopub.execute_input": "2024-02-15T02:58:55.700801Z",
     "iopub.status.busy": "2024-02-15T02:58:55.700091Z",
     "iopub.status.idle": "2024-02-15T02:58:55.709642Z",
     "shell.execute_reply": "2024-02-15T02:58:55.708426Z"
    },
    "papermill": {
     "duration": 0.020718,
     "end_time": "2024-02-15T02:58:55.712538",
     "exception": false,
     "start_time": "2024-02-15T02:58:55.691820",
     "status": "completed"
    },
    "tags": []
   },
   "outputs": [
    {
     "name": "stdout",
     "output_type": "stream",
     "text": [
      "5\n"
     ]
    }
   ],
   "source": [
    "x = -10\n",
    "y = 5\n",
    "# Which of the two variables above has the smallest absolute value?\n",
    "smallest_abs = min(abs(x), abs(y))\n",
    "print(smallest_abs)"
   ]
  },
  {
   "cell_type": "code",
   "execution_count": 13,
   "id": "a1941fdb",
   "metadata": {
    "execution": {
     "iopub.execute_input": "2024-02-15T02:58:55.729081Z",
     "iopub.status.busy": "2024-02-15T02:58:55.728235Z",
     "iopub.status.idle": "2024-02-15T02:58:55.734059Z",
     "shell.execute_reply": "2024-02-15T02:58:55.732240Z"
    },
    "papermill": {
     "duration": 0.017381,
     "end_time": "2024-02-15T02:58:55.737105",
     "exception": false,
     "start_time": "2024-02-15T02:58:55.719724",
     "status": "completed"
    },
    "tags": []
   },
   "outputs": [],
   "source": [
    "# def f(x):\n",
    "#     y = abs(x)\n",
    "# return y\n",
    "\n",
    "# print(f(5))"
   ]
  },
  {
   "cell_type": "code",
   "execution_count": 14,
   "id": "c5306b71",
   "metadata": {
    "execution": {
     "iopub.execute_input": "2024-02-15T02:58:55.754058Z",
     "iopub.status.busy": "2024-02-15T02:58:55.753044Z",
     "iopub.status.idle": "2024-02-15T02:58:55.759506Z",
     "shell.execute_reply": "2024-02-15T02:58:55.758325Z"
    },
    "papermill": {
     "duration": 0.017611,
     "end_time": "2024-02-15T02:58:55.761780",
     "exception": false,
     "start_time": "2024-02-15T02:58:55.744169",
     "status": "completed"
    },
    "tags": []
   },
   "outputs": [
    {
     "name": "stdout",
     "output_type": "stream",
     "text": [
      "5\n"
     ]
    }
   ],
   "source": [
    "def f(x):\n",
    "    y = abs(x)\n",
    "    return y\n",
    "\n",
    "print(f(5))"
   ]
  },
  {
   "cell_type": "markdown",
   "id": "803a03dc",
   "metadata": {
    "papermill": {
     "duration": 0.006462,
     "end_time": "2024-02-15T02:58:55.775050",
     "exception": false,
     "start_time": "2024-02-15T02:58:55.768588",
     "status": "completed"
    },
    "tags": []
   },
   "source": [
    "# Keep Going\n",
    "\n",
    "Nice job with the code. Next up, you'll learn about *conditionals*, which you'll need to **[write interesting programs](https://www.kaggle.com/colinmorris/booleans-and-conditionals)**. "
   ]
  },
  {
   "cell_type": "markdown",
   "id": "fd0ca200",
   "metadata": {
    "papermill": {
     "duration": 0.006336,
     "end_time": "2024-02-15T02:58:55.788900",
     "exception": false,
     "start_time": "2024-02-15T02:58:55.782564",
     "status": "completed"
    },
    "tags": []
   },
   "source": [
    "---\n",
    "\n",
    "\n",
    "\n",
    "\n",
    "*Have questions or comments? Visit the [course discussion forum](https://www.kaggle.com/learn/python/discussion) to chat with other learners.*"
   ]
  }
 ],
 "metadata": {
  "kaggle": {
   "accelerator": "none",
   "dataSources": [],
   "isGpuEnabled": false,
   "isInternetEnabled": false,
   "language": "python",
   "sourceType": "notebook"
  },
  "kernelspec": {
   "display_name": "Python 3",
   "language": "python",
   "name": "python3"
  },
  "language_info": {
   "codemirror_mode": {
    "name": "ipython",
    "version": 3
   },
   "file_extension": ".py",
   "mimetype": "text/x-python",
   "name": "python",
   "nbconvert_exporter": "python",
   "pygments_lexer": "ipython3",
   "version": "3.10.13"
  },
  "learntools_metadata": {
   "lesson_index": 1,
   "type": "exercise"
  },
  "papermill": {
   "default_parameters": {},
   "duration": 5.301194,
   "end_time": "2024-02-15T02:58:56.319713",
   "environment_variables": {},
   "exception": null,
   "input_path": "__notebook__.ipynb",
   "output_path": "__notebook__.ipynb",
   "parameters": {},
   "start_time": "2024-02-15T02:58:51.018519",
   "version": "2.5.0"
  }
 },
 "nbformat": 4,
 "nbformat_minor": 5
}
