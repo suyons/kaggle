{
 "cells": [
  {
   "cell_type": "markdown",
   "id": "c2a903dd",
   "metadata": {
    "papermill": {
     "duration": 0.006303,
     "end_time": "2024-02-15T02:45:02.800427",
     "exception": false,
     "start_time": "2024-02-15T02:45:02.794124",
     "status": "completed"
    },
    "tags": []
   },
   "source": [
    "**This notebook is an exercise in the [Python](https://www.kaggle.com/learn/python) course.  You can reference the tutorial at [this link](https://www.kaggle.com/colinmorris/functions-and-getting-help).**\n",
    "\n",
    "---\n"
   ]
  },
  {
   "cell_type": "markdown",
   "id": "ba1db6f2",
   "metadata": {
    "papermill": {
     "duration": 0.005556,
     "end_time": "2024-02-15T02:45:02.812114",
     "exception": false,
     "start_time": "2024-02-15T02:45:02.806558",
     "status": "completed"
    },
    "tags": []
   },
   "source": [
    "Functions are powerful. Try writing some yourself.\n",
    "\n",
    "As before, don't forget to run the setup code below before jumping into question 1."
   ]
  },
  {
   "cell_type": "code",
   "execution_count": 1,
   "id": "efccbf98",
   "metadata": {
    "_kg_hide-input": true,
    "_kg_hide-output": true,
    "execution": {
     "iopub.execute_input": "2024-02-15T02:45:02.826423Z",
     "iopub.status.busy": "2024-02-15T02:45:02.825498Z",
     "iopub.status.idle": "2024-02-15T02:45:03.879580Z",
     "shell.execute_reply": "2024-02-15T02:45:03.878209Z"
    },
    "papermill": {
     "duration": 1.064148,
     "end_time": "2024-02-15T02:45:03.882158",
     "exception": false,
     "start_time": "2024-02-15T02:45:02.818010",
     "status": "completed"
    },
    "tags": []
   },
   "outputs": [
    {
     "name": "stdout",
     "output_type": "stream",
     "text": [
      "Setup complete.\n"
     ]
    }
   ],
   "source": [
    "# SETUP. You don't need to worry for now about what this code does or how it works.\n",
    "from learntools.core import binder; binder.bind(globals())\n",
    "from learntools.python.ex2 import *\n",
    "print('Setup complete.')"
   ]
  },
  {
   "cell_type": "markdown",
   "id": "2fb2d8f3",
   "metadata": {
    "papermill": {
     "duration": 0.005555,
     "end_time": "2024-02-15T02:45:03.893848",
     "exception": false,
     "start_time": "2024-02-15T02:45:03.888293",
     "status": "completed"
    },
    "tags": []
   },
   "source": [
    "# 1.\n",
    "\n",
    "Complete the body of the following function according to its docstring.\n",
    "\n",
    "HINT: Python has a built-in function `round`."
   ]
  },
  {
   "cell_type": "code",
   "execution_count": 2,
   "id": "64df6a12",
   "metadata": {
    "execution": {
     "iopub.execute_input": "2024-02-15T02:45:03.908310Z",
     "iopub.status.busy": "2024-02-15T02:45:03.907422Z",
     "iopub.status.idle": "2024-02-15T02:45:03.918834Z",
     "shell.execute_reply": "2024-02-15T02:45:03.917694Z"
    },
    "papermill": {
     "duration": 0.021255,
     "end_time": "2024-02-15T02:45:03.921098",
     "exception": false,
     "start_time": "2024-02-15T02:45:03.899843",
     "status": "completed"
    },
    "tags": []
   },
   "outputs": [
    {
     "data": {
      "application/javascript": [
       "parent.postMessage({\"jupyterEvent\": \"custom.exercise_interaction\", \"data\": {\"outcomeType\": 4, \"interactionType\": 1, \"questionType\": 2, \"questionId\": \"1_RoundFunctionProblem\", \"learnToolsVersion\": \"0.3.4\", \"valueTowardsCompletion\": 0.0, \"failureMessage\": \"\", \"exceptionClass\": \"\", \"trace\": \"\"}}, \"*\")"
      ],
      "text/plain": [
       "<IPython.core.display.Javascript object>"
      ]
     },
     "metadata": {},
     "output_type": "display_data"
    },
    {
     "data": {
      "text/markdown": [
       "<span style=\"color:#ccaa33\">Check:</span> When you've updated the starter code, `check()` will tell you whether your code is correct. "
      ],
      "text/plain": [
       "Check: When you've updated the starter code, `check()` will tell you whether your code is correct. "
      ]
     },
     "metadata": {},
     "output_type": "display_data"
    }
   ],
   "source": [
    "def round_to_two_places(num):\n",
    "    \"\"\"Return the given number rounded to two decimal places. \n",
    "    \n",
    "    >>> round_to_two_places(3.14159)\n",
    "    3.14\n",
    "    \"\"\"\n",
    "    # Replace this body with your own code.\n",
    "    # (\"pass\" is a keyword that does literally nothing. We used it as a placeholder\n",
    "    # because after we begin a code block, Python requires at least one line of code)\n",
    "    pass\n",
    "\n",
    "# Check your answer\n",
    "q1.check()"
   ]
  },
  {
   "cell_type": "code",
   "execution_count": 3,
   "id": "5eeca7ab",
   "metadata": {
    "execution": {
     "iopub.execute_input": "2024-02-15T02:45:03.935946Z",
     "iopub.status.busy": "2024-02-15T02:45:03.935281Z",
     "iopub.status.idle": "2024-02-15T02:45:03.939771Z",
     "shell.execute_reply": "2024-02-15T02:45:03.938891Z"
    },
    "papermill": {
     "duration": 0.0147,
     "end_time": "2024-02-15T02:45:03.942094",
     "exception": false,
     "start_time": "2024-02-15T02:45:03.927394",
     "status": "completed"
    },
    "tags": []
   },
   "outputs": [],
   "source": [
    "# Uncomment the following for a hint\n",
    "#q1.hint()\n",
    "# Or uncomment the following to peek at the solution\n",
    "#q1.solution()"
   ]
  },
  {
   "cell_type": "markdown",
   "id": "4f844cea",
   "metadata": {
    "papermill": {
     "duration": 0.006045,
     "end_time": "2024-02-15T02:45:03.954540",
     "exception": false,
     "start_time": "2024-02-15T02:45:03.948495",
     "status": "completed"
    },
    "tags": []
   },
   "source": [
    "# 2.\n",
    "The help for `round` says that `ndigits` (the second argument) may be negative.\n",
    "What do you think will happen when it is? Try some examples in the following cell."
   ]
  },
  {
   "cell_type": "code",
   "execution_count": 4,
   "id": "8d093721",
   "metadata": {
    "execution": {
     "iopub.execute_input": "2024-02-15T02:45:03.969582Z",
     "iopub.status.busy": "2024-02-15T02:45:03.968616Z",
     "iopub.status.idle": "2024-02-15T02:45:03.973633Z",
     "shell.execute_reply": "2024-02-15T02:45:03.972502Z"
    },
    "papermill": {
     "duration": 0.014926,
     "end_time": "2024-02-15T02:45:03.975916",
     "exception": false,
     "start_time": "2024-02-15T02:45:03.960990",
     "status": "completed"
    },
    "tags": []
   },
   "outputs": [],
   "source": [
    "# Put your test code here"
   ]
  },
  {
   "cell_type": "markdown",
   "id": "cdcde799",
   "metadata": {
    "papermill": {
     "duration": 0.005982,
     "end_time": "2024-02-15T02:45:03.988293",
     "exception": false,
     "start_time": "2024-02-15T02:45:03.982311",
     "status": "completed"
    },
    "tags": []
   },
   "source": [
    "Can you think of a case where this would be useful?  Once you're ready, run the code cell below to see the answer and to receive credit for completing the problem."
   ]
  },
  {
   "cell_type": "code",
   "execution_count": 5,
   "id": "ca334c05",
   "metadata": {
    "execution": {
     "iopub.execute_input": "2024-02-15T02:45:04.004559Z",
     "iopub.status.busy": "2024-02-15T02:45:04.004152Z",
     "iopub.status.idle": "2024-02-15T02:45:04.013676Z",
     "shell.execute_reply": "2024-02-15T02:45:04.012592Z"
    },
    "papermill": {
     "duration": 0.021208,
     "end_time": "2024-02-15T02:45:04.015895",
     "exception": false,
     "start_time": "2024-02-15T02:45:03.994687",
     "status": "completed"
    },
    "tags": []
   },
   "outputs": [
    {
     "data": {
      "application/javascript": [
       "parent.postMessage({\"jupyterEvent\": \"custom.exercise_interaction\", \"data\": {\"interactionType\": 3, \"questionType\": 4, \"questionId\": \"2_RoundNdigitsProblem\", \"learnToolsVersion\": \"0.3.4\", \"valueTowardsCompletion\": 0.0, \"failureMessage\": \"\", \"exceptionClass\": \"\", \"trace\": \"\", \"outcomeType\": 4}}, \"*\")"
      ],
      "text/plain": [
       "<IPython.core.display.Javascript object>"
      ]
     },
     "metadata": {},
     "output_type": "display_data"
    },
    {
     "data": {
      "text/markdown": [
       "<span style=\"color:#33cc99\">Solution:</span> As you've seen, `ndigits=-1` rounds to the nearest 10, `ndigits=-2` rounds to the nearest 100 and so on. Where might this be useful? Suppose we're dealing with large numbers:\n",
       "\n",
       "> The area of Finland is 338,424 km²  \n",
       "> The area of Greenland is 2,166,086 km²\n",
       "\n",
       "We probably don't care whether it's really 338,424, or 338,425, or 338,177. All those digits of accuracy are just distracting. We can chop them off by calling `round()` with `ndigits=-3`:\n",
       "\n",
       "> The area of Finland is 338,000 km²  \n",
       "> The area of Greenland is 2,166,000 km²\n",
       "\n",
       "(We'll talk about how we would get the commas later when we talk about string formatting :))\n"
      ],
      "text/plain": [
       "Solution: As you've seen, `ndigits=-1` rounds to the nearest 10, `ndigits=-2` rounds to the nearest 100 and so on. Where might this be useful? Suppose we're dealing with large numbers:\n",
       "\n",
       "> The area of Finland is 338,424 km²  \n",
       "> The area of Greenland is 2,166,086 km²\n",
       "\n",
       "We probably don't care whether it's really 338,424, or 338,425, or 338,177. All those digits of accuracy are just distracting. We can chop them off by calling `round()` with `ndigits=-3`:\n",
       "\n",
       "> The area of Finland is 338,000 km²  \n",
       "> The area of Greenland is 2,166,000 km²\n",
       "\n",
       "(We'll talk about how we would get the commas later when we talk about string formatting :))"
      ]
     },
     "metadata": {},
     "output_type": "display_data"
    }
   ],
   "source": [
    "# Check your answer (Run this code cell to receive credit!)\n",
    "q2.solution()"
   ]
  },
  {
   "cell_type": "markdown",
   "id": "10bd9f85",
   "metadata": {
    "papermill": {
     "duration": 0.006473,
     "end_time": "2024-02-15T02:45:04.029301",
     "exception": false,
     "start_time": "2024-02-15T02:45:04.022828",
     "status": "completed"
    },
    "tags": []
   },
   "source": [
    "# 3.\n",
    "\n",
    "In the previous exercise, the candy-sharing friends Alice, Bob and Carol tried to split candies evenly. For the sake of their friendship, any candies left over would be smashed. For example, if they collectively bring home 91 candies, they'll take 30 each and smash 1.\n",
    "\n",
    "Below is a simple function that will calculate the number of candies to smash for *any* number of total candies.\n",
    "\n",
    "Modify it so that it optionally takes a second argument representing the number of friends the candies are being split between. If no second argument is provided, it should assume 3 friends, as before.\n",
    "\n",
    "Update the docstring to reflect this new behaviour."
   ]
  },
  {
   "cell_type": "code",
   "execution_count": 6,
   "id": "09aeb8f5",
   "metadata": {
    "execution": {
     "iopub.execute_input": "2024-02-15T02:45:04.045298Z",
     "iopub.status.busy": "2024-02-15T02:45:04.044849Z",
     "iopub.status.idle": "2024-02-15T02:45:04.054163Z",
     "shell.execute_reply": "2024-02-15T02:45:04.053344Z"
    },
    "papermill": {
     "duration": 0.019812,
     "end_time": "2024-02-15T02:45:04.056158",
     "exception": false,
     "start_time": "2024-02-15T02:45:04.036346",
     "status": "completed"
    },
    "tags": []
   },
   "outputs": [
    {
     "data": {
      "application/javascript": [
       "parent.postMessage({\"jupyterEvent\": \"custom.exercise_interaction\", \"data\": {\"outcomeType\": 2, \"failureMessage\": \"`to_smash` should be callable with two arguments (e.g. `to_smash(10, 2)`\", \"interactionType\": 1, \"questionType\": 2, \"questionId\": \"3_CandySmashingFunctionProblem\", \"learnToolsVersion\": \"0.3.4\", \"valueTowardsCompletion\": 0.0, \"exceptionClass\": \"\", \"trace\": \"\"}}, \"*\")"
      ],
      "text/plain": [
       "<IPython.core.display.Javascript object>"
      ]
     },
     "metadata": {},
     "output_type": "display_data"
    },
    {
     "data": {
      "text/markdown": [
       "<span style=\"color:#cc3333\">Incorrect:</span> `to_smash` should be callable with two arguments (e.g. `to_smash(10, 2)`"
      ],
      "text/plain": [
       "Incorrect: `to_smash` should be callable with two arguments (e.g. `to_smash(10, 2)`"
      ]
     },
     "metadata": {},
     "output_type": "display_data"
    }
   ],
   "source": [
    "def to_smash(total_candies):\n",
    "    \"\"\"Return the number of leftover candies that must be smashed after distributing\n",
    "    the given number of candies evenly between 3 friends.\n",
    "    \n",
    "    >>> to_smash(91)\n",
    "    1\n",
    "    \"\"\"\n",
    "    return total_candies % 3\n",
    "\n",
    "# Check your answer\n",
    "q3.check()"
   ]
  },
  {
   "cell_type": "code",
   "execution_count": 7,
   "id": "ab05e7e0",
   "metadata": {
    "execution": {
     "iopub.execute_input": "2024-02-15T02:45:04.072544Z",
     "iopub.status.busy": "2024-02-15T02:45:04.072151Z",
     "iopub.status.idle": "2024-02-15T02:45:04.077035Z",
     "shell.execute_reply": "2024-02-15T02:45:04.075827Z"
    },
    "papermill": {
     "duration": 0.016048,
     "end_time": "2024-02-15T02:45:04.079453",
     "exception": false,
     "start_time": "2024-02-15T02:45:04.063405",
     "status": "completed"
    },
    "tags": []
   },
   "outputs": [],
   "source": [
    "#q3.hint()"
   ]
  },
  {
   "cell_type": "code",
   "execution_count": 8,
   "id": "8700b802",
   "metadata": {
    "execution": {
     "iopub.execute_input": "2024-02-15T02:45:04.096080Z",
     "iopub.status.busy": "2024-02-15T02:45:04.095657Z",
     "iopub.status.idle": "2024-02-15T02:45:04.100798Z",
     "shell.execute_reply": "2024-02-15T02:45:04.099590Z"
    },
    "papermill": {
     "duration": 0.016391,
     "end_time": "2024-02-15T02:45:04.103234",
     "exception": false,
     "start_time": "2024-02-15T02:45:04.086843",
     "status": "completed"
    },
    "tags": []
   },
   "outputs": [],
   "source": [
    "#q3.solution()"
   ]
  },
  {
   "cell_type": "markdown",
   "id": "0a1f152c",
   "metadata": {
    "papermill": {
     "duration": 0.007112,
     "end_time": "2024-02-15T02:45:04.118064",
     "exception": false,
     "start_time": "2024-02-15T02:45:04.110952",
     "status": "completed"
    },
    "tags": []
   },
   "source": [
    "# 4. (Optional)\n",
    "\n",
    "It may not be fun, but reading and understanding error messages will be an important part of your Python career.\n",
    "\n",
    "Each code cell below contains some commented buggy code. For each cell...\n",
    "\n",
    "1. Read the code and predict what you think will happen when it's run.\n",
    "2. Then uncomment the code and run it to see what happens. (**Tip**: In the kernel editor, you can highlight several lines and press `ctrl`+`/` to toggle commenting.)\n",
    "3. Fix the code (so that it accomplishes its intended purpose without throwing an exception)\n",
    "\n",
    "<!-- TODO: should this be autochecked? Delta is probably pretty small. -->"
   ]
  },
  {
   "cell_type": "code",
   "execution_count": 9,
   "id": "6e83e901",
   "metadata": {
    "execution": {
     "iopub.execute_input": "2024-02-15T02:45:04.135899Z",
     "iopub.status.busy": "2024-02-15T02:45:04.135504Z",
     "iopub.status.idle": "2024-02-15T02:45:04.140957Z",
     "shell.execute_reply": "2024-02-15T02:45:04.139423Z"
    },
    "papermill": {
     "duration": 0.017836,
     "end_time": "2024-02-15T02:45:04.143571",
     "exception": false,
     "start_time": "2024-02-15T02:45:04.125735",
     "status": "completed"
    },
    "tags": []
   },
   "outputs": [],
   "source": [
    "# ruound_to_two_places(9.9999)"
   ]
  },
  {
   "cell_type": "code",
   "execution_count": 10,
   "id": "b2e0e88d",
   "metadata": {
    "execution": {
     "iopub.execute_input": "2024-02-15T02:45:04.161071Z",
     "iopub.status.busy": "2024-02-15T02:45:04.160630Z",
     "iopub.status.idle": "2024-02-15T02:45:04.165717Z",
     "shell.execute_reply": "2024-02-15T02:45:04.164439Z"
    },
    "papermill": {
     "duration": 0.017066,
     "end_time": "2024-02-15T02:45:04.168259",
     "exception": false,
     "start_time": "2024-02-15T02:45:04.151193",
     "status": "completed"
    },
    "tags": []
   },
   "outputs": [],
   "source": [
    "# x = -10\n",
    "# y = 5\n",
    "# # Which of the two variables above has the smallest absolute value?\n",
    "# smallest_abs = min(abs(x, y))"
   ]
  },
  {
   "cell_type": "code",
   "execution_count": 11,
   "id": "e5270a04",
   "metadata": {
    "execution": {
     "iopub.execute_input": "2024-02-15T02:45:04.185839Z",
     "iopub.status.busy": "2024-02-15T02:45:04.185417Z",
     "iopub.status.idle": "2024-02-15T02:45:04.190392Z",
     "shell.execute_reply": "2024-02-15T02:45:04.189388Z"
    },
    "papermill": {
     "duration": 0.016555,
     "end_time": "2024-02-15T02:45:04.192694",
     "exception": false,
     "start_time": "2024-02-15T02:45:04.176139",
     "status": "completed"
    },
    "tags": []
   },
   "outputs": [],
   "source": [
    "# def f(x):\n",
    "#     y = abs(x)\n",
    "# return y\n",
    "\n",
    "# print(f(5))"
   ]
  },
  {
   "cell_type": "markdown",
   "id": "a0d852ba",
   "metadata": {
    "papermill": {
     "duration": 0.007498,
     "end_time": "2024-02-15T02:45:04.207977",
     "exception": false,
     "start_time": "2024-02-15T02:45:04.200479",
     "status": "completed"
    },
    "tags": []
   },
   "source": [
    "# Keep Going\n",
    "\n",
    "Nice job with the code. Next up, you'll learn about *conditionals*, which you'll need to **[write interesting programs](https://www.kaggle.com/colinmorris/booleans-and-conditionals)**. "
   ]
  },
  {
   "cell_type": "markdown",
   "id": "688b9054",
   "metadata": {
    "papermill": {
     "duration": 0.007261,
     "end_time": "2024-02-15T02:45:04.222824",
     "exception": false,
     "start_time": "2024-02-15T02:45:04.215563",
     "status": "completed"
    },
    "tags": []
   },
   "source": [
    "---\n",
    "\n",
    "\n",
    "\n",
    "\n",
    "*Have questions or comments? Visit the [course discussion forum](https://www.kaggle.com/learn/python/discussion) to chat with other learners.*"
   ]
  }
 ],
 "metadata": {
  "kaggle": {
   "accelerator": "none",
   "dataSources": [],
   "isGpuEnabled": false,
   "isInternetEnabled": false,
   "language": "python",
   "sourceType": "notebook"
  },
  "kernelspec": {
   "display_name": "Python 3",
   "language": "python",
   "name": "python3"
  },
  "language_info": {
   "codemirror_mode": {
    "name": "ipython",
    "version": 3
   },
   "file_extension": ".py",
   "mimetype": "text/x-python",
   "name": "python",
   "nbconvert_exporter": "python",
   "pygments_lexer": "ipython3",
   "version": "3.10.13"
  },
  "learntools_metadata": {
   "lesson_index": 1,
   "type": "exercise"
  },
  "papermill": {
   "default_parameters": {},
   "duration": 5.570002,
   "end_time": "2024-02-15T02:45:04.751637",
   "environment_variables": {},
   "exception": null,
   "input_path": "__notebook__.ipynb",
   "output_path": "__notebook__.ipynb",
   "parameters": {},
   "start_time": "2024-02-15T02:44:59.181635",
   "version": "2.5.0"
  }
 },
 "nbformat": 4,
 "nbformat_minor": 5
}
