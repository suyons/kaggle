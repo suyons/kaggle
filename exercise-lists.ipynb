{
 "cells": [
  {
   "cell_type": "markdown",
   "id": "0c2372fe",
   "metadata": {
    "papermill": {
     "duration": 0.006977,
     "end_time": "2024-02-15T04:18:02.016452",
     "exception": false,
     "start_time": "2024-02-15T04:18:02.009475",
     "status": "completed"
    },
    "tags": []
   },
   "source": [
    "**This notebook is an exercise in the [Python](https://www.kaggle.com/learn/python) course.  You can reference the tutorial at [this link](https://www.kaggle.com/colinmorris/lists).**\n",
    "\n",
    "---\n"
   ]
  },
  {
   "cell_type": "markdown",
   "id": "a122eb2f",
   "metadata": {
    "papermill": {
     "duration": 0.006591,
     "end_time": "2024-02-15T04:18:02.029867",
     "exception": false,
     "start_time": "2024-02-15T04:18:02.023276",
     "status": "completed"
    },
    "tags": []
   },
   "source": [
    "Things get more interesting with lists. You'll apply your new knowledge to solve the questions below. Remember to run the following cell first."
   ]
  },
  {
   "cell_type": "code",
   "execution_count": 1,
   "id": "a98c2013",
   "metadata": {
    "execution": {
     "iopub.execute_input": "2024-02-15T04:18:02.045516Z",
     "iopub.status.busy": "2024-02-15T04:18:02.045110Z",
     "iopub.status.idle": "2024-02-15T04:18:02.994176Z",
     "shell.execute_reply": "2024-02-15T04:18:02.993183Z"
    },
    "papermill": {
     "duration": 0.960361,
     "end_time": "2024-02-15T04:18:02.996732",
     "exception": false,
     "start_time": "2024-02-15T04:18:02.036371",
     "status": "completed"
    },
    "tags": []
   },
   "outputs": [
    {
     "name": "stdout",
     "output_type": "stream",
     "text": [
      "Setup complete.\n"
     ]
    }
   ],
   "source": [
    "from learntools.core import binder; binder.bind(globals())\n",
    "from learntools.python.ex4 import *\n",
    "print('Setup complete.')"
   ]
  },
  {
   "cell_type": "markdown",
   "id": "ef6cf6f0",
   "metadata": {
    "papermill": {
     "duration": 0.00625,
     "end_time": "2024-02-15T04:18:03.009735",
     "exception": false,
     "start_time": "2024-02-15T04:18:03.003485",
     "status": "completed"
    },
    "tags": []
   },
   "source": [
    "# 1.\n",
    "\n",
    "Complete the function below according to its docstring."
   ]
  },
  {
   "cell_type": "code",
   "execution_count": 2,
   "id": "c4658182",
   "metadata": {
    "execution": {
     "iopub.execute_input": "2024-02-15T04:18:03.025608Z",
     "iopub.status.busy": "2024-02-15T04:18:03.024633Z",
     "iopub.status.idle": "2024-02-15T04:18:03.036453Z",
     "shell.execute_reply": "2024-02-15T04:18:03.035367Z"
    },
    "papermill": {
     "duration": 0.02269,
     "end_time": "2024-02-15T04:18:03.039032",
     "exception": false,
     "start_time": "2024-02-15T04:18:03.016342",
     "status": "completed"
    },
    "tags": []
   },
   "outputs": [
    {
     "data": {
      "application/javascript": [
       "parent.postMessage({\"jupyterEvent\": \"custom.exercise_interaction\", \"data\": {\"outcomeType\": 1, \"valueTowardsCompletion\": 0.2, \"interactionType\": 1, \"questionType\": 2, \"questionId\": \"1_SelectSecondItem\", \"learnToolsVersion\": \"0.3.4\", \"failureMessage\": \"\", \"exceptionClass\": \"\", \"trace\": \"\"}}, \"*\")"
      ],
      "text/plain": [
       "<IPython.core.display.Javascript object>"
      ]
     },
     "metadata": {},
     "output_type": "display_data"
    },
    {
     "data": {
      "text/markdown": [
       "<span style=\"color:#33cc33\">Correct</span>"
      ],
      "text/plain": [
       "Correct"
      ]
     },
     "metadata": {},
     "output_type": "display_data"
    }
   ],
   "source": [
    "def select_second(L):\n",
    "    \"\"\"Return the second element of the given list. If the list has no second\n",
    "    element, return None.\n",
    "    \"\"\"\n",
    "    return L[1] if len(L) >= 2 else None\n",
    "\n",
    "# Check your answer\n",
    "q1.check()"
   ]
  },
  {
   "cell_type": "code",
   "execution_count": 3,
   "id": "bbcc8ea5",
   "metadata": {
    "execution": {
     "iopub.execute_input": "2024-02-15T04:18:03.055340Z",
     "iopub.status.busy": "2024-02-15T04:18:03.054374Z",
     "iopub.status.idle": "2024-02-15T04:18:03.059057Z",
     "shell.execute_reply": "2024-02-15T04:18:03.058092Z"
    },
    "papermill": {
     "duration": 0.015138,
     "end_time": "2024-02-15T04:18:03.061373",
     "exception": false,
     "start_time": "2024-02-15T04:18:03.046235",
     "status": "completed"
    },
    "tags": []
   },
   "outputs": [],
   "source": [
    "# q1.hint()\n",
    "# q1.solution()"
   ]
  },
  {
   "cell_type": "markdown",
   "id": "673c70ed",
   "metadata": {
    "papermill": {
     "duration": 0.006639,
     "end_time": "2024-02-15T04:18:03.075104",
     "exception": false,
     "start_time": "2024-02-15T04:18:03.068465",
     "status": "completed"
    },
    "tags": []
   },
   "source": [
    "# 2.\n",
    "\n",
    "You are analyzing sports teams.  Members of each team are stored in a list. The Coach is the first name in the list, the captain is the second name in the list, and other players are listed after that. \n",
    "These lists are stored in another list, which starts with the best team and proceeds through the list to the worst team last.  Complete the function below to select the **captain** of the worst team."
   ]
  },
  {
   "cell_type": "code",
   "execution_count": 4,
   "id": "8db575c9",
   "metadata": {
    "execution": {
     "iopub.execute_input": "2024-02-15T04:18:03.091040Z",
     "iopub.status.busy": "2024-02-15T04:18:03.090593Z",
     "iopub.status.idle": "2024-02-15T04:18:03.100348Z",
     "shell.execute_reply": "2024-02-15T04:18:03.099013Z"
    },
    "papermill": {
     "duration": 0.020715,
     "end_time": "2024-02-15T04:18:03.102715",
     "exception": false,
     "start_time": "2024-02-15T04:18:03.082000",
     "status": "completed"
    },
    "tags": []
   },
   "outputs": [
    {
     "data": {
      "application/javascript": [
       "parent.postMessage({\"jupyterEvent\": \"custom.exercise_interaction\", \"data\": {\"outcomeType\": 1, \"valueTowardsCompletion\": 0.2, \"interactionType\": 1, \"questionType\": 2, \"questionId\": \"2_LosingTeamCaptain\", \"learnToolsVersion\": \"0.3.4\", \"failureMessage\": \"\", \"exceptionClass\": \"\", \"trace\": \"\"}}, \"*\")"
      ],
      "text/plain": [
       "<IPython.core.display.Javascript object>"
      ]
     },
     "metadata": {},
     "output_type": "display_data"
    },
    {
     "data": {
      "text/markdown": [
       "<span style=\"color:#33cc33\">Correct</span>"
      ],
      "text/plain": [
       "Correct"
      ]
     },
     "metadata": {},
     "output_type": "display_data"
    }
   ],
   "source": [
    "def losing_team_captain(teams):\n",
    "    \"\"\"Given a list of teams, where each team is a list of names, return the 2nd player (captain)\n",
    "    from the last listed team\n",
    "    \"\"\"\n",
    "    return teams[-1][1]\n",
    "\n",
    "# Check your answer\n",
    "q2.check()"
   ]
  },
  {
   "cell_type": "code",
   "execution_count": 5,
   "id": "c95ae6e0",
   "metadata": {
    "execution": {
     "iopub.execute_input": "2024-02-15T04:18:03.119516Z",
     "iopub.status.busy": "2024-02-15T04:18:03.118995Z",
     "iopub.status.idle": "2024-02-15T04:18:03.123539Z",
     "shell.execute_reply": "2024-02-15T04:18:03.122429Z"
    },
    "papermill": {
     "duration": 0.015547,
     "end_time": "2024-02-15T04:18:03.125717",
     "exception": false,
     "start_time": "2024-02-15T04:18:03.110170",
     "status": "completed"
    },
    "tags": []
   },
   "outputs": [],
   "source": [
    "# q2.hint()\n",
    "# q2.solution()"
   ]
  },
  {
   "cell_type": "markdown",
   "id": "23b354db",
   "metadata": {
    "papermill": {
     "duration": 0.006983,
     "end_time": "2024-02-15T04:18:03.140009",
     "exception": false,
     "start_time": "2024-02-15T04:18:03.133026",
     "status": "completed"
    },
    "tags": []
   },
   "source": [
    "# 3.\n",
    "\n",
    "The next iteration of Mario Kart will feature an extra-infuriating new item, the *Purple Shell*. When used, it warps the last place racer into first place and the first place racer into last place. Complete the function below to implement the Purple Shell's effect."
   ]
  },
  {
   "cell_type": "code",
   "execution_count": 6,
   "id": "318cafee",
   "metadata": {
    "execution": {
     "iopub.execute_input": "2024-02-15T04:18:03.156527Z",
     "iopub.status.busy": "2024-02-15T04:18:03.156110Z",
     "iopub.status.idle": "2024-02-15T04:18:03.166312Z",
     "shell.execute_reply": "2024-02-15T04:18:03.165117Z"
    },
    "papermill": {
     "duration": 0.02134,
     "end_time": "2024-02-15T04:18:03.168649",
     "exception": false,
     "start_time": "2024-02-15T04:18:03.147309",
     "status": "completed"
    },
    "tags": []
   },
   "outputs": [
    {
     "data": {
      "application/javascript": [
       "parent.postMessage({\"jupyterEvent\": \"custom.exercise_interaction\", \"data\": {\"outcomeType\": 1, \"valueTowardsCompletion\": 0.2, \"interactionType\": 1, \"questionType\": 2, \"questionId\": \"3_PurpleShell\", \"learnToolsVersion\": \"0.3.4\", \"failureMessage\": \"\", \"exceptionClass\": \"\", \"trace\": \"\"}}, \"*\")"
      ],
      "text/plain": [
       "<IPython.core.display.Javascript object>"
      ]
     },
     "metadata": {},
     "output_type": "display_data"
    },
    {
     "data": {
      "text/markdown": [
       "<span style=\"color:#33cc33\">Correct</span>"
      ],
      "text/plain": [
       "Correct"
      ]
     },
     "metadata": {},
     "output_type": "display_data"
    }
   ],
   "source": [
    "def purple_shell(racers):\n",
    "    \"\"\"Given a list of racers, set the first place racer (at the front of the list) to last\n",
    "    place and vice versa.\n",
    "    \n",
    "    >>> r = [\"Mario\", \"Bowser\", \"Luigi\"]\n",
    "    >>> purple_shell(r)\n",
    "    >>> r\n",
    "    [\"Luigi\", \"Bowser\", \"Mario\"]\n",
    "    \"\"\"\n",
    "    racers[0], racers[-1] = racers[-1], racers[0]\n",
    "\n",
    "# Check your answer\n",
    "q3.check()"
   ]
  },
  {
   "cell_type": "code",
   "execution_count": 7,
   "id": "eb1ba087",
   "metadata": {
    "execution": {
     "iopub.execute_input": "2024-02-15T04:18:03.186121Z",
     "iopub.status.busy": "2024-02-15T04:18:03.185705Z",
     "iopub.status.idle": "2024-02-15T04:18:03.190044Z",
     "shell.execute_reply": "2024-02-15T04:18:03.188885Z"
    },
    "papermill": {
     "duration": 0.016297,
     "end_time": "2024-02-15T04:18:03.192628",
     "exception": false,
     "start_time": "2024-02-15T04:18:03.176331",
     "status": "completed"
    },
    "tags": []
   },
   "outputs": [],
   "source": [
    "# q3.hint()\n",
    "# q3.solution()"
   ]
  },
  {
   "cell_type": "markdown",
   "id": "bfe1621b",
   "metadata": {
    "papermill": {
     "duration": 0.007422,
     "end_time": "2024-02-15T04:18:03.207783",
     "exception": false,
     "start_time": "2024-02-15T04:18:03.200361",
     "status": "completed"
    },
    "tags": []
   },
   "source": [
    "# 4.\n",
    "\n",
    "What are the lengths of the following lists? Fill in the variable `lengths` with your predictions. (Try to make a prediction for each list *without* just calling `len()` on it.)"
   ]
  },
  {
   "cell_type": "code",
   "execution_count": 8,
   "id": "7f07a486",
   "metadata": {
    "execution": {
     "iopub.execute_input": "2024-02-15T04:18:03.226403Z",
     "iopub.status.busy": "2024-02-15T04:18:03.225443Z",
     "iopub.status.idle": "2024-02-15T04:18:03.235168Z",
     "shell.execute_reply": "2024-02-15T04:18:03.234002Z"
    },
    "papermill": {
     "duration": 0.022009,
     "end_time": "2024-02-15T04:18:03.237467",
     "exception": false,
     "start_time": "2024-02-15T04:18:03.215458",
     "status": "completed"
    },
    "tags": []
   },
   "outputs": [
    {
     "data": {
      "application/javascript": [
       "parent.postMessage({\"jupyterEvent\": \"custom.exercise_interaction\", \"data\": {\"outcomeType\": 1, \"valueTowardsCompletion\": 0.2, \"interactionType\": 1, \"questionType\": 1, \"questionId\": \"4_UnderstandLen\", \"learnToolsVersion\": \"0.3.4\", \"failureMessage\": \"\", \"exceptionClass\": \"\", \"trace\": \"\"}}, \"*\")"
      ],
      "text/plain": [
       "<IPython.core.display.Javascript object>"
      ]
     },
     "metadata": {},
     "output_type": "display_data"
    },
    {
     "data": {
      "text/markdown": [
       "<span style=\"color:#33cc33\">Correct:</span> \n",
       "\n",
       "\n",
       "- a: There are three items in this list. Nothing tricky yet.\n",
       "- b: The list `[2, 3]` counts as a single item. It has one item before it. So we have 2 items in the list\n",
       "- c: The empty list has 0 items\n",
       "- d: The expression is the same as the list `[2, 3]`, which has length 2."
      ],
      "text/plain": [
       "Correct: \n",
       "\n",
       "\n",
       "- a: There are three items in this list. Nothing tricky yet.\n",
       "- b: The list `[2, 3]` counts as a single item. It has one item before it. So we have 2 items in the list\n",
       "- c: The empty list has 0 items\n",
       "- d: The expression is the same as the list `[2, 3]`, which has length 2."
      ]
     },
     "metadata": {},
     "output_type": "display_data"
    }
   ],
   "source": [
    "a = [1, 2, 3]\n",
    "b = [1, [2, 3]]\n",
    "c = []\n",
    "d = [1, 2, 3][1:]\n",
    "\n",
    "# Put your predictions in the list below. Lengths should contain 4 numbers, the\n",
    "# first being the length of a, the second being the length of b and so on.\n",
    "lengths = [3, 2, 0, 2]\n",
    "\n",
    "# Check your answer\n",
    "q4.check()"
   ]
  },
  {
   "cell_type": "code",
   "execution_count": 9,
   "id": "4b88ece3",
   "metadata": {
    "collapsed": true,
    "execution": {
     "iopub.execute_input": "2024-02-15T04:18:03.255683Z",
     "iopub.status.busy": "2024-02-15T04:18:03.254716Z",
     "iopub.status.idle": "2024-02-15T04:18:03.259048Z",
     "shell.execute_reply": "2024-02-15T04:18:03.258191Z"
    },
    "jupyter": {
     "outputs_hidden": true
    },
    "papermill": {
     "duration": 0.015637,
     "end_time": "2024-02-15T04:18:03.261053",
     "exception": false,
     "start_time": "2024-02-15T04:18:03.245416",
     "status": "completed"
    },
    "tags": []
   },
   "outputs": [],
   "source": [
    "# line below provides some explanation\n",
    "#q4.solution()"
   ]
  },
  {
   "cell_type": "markdown",
   "id": "9a4f52e2",
   "metadata": {
    "papermill": {
     "duration": 0.007713,
     "end_time": "2024-02-15T04:18:03.276881",
     "exception": false,
     "start_time": "2024-02-15T04:18:03.269168",
     "status": "completed"
    },
    "tags": []
   },
   "source": [
    "# 5. <span title=\"A bit spicy\" style=\"color: darkgreen \">🌶️</span>\n",
    "\n",
    "We're using lists to record people who attended our party and what order they arrived in. For example, the following list represents a party with 7 guests, in which Adela showed up first and Ford was the last to arrive:\n",
    "\n",
    "    party_attendees = ['Adela', 'Fleda', 'Owen', 'May', 'Mona', 'Gilbert', 'Ford']\n",
    "\n",
    "A guest is considered 'fashionably late' if they arrived after at least half of the party's guests. However, they must not be the very last guest (that's taking it too far). In the above example, Mona and Gilbert are the only guests who were fashionably late.\n",
    "\n",
    "Complete the function below which takes a list of party attendees as well as a person, and tells us whether that person is fashionably late."
   ]
  },
  {
   "cell_type": "code",
   "execution_count": 10,
   "id": "b0c4112f",
   "metadata": {
    "execution": {
     "iopub.execute_input": "2024-02-15T04:18:03.295063Z",
     "iopub.status.busy": "2024-02-15T04:18:03.294286Z",
     "iopub.status.idle": "2024-02-15T04:18:03.304586Z",
     "shell.execute_reply": "2024-02-15T04:18:03.303383Z"
    },
    "papermill": {
     "duration": 0.021749,
     "end_time": "2024-02-15T04:18:03.306755",
     "exception": false,
     "start_time": "2024-02-15T04:18:03.285006",
     "status": "completed"
    },
    "tags": []
   },
   "outputs": [
    {
     "data": {
      "application/javascript": [
       "parent.postMessage({\"jupyterEvent\": \"custom.exercise_interaction\", \"data\": {\"outcomeType\": 1, \"valueTowardsCompletion\": 0.2, \"interactionType\": 1, \"questionType\": 2, \"questionId\": \"5_FashionablyLate\", \"learnToolsVersion\": \"0.3.4\", \"failureMessage\": \"\", \"exceptionClass\": \"\", \"trace\": \"\"}}, \"*\")"
      ],
      "text/plain": [
       "<IPython.core.display.Javascript object>"
      ]
     },
     "metadata": {},
     "output_type": "display_data"
    },
    {
     "data": {
      "text/markdown": [
       "<span style=\"color:#33cc33\">Correct</span>"
      ],
      "text/plain": [
       "Correct"
      ]
     },
     "metadata": {},
     "output_type": "display_data"
    }
   ],
   "source": [
    "def fashionably_late(arrivals, name):\n",
    "    \"\"\"Given an ordered list of arrivals to the party and a name, return whether the guest with that\n",
    "    name was fashionably late.\n",
    "    \"\"\"\n",
    "    return len(arrivals) / 2 <= arrivals.index(name) and arrivals.index(name) < len(arrivals) - 1\n",
    "\n",
    "# Check your answer\n",
    "q5.check()"
   ]
  },
  {
   "cell_type": "code",
   "execution_count": 11,
   "id": "5b8aed80",
   "metadata": {
    "execution": {
     "iopub.execute_input": "2024-02-15T04:18:03.325250Z",
     "iopub.status.busy": "2024-02-15T04:18:03.324851Z",
     "iopub.status.idle": "2024-02-15T04:18:03.333303Z",
     "shell.execute_reply": "2024-02-15T04:18:03.332106Z"
    },
    "papermill": {
     "duration": 0.020492,
     "end_time": "2024-02-15T04:18:03.335591",
     "exception": false,
     "start_time": "2024-02-15T04:18:03.315099",
     "status": "completed"
    },
    "tags": []
   },
   "outputs": [
    {
     "data": {
      "application/javascript": [
       "parent.postMessage({\"jupyterEvent\": \"custom.exercise_interaction\", \"data\": {\"interactionType\": 2, \"questionType\": 2, \"questionId\": \"5_FashionablyLate\", \"learnToolsVersion\": \"0.3.4\", \"valueTowardsCompletion\": 0.0, \"failureMessage\": \"\", \"exceptionClass\": \"\", \"trace\": \"\", \"outcomeType\": 4}}, \"*\")"
      ],
      "text/plain": [
       "<IPython.core.display.Javascript object>"
      ]
     },
     "metadata": {},
     "output_type": "display_data"
    },
    {
     "data": {
      "text/markdown": [
       "<span style=\"color:#3366cc\">Hint:</span> Use the index method to find when the person arrived. Check whether that is a fashionably late spot given the list length (`len`). Think about 0-indexing"
      ],
      "text/plain": [
       "Hint: Use the index method to find when the person arrived. Check whether that is a fashionably late spot given the list length (`len`). Think about 0-indexing"
      ]
     },
     "metadata": {},
     "output_type": "display_data"
    }
   ],
   "source": [
    "q5.hint()\n",
    "#q5.solution()"
   ]
  },
  {
   "cell_type": "markdown",
   "id": "71adfeed",
   "metadata": {
    "papermill": {
     "duration": 0.00858,
     "end_time": "2024-02-15T04:18:03.353536",
     "exception": false,
     "start_time": "2024-02-15T04:18:03.344956",
     "status": "completed"
    },
    "tags": []
   },
   "source": [
    "# Keep Going\n",
    "\n",
    "That's it for lists and tuples! Now you have the baseline knowledge to **[learn about loops](https://www.kaggle.com/colinmorris/loops-and-list-comprehensions)**, which is where lists and tuples get really interesting. "
   ]
  },
  {
   "cell_type": "markdown",
   "id": "652f2db7",
   "metadata": {
    "papermill": {
     "duration": 0.008464,
     "end_time": "2024-02-15T04:18:03.370680",
     "exception": false,
     "start_time": "2024-02-15T04:18:03.362216",
     "status": "completed"
    },
    "tags": []
   },
   "source": [
    "---\n",
    "\n",
    "\n",
    "\n",
    "\n",
    "*Have questions or comments? Visit the [course discussion forum](https://www.kaggle.com/learn/python/discussion) to chat with other learners.*"
   ]
  }
 ],
 "metadata": {
  "kaggle": {
   "accelerator": "none",
   "dataSources": [],
   "isGpuEnabled": false,
   "isInternetEnabled": false,
   "language": "python",
   "sourceType": "notebook"
  },
  "kernelspec": {
   "display_name": "Python 3",
   "language": "python",
   "name": "python3"
  },
  "language_info": {
   "codemirror_mode": {
    "name": "ipython",
    "version": 3
   },
   "file_extension": ".py",
   "mimetype": "text/x-python",
   "name": "python",
   "nbconvert_exporter": "python",
   "pygments_lexer": "ipython3",
   "version": "3.10.13"
  },
  "learntools_metadata": {
   "lesson_index": 3,
   "type": "exercise"
  },
  "papermill": {
   "default_parameters": {},
   "duration": 5.056997,
   "end_time": "2024-02-15T04:18:03.900768",
   "environment_variables": {},
   "exception": null,
   "input_path": "__notebook__.ipynb",
   "output_path": "__notebook__.ipynb",
   "parameters": {},
   "start_time": "2024-02-15T04:17:58.843771",
   "version": "2.5.0"
  }
 },
 "nbformat": 4,
 "nbformat_minor": 5
}
