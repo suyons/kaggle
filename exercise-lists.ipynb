{
 "cells": [
  {
   "cell_type": "markdown",
   "id": "b18da2ca",
   "metadata": {
    "papermill": {
     "duration": 0.004289,
     "end_time": "2024-02-15T03:59:12.795254",
     "exception": false,
     "start_time": "2024-02-15T03:59:12.790965",
     "status": "completed"
    },
    "tags": []
   },
   "source": [
    "**This notebook is an exercise in the [Python](https://www.kaggle.com/learn/python) course.  You can reference the tutorial at [this link](https://www.kaggle.com/colinmorris/lists).**\n",
    "\n",
    "---\n"
   ]
  },
  {
   "cell_type": "markdown",
   "id": "f7df195c",
   "metadata": {
    "papermill": {
     "duration": 0.003304,
     "end_time": "2024-02-15T03:59:12.802506",
     "exception": false,
     "start_time": "2024-02-15T03:59:12.799202",
     "status": "completed"
    },
    "tags": []
   },
   "source": [
    "Things get more interesting with lists. You'll apply your new knowledge to solve the questions below. Remember to run the following cell first."
   ]
  },
  {
   "cell_type": "code",
   "execution_count": 1,
   "id": "f68b9830",
   "metadata": {
    "execution": {
     "iopub.execute_input": "2024-02-15T03:59:12.811272Z",
     "iopub.status.busy": "2024-02-15T03:59:12.810934Z",
     "iopub.status.idle": "2024-02-15T03:59:13.806006Z",
     "shell.execute_reply": "2024-02-15T03:59:13.804365Z"
    },
    "papermill": {
     "duration": 1.002685,
     "end_time": "2024-02-15T03:59:13.808707",
     "exception": false,
     "start_time": "2024-02-15T03:59:12.806022",
     "status": "completed"
    },
    "tags": []
   },
   "outputs": [
    {
     "name": "stdout",
     "output_type": "stream",
     "text": [
      "Setup complete.\n"
     ]
    }
   ],
   "source": [
    "from learntools.core import binder; binder.bind(globals())\n",
    "from learntools.python.ex4 import *\n",
    "print('Setup complete.')"
   ]
  },
  {
   "cell_type": "markdown",
   "id": "29e7d5d6",
   "metadata": {
    "papermill": {
     "duration": 0.003906,
     "end_time": "2024-02-15T03:59:13.817027",
     "exception": false,
     "start_time": "2024-02-15T03:59:13.813121",
     "status": "completed"
    },
    "tags": []
   },
   "source": [
    "# 1.\n",
    "\n",
    "Complete the function below according to its docstring."
   ]
  },
  {
   "cell_type": "code",
   "execution_count": 2,
   "id": "3faf53be",
   "metadata": {
    "execution": {
     "iopub.execute_input": "2024-02-15T03:59:13.829405Z",
     "iopub.status.busy": "2024-02-15T03:59:13.828643Z",
     "iopub.status.idle": "2024-02-15T03:59:13.837225Z",
     "shell.execute_reply": "2024-02-15T03:59:13.836244Z"
    },
    "papermill": {
     "duration": 0.018336,
     "end_time": "2024-02-15T03:59:13.839457",
     "exception": false,
     "start_time": "2024-02-15T03:59:13.821121",
     "status": "completed"
    },
    "tags": []
   },
   "outputs": [
    {
     "data": {
      "application/javascript": [
       "parent.postMessage({\"jupyterEvent\": \"custom.exercise_interaction\", \"data\": {\"outcomeType\": 4, \"interactionType\": 1, \"questionType\": 2, \"questionId\": \"1_SelectSecondItem\", \"learnToolsVersion\": \"0.3.4\", \"valueTowardsCompletion\": 0.0, \"failureMessage\": \"\", \"exceptionClass\": \"\", \"trace\": \"\"}}, \"*\")"
      ],
      "text/plain": [
       "<IPython.core.display.Javascript object>"
      ]
     },
     "metadata": {},
     "output_type": "display_data"
    },
    {
     "data": {
      "text/markdown": [
       "<span style=\"color:#ccaa33\">Check:</span> When you've updated the starter code, `check()` will tell you whether your code is correct. "
      ],
      "text/plain": [
       "Check: When you've updated the starter code, `check()` will tell you whether your code is correct. "
      ]
     },
     "metadata": {},
     "output_type": "display_data"
    }
   ],
   "source": [
    "def select_second(L):\n",
    "    \"\"\"Return the second element of the given list. If the list has no second\n",
    "    element, return None.\n",
    "    \"\"\"\n",
    "    pass\n",
    "\n",
    "# Check your answer\n",
    "q1.check()"
   ]
  },
  {
   "cell_type": "code",
   "execution_count": 3,
   "id": "6d368663",
   "metadata": {
    "collapsed": true,
    "execution": {
     "iopub.execute_input": "2024-02-15T03:59:13.850345Z",
     "iopub.status.busy": "2024-02-15T03:59:13.849277Z",
     "iopub.status.idle": "2024-02-15T03:59:13.853747Z",
     "shell.execute_reply": "2024-02-15T03:59:13.852808Z"
    },
    "jupyter": {
     "outputs_hidden": true
    },
    "papermill": {
     "duration": 0.011935,
     "end_time": "2024-02-15T03:59:13.855818",
     "exception": false,
     "start_time": "2024-02-15T03:59:13.843883",
     "status": "completed"
    },
    "tags": []
   },
   "outputs": [],
   "source": [
    "#q1.hint()\n",
    "#q1.solution()"
   ]
  },
  {
   "cell_type": "markdown",
   "id": "842cb5c5",
   "metadata": {
    "papermill": {
     "duration": 0.004013,
     "end_time": "2024-02-15T03:59:13.864279",
     "exception": false,
     "start_time": "2024-02-15T03:59:13.860266",
     "status": "completed"
    },
    "tags": []
   },
   "source": [
    "# 2.\n",
    "\n",
    "You are analyzing sports teams.  Members of each team are stored in a list. The Coach is the first name in the list, the captain is the second name in the list, and other players are listed after that. \n",
    "These lists are stored in another list, which starts with the best team and proceeds through the list to the worst team last.  Complete the function below to select the **captain** of the worst team."
   ]
  },
  {
   "cell_type": "code",
   "execution_count": 4,
   "id": "5b4a251b",
   "metadata": {
    "execution": {
     "iopub.execute_input": "2024-02-15T03:59:13.875007Z",
     "iopub.status.busy": "2024-02-15T03:59:13.874425Z",
     "iopub.status.idle": "2024-02-15T03:59:13.882483Z",
     "shell.execute_reply": "2024-02-15T03:59:13.881243Z"
    },
    "papermill": {
     "duration": 0.015848,
     "end_time": "2024-02-15T03:59:13.885105",
     "exception": false,
     "start_time": "2024-02-15T03:59:13.869257",
     "status": "completed"
    },
    "tags": []
   },
   "outputs": [
    {
     "data": {
      "application/javascript": [
       "parent.postMessage({\"jupyterEvent\": \"custom.exercise_interaction\", \"data\": {\"outcomeType\": 4, \"interactionType\": 1, \"questionType\": 2, \"questionId\": \"2_LosingTeamCaptain\", \"learnToolsVersion\": \"0.3.4\", \"valueTowardsCompletion\": 0.0, \"failureMessage\": \"\", \"exceptionClass\": \"\", \"trace\": \"\"}}, \"*\")"
      ],
      "text/plain": [
       "<IPython.core.display.Javascript object>"
      ]
     },
     "metadata": {},
     "output_type": "display_data"
    },
    {
     "data": {
      "text/markdown": [
       "<span style=\"color:#ccaa33\">Check:</span> When you've updated the starter code, `check()` will tell you whether your code is correct. "
      ],
      "text/plain": [
       "Check: When you've updated the starter code, `check()` will tell you whether your code is correct. "
      ]
     },
     "metadata": {},
     "output_type": "display_data"
    }
   ],
   "source": [
    "def losing_team_captain(teams):\n",
    "    \"\"\"Given a list of teams, where each team is a list of names, return the 2nd player (captain)\n",
    "    from the last listed team\n",
    "    \"\"\"\n",
    "    pass\n",
    "\n",
    "# Check your answer\n",
    "q2.check()"
   ]
  },
  {
   "cell_type": "code",
   "execution_count": 5,
   "id": "06725772",
   "metadata": {
    "collapsed": true,
    "execution": {
     "iopub.execute_input": "2024-02-15T03:59:13.896198Z",
     "iopub.status.busy": "2024-02-15T03:59:13.895782Z",
     "iopub.status.idle": "2024-02-15T03:59:13.901623Z",
     "shell.execute_reply": "2024-02-15T03:59:13.900817Z"
    },
    "jupyter": {
     "outputs_hidden": true
    },
    "papermill": {
     "duration": 0.013557,
     "end_time": "2024-02-15T03:59:13.903551",
     "exception": false,
     "start_time": "2024-02-15T03:59:13.889994",
     "status": "completed"
    },
    "tags": []
   },
   "outputs": [],
   "source": [
    "#q2.hint()\n",
    "#q2.solution()"
   ]
  },
  {
   "cell_type": "markdown",
   "id": "e5a8268d",
   "metadata": {
    "papermill": {
     "duration": 0.004241,
     "end_time": "2024-02-15T03:59:13.912869",
     "exception": false,
     "start_time": "2024-02-15T03:59:13.908628",
     "status": "completed"
    },
    "tags": []
   },
   "source": [
    "# 3.\n",
    "\n",
    "The next iteration of Mario Kart will feature an extra-infuriating new item, the *Purple Shell*. When used, it warps the last place racer into first place and the first place racer into last place. Complete the function below to implement the Purple Shell's effect."
   ]
  },
  {
   "cell_type": "code",
   "execution_count": 6,
   "id": "6a305112",
   "metadata": {
    "execution": {
     "iopub.execute_input": "2024-02-15T03:59:13.923567Z",
     "iopub.status.busy": "2024-02-15T03:59:13.923012Z",
     "iopub.status.idle": "2024-02-15T03:59:13.929783Z",
     "shell.execute_reply": "2024-02-15T03:59:13.929049Z"
    },
    "papermill": {
     "duration": 0.01412,
     "end_time": "2024-02-15T03:59:13.931462",
     "exception": false,
     "start_time": "2024-02-15T03:59:13.917342",
     "status": "completed"
    },
    "tags": []
   },
   "outputs": [
    {
     "data": {
      "application/javascript": [
       "parent.postMessage({\"jupyterEvent\": \"custom.exercise_interaction\", \"data\": {\"outcomeType\": 4, \"interactionType\": 1, \"questionType\": 2, \"questionId\": \"3_PurpleShell\", \"learnToolsVersion\": \"0.3.4\", \"valueTowardsCompletion\": 0.0, \"failureMessage\": \"\", \"exceptionClass\": \"\", \"trace\": \"\"}}, \"*\")"
      ],
      "text/plain": [
       "<IPython.core.display.Javascript object>"
      ]
     },
     "metadata": {},
     "output_type": "display_data"
    },
    {
     "data": {
      "text/markdown": [
       "<span style=\"color:#ccaa33\">Check:</span> When you've updated the starter code, `check()` will tell you whether your code is correct. "
      ],
      "text/plain": [
       "Check: When you've updated the starter code, `check()` will tell you whether your code is correct. "
      ]
     },
     "metadata": {},
     "output_type": "display_data"
    }
   ],
   "source": [
    "def purple_shell(racers):\n",
    "    \"\"\"Given a list of racers, set the first place racer (at the front of the list) to last\n",
    "    place and vice versa.\n",
    "    \n",
    "    >>> r = [\"Mario\", \"Bowser\", \"Luigi\"]\n",
    "    >>> purple_shell(r)\n",
    "    >>> r\n",
    "    [\"Luigi\", \"Bowser\", \"Mario\"]\n",
    "    \"\"\"\n",
    "    pass\n",
    "\n",
    "# Check your answer\n",
    "q3.check()"
   ]
  },
  {
   "cell_type": "code",
   "execution_count": 7,
   "id": "affaed62",
   "metadata": {
    "collapsed": true,
    "execution": {
     "iopub.execute_input": "2024-02-15T03:59:13.942407Z",
     "iopub.status.busy": "2024-02-15T03:59:13.941959Z",
     "iopub.status.idle": "2024-02-15T03:59:13.946300Z",
     "shell.execute_reply": "2024-02-15T03:59:13.945195Z"
    },
    "jupyter": {
     "outputs_hidden": true
    },
    "papermill": {
     "duration": 0.012153,
     "end_time": "2024-02-15T03:59:13.948514",
     "exception": false,
     "start_time": "2024-02-15T03:59:13.936361",
     "status": "completed"
    },
    "tags": []
   },
   "outputs": [],
   "source": [
    "#q3.hint()\n",
    "#q3.solution()"
   ]
  },
  {
   "cell_type": "markdown",
   "id": "4f6ffff4",
   "metadata": {
    "papermill": {
     "duration": 0.00459,
     "end_time": "2024-02-15T03:59:13.958318",
     "exception": false,
     "start_time": "2024-02-15T03:59:13.953728",
     "status": "completed"
    },
    "tags": []
   },
   "source": [
    "# 4.\n",
    "\n",
    "What are the lengths of the following lists? Fill in the variable `lengths` with your predictions. (Try to make a prediction for each list *without* just calling `len()` on it.)"
   ]
  },
  {
   "cell_type": "code",
   "execution_count": 8,
   "id": "2474efba",
   "metadata": {
    "execution": {
     "iopub.execute_input": "2024-02-15T03:59:13.970106Z",
     "iopub.status.busy": "2024-02-15T03:59:13.969467Z",
     "iopub.status.idle": "2024-02-15T03:59:13.978515Z",
     "shell.execute_reply": "2024-02-15T03:59:13.977620Z"
    },
    "papermill": {
     "duration": 0.017145,
     "end_time": "2024-02-15T03:59:13.980346",
     "exception": false,
     "start_time": "2024-02-15T03:59:13.963201",
     "status": "completed"
    },
    "tags": []
   },
   "outputs": [
    {
     "data": {
      "application/javascript": [
       "parent.postMessage({\"jupyterEvent\": \"custom.exercise_interaction\", \"data\": {\"outcomeType\": 4, \"interactionType\": 1, \"questionType\": 1, \"questionId\": \"4_UnderstandLen\", \"learnToolsVersion\": \"0.3.4\", \"valueTowardsCompletion\": 0.0, \"failureMessage\": \"\", \"exceptionClass\": \"\", \"trace\": \"\"}}, \"*\")"
      ],
      "text/plain": [
       "<IPython.core.display.Javascript object>"
      ]
     },
     "metadata": {},
     "output_type": "display_data"
    },
    {
     "data": {
      "text/markdown": [
       "<span style=\"color:#ccaa33\">Check:</span> When you've updated the starter code, `check()` will tell you whether your code is correct. You need to update the code that creates variable `lengths`"
      ],
      "text/plain": [
       "Check: When you've updated the starter code, `check()` will tell you whether your code is correct. You need to update the code that creates variable `lengths`"
      ]
     },
     "metadata": {},
     "output_type": "display_data"
    }
   ],
   "source": [
    "a = [1, 2, 3]\n",
    "b = [1, [2, 3]]\n",
    "c = []\n",
    "d = [1, 2, 3][1:]\n",
    "\n",
    "# Put your predictions in the list below. Lengths should contain 4 numbers, the\n",
    "# first being the length of a, the second being the length of b and so on.\n",
    "lengths = []\n",
    "\n",
    "# Check your answer\n",
    "q4.check()"
   ]
  },
  {
   "cell_type": "code",
   "execution_count": 9,
   "id": "d458d37d",
   "metadata": {
    "collapsed": true,
    "execution": {
     "iopub.execute_input": "2024-02-15T03:59:13.993965Z",
     "iopub.status.busy": "2024-02-15T03:59:13.993374Z",
     "iopub.status.idle": "2024-02-15T03:59:13.997072Z",
     "shell.execute_reply": "2024-02-15T03:59:13.996354Z"
    },
    "jupyter": {
     "outputs_hidden": true
    },
    "papermill": {
     "duration": 0.012361,
     "end_time": "2024-02-15T03:59:13.998887",
     "exception": false,
     "start_time": "2024-02-15T03:59:13.986526",
     "status": "completed"
    },
    "tags": []
   },
   "outputs": [],
   "source": [
    "# line below provides some explanation\n",
    "#q4.solution()"
   ]
  },
  {
   "cell_type": "markdown",
   "id": "03c7e3fe",
   "metadata": {
    "papermill": {
     "duration": 0.005597,
     "end_time": "2024-02-15T03:59:14.009957",
     "exception": false,
     "start_time": "2024-02-15T03:59:14.004360",
     "status": "completed"
    },
    "tags": []
   },
   "source": [
    "# 5. <span title=\"A bit spicy\" style=\"color: darkgreen \">🌶️</span>\n",
    "\n",
    "We're using lists to record people who attended our party and what order they arrived in. For example, the following list represents a party with 7 guests, in which Adela showed up first and Ford was the last to arrive:\n",
    "\n",
    "    party_attendees = ['Adela', 'Fleda', 'Owen', 'May', 'Mona', 'Gilbert', 'Ford']\n",
    "\n",
    "A guest is considered 'fashionably late' if they arrived after at least half of the party's guests. However, they must not be the very last guest (that's taking it too far). In the above example, Mona and Gilbert are the only guests who were fashionably late.\n",
    "\n",
    "Complete the function below which takes a list of party attendees as well as a person, and tells us whether that person is fashionably late."
   ]
  },
  {
   "cell_type": "code",
   "execution_count": 10,
   "id": "b597c68b",
   "metadata": {
    "execution": {
     "iopub.execute_input": "2024-02-15T03:59:14.022333Z",
     "iopub.status.busy": "2024-02-15T03:59:14.021804Z",
     "iopub.status.idle": "2024-02-15T03:59:14.030212Z",
     "shell.execute_reply": "2024-02-15T03:59:14.029186Z"
    },
    "papermill": {
     "duration": 0.016758,
     "end_time": "2024-02-15T03:59:14.032018",
     "exception": false,
     "start_time": "2024-02-15T03:59:14.015260",
     "status": "completed"
    },
    "tags": []
   },
   "outputs": [
    {
     "data": {
      "application/javascript": [
       "parent.postMessage({\"jupyterEvent\": \"custom.exercise_interaction\", \"data\": {\"outcomeType\": 4, \"interactionType\": 1, \"questionType\": 2, \"questionId\": \"5_FashionablyLate\", \"learnToolsVersion\": \"0.3.4\", \"valueTowardsCompletion\": 0.0, \"failureMessage\": \"\", \"exceptionClass\": \"\", \"trace\": \"\"}}, \"*\")"
      ],
      "text/plain": [
       "<IPython.core.display.Javascript object>"
      ]
     },
     "metadata": {},
     "output_type": "display_data"
    },
    {
     "data": {
      "text/markdown": [
       "<span style=\"color:#ccaa33\">Check:</span> When you've updated the starter code, `check()` will tell you whether your code is correct. "
      ],
      "text/plain": [
       "Check: When you've updated the starter code, `check()` will tell you whether your code is correct. "
      ]
     },
     "metadata": {},
     "output_type": "display_data"
    }
   ],
   "source": [
    "def fashionably_late(arrivals, name):\n",
    "    \"\"\"Given an ordered list of arrivals to the party and a name, return whether the guest with that\n",
    "    name was fashionably late.\n",
    "    \"\"\"\n",
    "    pass\n",
    "\n",
    "# Check your answer\n",
    "q5.check()"
   ]
  },
  {
   "cell_type": "code",
   "execution_count": 11,
   "id": "244753c0",
   "metadata": {
    "collapsed": true,
    "execution": {
     "iopub.execute_input": "2024-02-15T03:59:14.044594Z",
     "iopub.status.busy": "2024-02-15T03:59:14.044289Z",
     "iopub.status.idle": "2024-02-15T03:59:14.048291Z",
     "shell.execute_reply": "2024-02-15T03:59:14.047193Z"
    },
    "jupyter": {
     "outputs_hidden": true
    },
    "papermill": {
     "duration": 0.013132,
     "end_time": "2024-02-15T03:59:14.050775",
     "exception": false,
     "start_time": "2024-02-15T03:59:14.037643",
     "status": "completed"
    },
    "tags": []
   },
   "outputs": [],
   "source": [
    "#q5.hint()\n",
    "#q5.solution()"
   ]
  },
  {
   "cell_type": "markdown",
   "id": "4e98a775",
   "metadata": {
    "papermill": {
     "duration": 0.005183,
     "end_time": "2024-02-15T03:59:14.061616",
     "exception": false,
     "start_time": "2024-02-15T03:59:14.056433",
     "status": "completed"
    },
    "tags": []
   },
   "source": [
    "# Keep Going\n",
    "\n",
    "That's it for lists and tuples! Now you have the baseline knowledge to **[learn about loops](https://www.kaggle.com/colinmorris/loops-and-list-comprehensions)**, which is where lists and tuples get really interesting. "
   ]
  },
  {
   "cell_type": "markdown",
   "id": "684d8ecc",
   "metadata": {
    "papermill": {
     "duration": 0.005165,
     "end_time": "2024-02-15T03:59:14.072370",
     "exception": false,
     "start_time": "2024-02-15T03:59:14.067205",
     "status": "completed"
    },
    "tags": []
   },
   "source": [
    "---\n",
    "\n",
    "\n",
    "\n",
    "\n",
    "*Have questions or comments? Visit the [course discussion forum](https://www.kaggle.com/learn/python/discussion) to chat with other learners.*"
   ]
  }
 ],
 "metadata": {
  "kaggle": {
   "accelerator": "none",
   "dataSources": [],
   "isGpuEnabled": false,
   "isInternetEnabled": false,
   "language": "python",
   "sourceType": "notebook"
  },
  "kernelspec": {
   "display_name": "Python 3",
   "language": "python",
   "name": "python3"
  },
  "language_info": {
   "codemirror_mode": {
    "name": "ipython",
    "version": 3
   },
   "file_extension": ".py",
   "mimetype": "text/x-python",
   "name": "python",
   "nbconvert_exporter": "python",
   "pygments_lexer": "ipython3",
   "version": "3.10.13"
  },
  "learntools_metadata": {
   "lesson_index": 3,
   "type": "exercise"
  },
  "papermill": {
   "default_parameters": {},
   "duration": 4.113197,
   "end_time": "2024-02-15T03:59:14.502620",
   "environment_variables": {},
   "exception": null,
   "input_path": "__notebook__.ipynb",
   "output_path": "__notebook__.ipynb",
   "parameters": {},
   "start_time": "2024-02-15T03:59:10.389423",
   "version": "2.5.0"
  }
 },
 "nbformat": 4,
 "nbformat_minor": 5
}
