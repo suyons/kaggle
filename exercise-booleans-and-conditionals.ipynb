{
 "cells": [
  {
   "cell_type": "markdown",
   "id": "986f5191",
   "metadata": {
    "papermill": {
     "duration": 0.012635,
     "end_time": "2024-02-15T03:51:36.040362",
     "exception": false,
     "start_time": "2024-02-15T03:51:36.027727",
     "status": "completed"
    },
    "tags": []
   },
   "source": [
    "**This notebook is an exercise in the [Python](https://www.kaggle.com/learn/python) course.  You can reference the tutorial at [this link](https://www.kaggle.com/colinmorris/booleans-and-conditionals).**\n",
    "\n",
    "---\n"
   ]
  },
  {
   "cell_type": "markdown",
   "id": "78300e9d",
   "metadata": {
    "papermill": {
     "duration": 0.01185,
     "end_time": "2024-02-15T03:51:36.064469",
     "exception": false,
     "start_time": "2024-02-15T03:51:36.052619",
     "status": "completed"
    },
    "tags": []
   },
   "source": [
    "In this exercise, you'll put to work what you have learned about booleans and conditionals.\n",
    "\n",
    "To get started, **run the setup code below** before writing your own code (and if you leave this notebook and come back later, don't forget to run the setup code again)."
   ]
  },
  {
   "cell_type": "code",
   "execution_count": 1,
   "id": "044d59a6",
   "metadata": {
    "execution": {
     "iopub.execute_input": "2024-02-15T03:51:36.091843Z",
     "iopub.status.busy": "2024-02-15T03:51:36.091217Z",
     "iopub.status.idle": "2024-02-15T03:51:37.084339Z",
     "shell.execute_reply": "2024-02-15T03:51:37.083054Z"
    },
    "papermill": {
     "duration": 1.009581,
     "end_time": "2024-02-15T03:51:37.086968",
     "exception": false,
     "start_time": "2024-02-15T03:51:36.077387",
     "status": "completed"
    },
    "tags": []
   },
   "outputs": [
    {
     "name": "stdout",
     "output_type": "stream",
     "text": [
      "Setup complete.\n"
     ]
    }
   ],
   "source": [
    "from learntools.core import binder; binder.bind(globals())\n",
    "from learntools.python.ex3 import *\n",
    "print('Setup complete.')"
   ]
  },
  {
   "cell_type": "markdown",
   "id": "2942a964",
   "metadata": {
    "papermill": {
     "duration": 0.012244,
     "end_time": "2024-02-15T03:51:37.111398",
     "exception": false,
     "start_time": "2024-02-15T03:51:37.099154",
     "status": "completed"
    },
    "tags": []
   },
   "source": [
    "# 1.\n",
    "\n",
    "Many programming languages have [`sign`](https://en.wikipedia.org/wiki/Sign_function) available as a built-in function. Python doesn't, but we can define our own!\n",
    "\n",
    "In the cell below, define a function called `sign` which takes a numerical argument and returns -1 if it's negative, 1 if it's positive, and 0 if it's 0."
   ]
  },
  {
   "cell_type": "code",
   "execution_count": 2,
   "id": "a27e5bcc",
   "metadata": {
    "execution": {
     "iopub.execute_input": "2024-02-15T03:51:37.137504Z",
     "iopub.status.busy": "2024-02-15T03:51:37.136925Z",
     "iopub.status.idle": "2024-02-15T03:51:37.148604Z",
     "shell.execute_reply": "2024-02-15T03:51:37.147391Z"
    },
    "papermill": {
     "duration": 0.027532,
     "end_time": "2024-02-15T03:51:37.150984",
     "exception": false,
     "start_time": "2024-02-15T03:51:37.123452",
     "status": "completed"
    },
    "tags": []
   },
   "outputs": [
    {
     "data": {
      "application/javascript": [
       "parent.postMessage({\"jupyterEvent\": \"custom.exercise_interaction\", \"data\": {\"outcomeType\": 1, \"valueTowardsCompletion\": 0.2, \"interactionType\": 1, \"questionType\": 2, \"questionId\": \"1_SignFunctionProblem\", \"learnToolsVersion\": \"0.3.4\", \"failureMessage\": \"\", \"exceptionClass\": \"\", \"trace\": \"\"}}, \"*\")"
      ],
      "text/plain": [
       "<IPython.core.display.Javascript object>"
      ]
     },
     "metadata": {},
     "output_type": "display_data"
    },
    {
     "data": {
      "text/markdown": [
       "<span style=\"color:#33cc33\">Correct</span>"
      ],
      "text/plain": [
       "Correct"
      ]
     },
     "metadata": {},
     "output_type": "display_data"
    }
   ],
   "source": [
    "# Your code goes here. Define a function called 'sign'\n",
    "sign = lambda num: -1 if num < 0 else 0 if num == 0 else 1\n",
    "# Check your answer\n",
    "q1.check()"
   ]
  },
  {
   "cell_type": "code",
   "execution_count": 3,
   "id": "b1f1db11",
   "metadata": {
    "execution": {
     "iopub.execute_input": "2024-02-15T03:51:37.178801Z",
     "iopub.status.busy": "2024-02-15T03:51:37.178401Z",
     "iopub.status.idle": "2024-02-15T03:51:37.183551Z",
     "shell.execute_reply": "2024-02-15T03:51:37.182371Z"
    },
    "papermill": {
     "duration": 0.02249,
     "end_time": "2024-02-15T03:51:37.186006",
     "exception": false,
     "start_time": "2024-02-15T03:51:37.163516",
     "status": "completed"
    },
    "tags": []
   },
   "outputs": [],
   "source": [
    "# q1.solution()"
   ]
  },
  {
   "cell_type": "markdown",
   "id": "bb7148a7",
   "metadata": {
    "papermill": {
     "duration": 0.012045,
     "end_time": "2024-02-15T03:51:37.210670",
     "exception": false,
     "start_time": "2024-02-15T03:51:37.198625",
     "status": "completed"
    },
    "tags": []
   },
   "source": [
    "# 2.\n",
    "\n",
    "We've decided to add \"logging\" to our `to_smash` function from the previous exercise."
   ]
  },
  {
   "cell_type": "code",
   "execution_count": 4,
   "id": "bcdc34f0",
   "metadata": {
    "execution": {
     "iopub.execute_input": "2024-02-15T03:51:37.237501Z",
     "iopub.status.busy": "2024-02-15T03:51:37.237119Z",
     "iopub.status.idle": "2024-02-15T03:51:37.246734Z",
     "shell.execute_reply": "2024-02-15T03:51:37.245469Z"
    },
    "papermill": {
     "duration": 0.02555,
     "end_time": "2024-02-15T03:51:37.248952",
     "exception": false,
     "start_time": "2024-02-15T03:51:37.223402",
     "status": "completed"
    },
    "tags": []
   },
   "outputs": [
    {
     "name": "stdout",
     "output_type": "stream",
     "text": [
      "Splitting 91 candies\n"
     ]
    },
    {
     "data": {
      "text/plain": [
       "1"
      ]
     },
     "execution_count": 4,
     "metadata": {},
     "output_type": "execute_result"
    }
   ],
   "source": [
    "def to_smash(total_candies):\n",
    "    \"\"\"Return the number of leftover candies that must be smashed after distributing\n",
    "    the given number of candies evenly between 3 friends.\n",
    "    \n",
    "    >>> to_smash(91)\n",
    "    1\n",
    "    \"\"\"\n",
    "    print(\"Splitting\", total_candies, \"candies\")\n",
    "    return total_candies % 3\n",
    "\n",
    "to_smash(91)"
   ]
  },
  {
   "cell_type": "markdown",
   "id": "bd7e875e",
   "metadata": {
    "papermill": {
     "duration": 0.012487,
     "end_time": "2024-02-15T03:51:37.274190",
     "exception": false,
     "start_time": "2024-02-15T03:51:37.261703",
     "status": "completed"
    },
    "tags": []
   },
   "source": [
    "What happens if we call it with `total_candies = 1`?"
   ]
  },
  {
   "cell_type": "code",
   "execution_count": 5,
   "id": "8d958088",
   "metadata": {
    "execution": {
     "iopub.execute_input": "2024-02-15T03:51:37.301684Z",
     "iopub.status.busy": "2024-02-15T03:51:37.301160Z",
     "iopub.status.idle": "2024-02-15T03:51:37.308408Z",
     "shell.execute_reply": "2024-02-15T03:51:37.307303Z"
    },
    "papermill": {
     "duration": 0.024037,
     "end_time": "2024-02-15T03:51:37.310985",
     "exception": false,
     "start_time": "2024-02-15T03:51:37.286948",
     "status": "completed"
    },
    "tags": []
   },
   "outputs": [
    {
     "name": "stdout",
     "output_type": "stream",
     "text": [
      "Splitting 1 candies\n"
     ]
    },
    {
     "data": {
      "text/plain": [
       "1"
      ]
     },
     "execution_count": 5,
     "metadata": {},
     "output_type": "execute_result"
    }
   ],
   "source": [
    "to_smash(1)"
   ]
  },
  {
   "cell_type": "markdown",
   "id": "332fa8fa",
   "metadata": {
    "papermill": {
     "duration": 0.012674,
     "end_time": "2024-02-15T03:51:37.336643",
     "exception": false,
     "start_time": "2024-02-15T03:51:37.323969",
     "status": "completed"
    },
    "tags": []
   },
   "source": [
    "That isn't great grammar!\n",
    "\n",
    "Modify the definition in the cell below to correct the grammar of our print statement. (If there's only one candy, we should use the singular \"candy\" instead of the plural \"candies\")"
   ]
  },
  {
   "cell_type": "code",
   "execution_count": 6,
   "id": "db44f585",
   "metadata": {
    "execution": {
     "iopub.execute_input": "2024-02-15T03:51:37.364603Z",
     "iopub.status.busy": "2024-02-15T03:51:37.364222Z",
     "iopub.status.idle": "2024-02-15T03:51:37.373469Z",
     "shell.execute_reply": "2024-02-15T03:51:37.372261Z"
    },
    "papermill": {
     "duration": 0.026689,
     "end_time": "2024-02-15T03:51:37.376363",
     "exception": false,
     "start_time": "2024-02-15T03:51:37.349674",
     "status": "completed"
    },
    "tags": []
   },
   "outputs": [
    {
     "name": "stdout",
     "output_type": "stream",
     "text": [
      "Splitting 91 candies\n",
      "Splitting 1 candy\n"
     ]
    },
    {
     "data": {
      "text/plain": [
       "1"
      ]
     },
     "execution_count": 6,
     "metadata": {},
     "output_type": "execute_result"
    }
   ],
   "source": [
    "def to_smash(total_candies):\n",
    "    \"\"\"Return the number of leftover candies that must be smashed after distributing\n",
    "    the given number of candies evenly between 3 friends.\n",
    "    \n",
    "    >>> to_smash(91)\n",
    "    1\n",
    "    \"\"\"\n",
    "    print(\"Splitting\", total_candies, \"candy\" if total_candies == 1 else \"candies\")\n",
    "    return total_candies % 3\n",
    "\n",
    "to_smash(91)\n",
    "to_smash(1)"
   ]
  },
  {
   "cell_type": "markdown",
   "id": "42f77acb",
   "metadata": {
    "papermill": {
     "duration": 0.013121,
     "end_time": "2024-02-15T03:51:37.402878",
     "exception": false,
     "start_time": "2024-02-15T03:51:37.389757",
     "status": "completed"
    },
    "tags": []
   },
   "source": [
    "To get credit for completing this problem, and to see the official answer, run the code cell below."
   ]
  },
  {
   "cell_type": "code",
   "execution_count": 7,
   "id": "96bc0724",
   "metadata": {
    "execution": {
     "iopub.execute_input": "2024-02-15T03:51:37.431257Z",
     "iopub.status.busy": "2024-02-15T03:51:37.430804Z",
     "iopub.status.idle": "2024-02-15T03:51:37.440378Z",
     "shell.execute_reply": "2024-02-15T03:51:37.439262Z"
    },
    "papermill": {
     "duration": 0.026702,
     "end_time": "2024-02-15T03:51:37.442901",
     "exception": false,
     "start_time": "2024-02-15T03:51:37.416199",
     "status": "completed"
    },
    "tags": []
   },
   "outputs": [
    {
     "data": {
      "application/javascript": [
       "parent.postMessage({\"jupyterEvent\": \"custom.exercise_interaction\", \"data\": {\"interactionType\": 3, \"questionType\": 4, \"questionId\": \"2_PluralizationProblem\", \"learnToolsVersion\": \"0.3.4\", \"valueTowardsCompletion\": 0.0, \"failureMessage\": \"\", \"exceptionClass\": \"\", \"trace\": \"\", \"outcomeType\": 4}}, \"*\")"
      ],
      "text/plain": [
       "<IPython.core.display.Javascript object>"
      ]
     },
     "metadata": {},
     "output_type": "display_data"
    },
    {
     "data": {
      "text/markdown": [
       "<span style=\"color:#33cc99\">Solution:</span> A straightforward (and totally fine) solution is to replace the original `print` call with:\n",
       "\n",
       "```python\n",
       "if total_candies == 1:\n",
       "    print(\"Splitting 1 candy\")\n",
       "else:\n",
       "    print(\"Splitting\", total_candies, \"candies\")\n",
       "```\n",
       "\n",
       "Here's a slightly more succinct solution using a conditional expression:\n",
       "\n",
       "```python\n",
       "print(\"Splitting\", total_candies, \"candy\" if total_candies == 1 else \"candies\")\n",
       "```"
      ],
      "text/plain": [
       "Solution: A straightforward (and totally fine) solution is to replace the original `print` call with:\n",
       "\n",
       "```python\n",
       "if total_candies == 1:\n",
       "    print(\"Splitting 1 candy\")\n",
       "else:\n",
       "    print(\"Splitting\", total_candies, \"candies\")\n",
       "```\n",
       "\n",
       "Here's a slightly more succinct solution using a conditional expression:\n",
       "\n",
       "```python\n",
       "print(\"Splitting\", total_candies, \"candy\" if total_candies == 1 else \"candies\")\n",
       "```"
      ]
     },
     "metadata": {},
     "output_type": "display_data"
    }
   ],
   "source": [
    "# Check your answer (Run this code cell to receive credit!)\n",
    "q2.solution()"
   ]
  },
  {
   "cell_type": "markdown",
   "id": "cda662b7",
   "metadata": {
    "papermill": {
     "duration": 0.013574,
     "end_time": "2024-02-15T03:51:37.471325",
     "exception": false,
     "start_time": "2024-02-15T03:51:37.457751",
     "status": "completed"
    },
    "tags": []
   },
   "source": [
    "# 3. <span title=\"A bit spicy\" style=\"color: darkgreen \">🌶️</span>\n",
    "\n",
    "In the tutorial, we talked about deciding whether we're prepared for the weather. I said that I'm safe from today's weather if...\n",
    "- I have an umbrella...\n",
    "- or if the rain isn't too heavy and I have a hood...\n",
    "- otherwise, I'm still fine unless it's raining *and* it's a workday\n",
    "\n",
    "The function below uses our first attempt at turning this logic into a Python expression. I claimed that there was a bug in that code. Can you find it?\n",
    "\n",
    "To prove that `prepared_for_weather` is buggy, come up with a set of inputs where either:\n",
    "- the function returns `False` (but should have returned `True`), or\n",
    "- the function returned `True` (but should have returned `False`).\n",
    "\n",
    "To get credit for completing this question, your code should return a <font color='#33cc33'>Correct</font> result."
   ]
  },
  {
   "cell_type": "code",
   "execution_count": 8,
   "id": "d0be173e",
   "metadata": {
    "execution": {
     "iopub.execute_input": "2024-02-15T03:51:37.503688Z",
     "iopub.status.busy": "2024-02-15T03:51:37.502667Z",
     "iopub.status.idle": "2024-02-15T03:51:37.515891Z",
     "shell.execute_reply": "2024-02-15T03:51:37.514850Z"
    },
    "papermill": {
     "duration": 0.031127,
     "end_time": "2024-02-15T03:51:37.518337",
     "exception": false,
     "start_time": "2024-02-15T03:51:37.487210",
     "status": "completed"
    },
    "tags": []
   },
   "outputs": [
    {
     "name": "stdout",
     "output_type": "stream",
     "text": [
      "False\n"
     ]
    },
    {
     "data": {
      "application/javascript": [
       "parent.postMessage({\"jupyterEvent\": \"custom.exercise_interaction\", \"data\": {\"outcomeType\": 1, \"valueTowardsCompletion\": 0.2, \"interactionType\": 1, \"questionType\": 1, \"questionId\": \"3_WeatherDebug\", \"learnToolsVersion\": \"0.3.4\", \"failureMessage\": \"\", \"exceptionClass\": \"\", \"trace\": \"\"}}, \"*\")"
      ],
      "text/plain": [
       "<IPython.core.display.Javascript object>"
      ]
     },
     "metadata": {},
     "output_type": "display_data"
    },
    {
     "data": {
      "text/markdown": [
       "<span style=\"color:#33cc33\">Correct:</span> \n",
       "\n",
       "One example of a failing test case is:\n",
       "\n",
       "```python\n",
       "have_umbrella = False\n",
       "rain_level = 0.0\n",
       "have_hood = False\n",
       "is_workday = False\n",
       "```\n",
       "\n",
       "Clearly we're prepared for the weather in this case. It's not raining. Not only that, it's not a workday, so we don't even need to leave the house! But our function will return False on these inputs.\n",
       "\n",
       "The key problem is that Python implictly parenthesizes the last part as:\n",
       "\n",
       "```python\n",
       "(not (rain_level > 0)) and is_workday\n",
       "```\n",
       "\n",
       "Whereas what we were trying to express would look more like:\n",
       "\n",
       "```python\n",
       "not (rain_level > 0 and is_workday)\n",
       "```\n"
      ],
      "text/plain": [
       "Correct: \n",
       "\n",
       "One example of a failing test case is:\n",
       "\n",
       "```python\n",
       "have_umbrella = False\n",
       "rain_level = 0.0\n",
       "have_hood = False\n",
       "is_workday = False\n",
       "```\n",
       "\n",
       "Clearly we're prepared for the weather in this case. It's not raining. Not only that, it's not a workday, so we don't even need to leave the house! But our function will return False on these inputs.\n",
       "\n",
       "The key problem is that Python implictly parenthesizes the last part as:\n",
       "\n",
       "```python\n",
       "(not (rain_level > 0)) and is_workday\n",
       "```\n",
       "\n",
       "Whereas what we were trying to express would look more like:\n",
       "\n",
       "```python\n",
       "not (rain_level > 0 and is_workday)\n",
       "```"
      ]
     },
     "metadata": {},
     "output_type": "display_data"
    }
   ],
   "source": [
    "def prepared_for_weather(have_umbrella, rain_level, have_hood, is_workday):\n",
    "    # Don't change this code. Our goal is just to find the bug, not fix it!\n",
    "    return have_umbrella or rain_level < 5 and have_hood or not rain_level > 0 and is_workday\n",
    "\n",
    "# Change the values of these inputs so they represent a case where prepared_for_weather\n",
    "# returns the wrong answer.\n",
    "have_umbrella = False\n",
    "rain_level = 0.0\n",
    "have_hood = False\n",
    "is_workday = False\n",
    "\n",
    "# Check what the function returns given the current values of the variables above\n",
    "actual = prepared_for_weather(have_umbrella, rain_level, have_hood, is_workday)\n",
    "print(actual)\n",
    "\n",
    "# Check your answer\n",
    "q3.check()"
   ]
  },
  {
   "cell_type": "code",
   "execution_count": 9,
   "id": "0e7dad96",
   "metadata": {
    "execution": {
     "iopub.execute_input": "2024-02-15T03:51:37.548159Z",
     "iopub.status.busy": "2024-02-15T03:51:37.547743Z",
     "iopub.status.idle": "2024-02-15T03:51:37.552357Z",
     "shell.execute_reply": "2024-02-15T03:51:37.551109Z"
    },
    "papermill": {
     "duration": 0.022226,
     "end_time": "2024-02-15T03:51:37.554641",
     "exception": false,
     "start_time": "2024-02-15T03:51:37.532415",
     "status": "completed"
    },
    "tags": []
   },
   "outputs": [],
   "source": [
    "# q3.hint()\n",
    "#q3.solution()"
   ]
  },
  {
   "cell_type": "markdown",
   "id": "47d935db",
   "metadata": {
    "papermill": {
     "duration": 0.01438,
     "end_time": "2024-02-15T03:51:37.583879",
     "exception": false,
     "start_time": "2024-02-15T03:51:37.569499",
     "status": "completed"
    },
    "tags": []
   },
   "source": [
    "# 4.\n",
    "\n",
    "The function `is_negative` below is implemented correctly - it returns True if the given number is negative and False otherwise.\n",
    "\n",
    "However, it's more verbose than it needs to be. We can actually reduce the number of lines of code in this function by *75%* while keeping the same behaviour. \n",
    "\n",
    "See if you can come up with an equivalent body that uses just **one line** of code, and put it in the function `concise_is_negative`. (HINT: you don't even need Python's ternary syntax)"
   ]
  },
  {
   "cell_type": "code",
   "execution_count": 10,
   "id": "e6c8c928",
   "metadata": {
    "execution": {
     "iopub.execute_input": "2024-02-15T03:51:37.614351Z",
     "iopub.status.busy": "2024-02-15T03:51:37.613933Z",
     "iopub.status.idle": "2024-02-15T03:51:37.623713Z",
     "shell.execute_reply": "2024-02-15T03:51:37.622688Z"
    },
    "papermill": {
     "duration": 0.027585,
     "end_time": "2024-02-15T03:51:37.626089",
     "exception": false,
     "start_time": "2024-02-15T03:51:37.598504",
     "status": "completed"
    },
    "tags": []
   },
   "outputs": [
    {
     "data": {
      "application/javascript": [
       "parent.postMessage({\"jupyterEvent\": \"custom.exercise_interaction\", \"data\": {\"outcomeType\": 1, \"valueTowardsCompletion\": 0.2, \"interactionType\": 1, \"questionType\": 2, \"questionId\": \"4_ConciseIsNegative\", \"learnToolsVersion\": \"0.3.4\", \"failureMessage\": \"\", \"exceptionClass\": \"\", \"trace\": \"\"}}, \"*\")"
      ],
      "text/plain": [
       "<IPython.core.display.Javascript object>"
      ]
     },
     "metadata": {},
     "output_type": "display_data"
    },
    {
     "data": {
      "text/markdown": [
       "<span style=\"color:#33cc33\">Correct</span>"
      ],
      "text/plain": [
       "Correct"
      ]
     },
     "metadata": {},
     "output_type": "display_data"
    }
   ],
   "source": [
    "def is_negative(number):\n",
    "    if number < 0:\n",
    "        return True\n",
    "    else:\n",
    "        return False\n",
    "\n",
    "def concise_is_negative(number):\n",
    "    # Your code goes here (try to keep it to one line!)\n",
    "    return number < 0\n",
    "\n",
    "# Check your answer\n",
    "q4.check()"
   ]
  },
  {
   "cell_type": "code",
   "execution_count": 11,
   "id": "6916d5b9",
   "metadata": {
    "execution": {
     "iopub.execute_input": "2024-02-15T03:51:37.657655Z",
     "iopub.status.busy": "2024-02-15T03:51:37.656668Z",
     "iopub.status.idle": "2024-02-15T03:51:37.660612Z",
     "shell.execute_reply": "2024-02-15T03:51:37.659874Z"
    },
    "papermill": {
     "duration": 0.022098,
     "end_time": "2024-02-15T03:51:37.663028",
     "exception": false,
     "start_time": "2024-02-15T03:51:37.640930",
     "status": "completed"
    },
    "tags": []
   },
   "outputs": [],
   "source": [
    "#q4.hint()\n",
    "#q4.solution()"
   ]
  },
  {
   "cell_type": "markdown",
   "id": "b86926fd",
   "metadata": {
    "papermill": {
     "duration": 0.01548,
     "end_time": "2024-02-15T03:51:37.693753",
     "exception": false,
     "start_time": "2024-02-15T03:51:37.678273",
     "status": "completed"
    },
    "tags": []
   },
   "source": [
    "# 5a.\n",
    "\n",
    "The boolean variables `ketchup`, `mustard` and `onion` represent whether a customer wants a particular topping on their hot dog. We want to implement a number of boolean functions that correspond to some yes-or-no questions about the customer's order. For example:"
   ]
  },
  {
   "cell_type": "code",
   "execution_count": 12,
   "id": "46a2c87e",
   "metadata": {
    "execution": {
     "iopub.execute_input": "2024-02-15T03:51:37.725416Z",
     "iopub.status.busy": "2024-02-15T03:51:37.724609Z",
     "iopub.status.idle": "2024-02-15T03:51:37.729154Z",
     "shell.execute_reply": "2024-02-15T03:51:37.728276Z"
    },
    "papermill": {
     "duration": 0.02296,
     "end_time": "2024-02-15T03:51:37.731514",
     "exception": false,
     "start_time": "2024-02-15T03:51:37.708554",
     "status": "completed"
    },
    "tags": []
   },
   "outputs": [],
   "source": [
    "def onionless(ketchup, mustard, onion):\n",
    "    \"\"\"Return whether the customer doesn't want onions.\n",
    "    \"\"\"\n",
    "    return not onion"
   ]
  },
  {
   "cell_type": "code",
   "execution_count": 13,
   "id": "61bf7d26",
   "metadata": {
    "execution": {
     "iopub.execute_input": "2024-02-15T03:51:37.763029Z",
     "iopub.status.busy": "2024-02-15T03:51:37.762606Z",
     "iopub.status.idle": "2024-02-15T03:51:37.772658Z",
     "shell.execute_reply": "2024-02-15T03:51:37.771551Z"
    },
    "papermill": {
     "duration": 0.028623,
     "end_time": "2024-02-15T03:51:37.774899",
     "exception": false,
     "start_time": "2024-02-15T03:51:37.746276",
     "status": "completed"
    },
    "tags": []
   },
   "outputs": [
    {
     "data": {
      "application/javascript": [
       "parent.postMessage({\"jupyterEvent\": \"custom.exercise_interaction\", \"data\": {\"outcomeType\": 1, \"valueTowardsCompletion\": 0.2, \"interactionType\": 1, \"questionType\": 2, \"questionId\": \"5.1_AllToppings\", \"learnToolsVersion\": \"0.3.4\", \"failureMessage\": \"\", \"exceptionClass\": \"\", \"trace\": \"\"}}, \"*\")"
      ],
      "text/plain": [
       "<IPython.core.display.Javascript object>"
      ]
     },
     "metadata": {},
     "output_type": "display_data"
    },
    {
     "data": {
      "text/markdown": [
       "<span style=\"color:#33cc33\">Correct</span>"
      ],
      "text/plain": [
       "Correct"
      ]
     },
     "metadata": {},
     "output_type": "display_data"
    }
   ],
   "source": [
    "def wants_all_toppings(ketchup, mustard, onion):\n",
    "    \"\"\"Return whether the customer wants \"the works\" (all 3 toppings)\n",
    "    \"\"\"\n",
    "    return ketchup and mustard and onion\n",
    "\n",
    "# Check your answer\n",
    "q5.a.check()"
   ]
  },
  {
   "cell_type": "code",
   "execution_count": 14,
   "id": "9141f44d",
   "metadata": {
    "execution": {
     "iopub.execute_input": "2024-02-15T03:51:37.806777Z",
     "iopub.status.busy": "2024-02-15T03:51:37.805724Z",
     "iopub.status.idle": "2024-02-15T03:51:37.810484Z",
     "shell.execute_reply": "2024-02-15T03:51:37.809646Z"
    },
    "papermill": {
     "duration": 0.02311,
     "end_time": "2024-02-15T03:51:37.812724",
     "exception": false,
     "start_time": "2024-02-15T03:51:37.789614",
     "status": "completed"
    },
    "tags": []
   },
   "outputs": [],
   "source": [
    "# q5.a.hint()\n",
    "#q5.a.solution()"
   ]
  },
  {
   "cell_type": "markdown",
   "id": "dd21d9c9",
   "metadata": {
    "papermill": {
     "duration": 0.01513,
     "end_time": "2024-02-15T03:51:37.843433",
     "exception": false,
     "start_time": "2024-02-15T03:51:37.828303",
     "status": "completed"
    },
    "tags": []
   },
   "source": [
    "# 5b.\n",
    "\n",
    "For the next function, fill in the body to match the English description in the docstring. "
   ]
  },
  {
   "cell_type": "code",
   "execution_count": 15,
   "id": "72258ad2",
   "metadata": {
    "execution": {
     "iopub.execute_input": "2024-02-15T03:51:37.875388Z",
     "iopub.status.busy": "2024-02-15T03:51:37.874965Z",
     "iopub.status.idle": "2024-02-15T03:51:37.884474Z",
     "shell.execute_reply": "2024-02-15T03:51:37.883653Z"
    },
    "papermill": {
     "duration": 0.028069,
     "end_time": "2024-02-15T03:51:37.886611",
     "exception": false,
     "start_time": "2024-02-15T03:51:37.858542",
     "status": "completed"
    },
    "tags": []
   },
   "outputs": [
    {
     "data": {
      "application/javascript": [
       "parent.postMessage({\"jupyterEvent\": \"custom.exercise_interaction\", \"data\": {\"outcomeType\": 1, \"valueTowardsCompletion\": 0.2, \"interactionType\": 1, \"questionType\": 2, \"questionId\": \"5.2_PlainDog\", \"learnToolsVersion\": \"0.3.4\", \"failureMessage\": \"\", \"exceptionClass\": \"\", \"trace\": \"\"}}, \"*\")"
      ],
      "text/plain": [
       "<IPython.core.display.Javascript object>"
      ]
     },
     "metadata": {},
     "output_type": "display_data"
    },
    {
     "data": {
      "text/markdown": [
       "<span style=\"color:#33cc33\">Correct:</span> \n",
       "\n",
       "One solution looks like:\n",
       "```python\n",
       "return not ketchup and not mustard and not onion\n",
       "```\n",
       "\n",
       "We can also [\"factor out\" the nots](https://en.wikipedia.org/wiki/De_Morgan%27s_laws) to get:\n",
       "\n",
       "```python\n",
       "return not (ketchup or mustard or onion)\n",
       "```"
      ],
      "text/plain": [
       "Correct: \n",
       "\n",
       "One solution looks like:\n",
       "```python\n",
       "return not ketchup and not mustard and not onion\n",
       "```\n",
       "\n",
       "We can also [\"factor out\" the nots](https://en.wikipedia.org/wiki/De_Morgan%27s_laws) to get:\n",
       "\n",
       "```python\n",
       "return not (ketchup or mustard or onion)\n",
       "```"
      ]
     },
     "metadata": {},
     "output_type": "display_data"
    }
   ],
   "source": [
    "def wants_plain_hotdog(ketchup, mustard, onion):\n",
    "    \"\"\"Return whether the customer wants a plain hot dog with no toppings.\n",
    "    \"\"\"\n",
    "    return not (ketchup or mustard or onion)\n",
    "\n",
    "# Check your answer\n",
    "q5.b.check()"
   ]
  },
  {
   "cell_type": "code",
   "execution_count": 16,
   "id": "38a097e6",
   "metadata": {
    "execution": {
     "iopub.execute_input": "2024-02-15T03:51:37.919320Z",
     "iopub.status.busy": "2024-02-15T03:51:37.918565Z",
     "iopub.status.idle": "2024-02-15T03:51:37.923565Z",
     "shell.execute_reply": "2024-02-15T03:51:37.922465Z"
    },
    "papermill": {
     "duration": 0.0241,
     "end_time": "2024-02-15T03:51:37.926006",
     "exception": false,
     "start_time": "2024-02-15T03:51:37.901906",
     "status": "completed"
    },
    "tags": []
   },
   "outputs": [],
   "source": [
    "#q5.b.hint()\n",
    "#q5.b.solution()"
   ]
  },
  {
   "cell_type": "markdown",
   "id": "f2c11af5",
   "metadata": {
    "papermill": {
     "duration": 0.015003,
     "end_time": "2024-02-15T03:51:37.956373",
     "exception": false,
     "start_time": "2024-02-15T03:51:37.941370",
     "status": "completed"
    },
    "tags": []
   },
   "source": [
    "# 5c.\n",
    "\n",
    "You know what to do: for the next function, fill in the body to match the English description in the docstring."
   ]
  },
  {
   "cell_type": "code",
   "execution_count": 17,
   "id": "db010707",
   "metadata": {
    "execution": {
     "iopub.execute_input": "2024-02-15T03:51:37.989254Z",
     "iopub.status.busy": "2024-02-15T03:51:37.988862Z",
     "iopub.status.idle": "2024-02-15T03:51:37.997684Z",
     "shell.execute_reply": "2024-02-15T03:51:37.996870Z"
    },
    "papermill": {
     "duration": 0.028144,
     "end_time": "2024-02-15T03:51:37.999761",
     "exception": false,
     "start_time": "2024-02-15T03:51:37.971617",
     "status": "completed"
    },
    "tags": []
   },
   "outputs": [
    {
     "data": {
      "application/javascript": [
       "parent.postMessage({\"jupyterEvent\": \"custom.exercise_interaction\", \"data\": {\"outcomeType\": 1, \"valueTowardsCompletion\": 0.2, \"interactionType\": 1, \"questionType\": 2, \"questionId\": \"5.3_OneSauce\", \"learnToolsVersion\": \"0.3.4\", \"failureMessage\": \"\", \"exceptionClass\": \"\", \"trace\": \"\"}}, \"*\")"
      ],
      "text/plain": [
       "<IPython.core.display.Javascript object>"
      ]
     },
     "metadata": {},
     "output_type": "display_data"
    },
    {
     "data": {
      "text/markdown": [
       "<span style=\"color:#33cc33\">Correct</span>"
      ],
      "text/plain": [
       "Correct"
      ]
     },
     "metadata": {},
     "output_type": "display_data"
    }
   ],
   "source": [
    "def exactly_one_sauce(ketchup, mustard, onion):\n",
    "    \"\"\"Return whether the customer wants either ketchup or mustard, but not both.\n",
    "    (You may be familiar with this operation under the name \"exclusive or\")\n",
    "    \"\"\"\n",
    "    return ketchup != mustard\n",
    "\n",
    "# Check your answer\n",
    "q5.c.check()"
   ]
  },
  {
   "cell_type": "code",
   "execution_count": 18,
   "id": "a8b3560d",
   "metadata": {
    "execution": {
     "iopub.execute_input": "2024-02-15T03:51:38.033473Z",
     "iopub.status.busy": "2024-02-15T03:51:38.033090Z",
     "iopub.status.idle": "2024-02-15T03:51:38.037338Z",
     "shell.execute_reply": "2024-02-15T03:51:38.036201Z"
    },
    "papermill": {
     "duration": 0.024275,
     "end_time": "2024-02-15T03:51:38.039744",
     "exception": false,
     "start_time": "2024-02-15T03:51:38.015469",
     "status": "completed"
    },
    "tags": []
   },
   "outputs": [],
   "source": [
    "# q5.c.hint()\n",
    "# q5.c.solution()"
   ]
  },
  {
   "cell_type": "markdown",
   "id": "28cbe48a",
   "metadata": {
    "papermill": {
     "duration": 0.015187,
     "end_time": "2024-02-15T03:51:38.070649",
     "exception": false,
     "start_time": "2024-02-15T03:51:38.055462",
     "status": "completed"
    },
    "tags": []
   },
   "source": [
    "# 6. <span title=\"A bit spicy\" style=\"color: darkgreen \">🌶️</span>\n",
    "\n",
    "We’ve seen that calling `bool()` on an integer returns `False` if it’s equal to 0 and `True` otherwise. What happens if we call `int()` on a bool? Try it out in the notebook cell below.\n",
    "\n",
    "Can you take advantage of this to write a succinct function that corresponds to the English sentence \"does the customer want exactly one topping?\"?"
   ]
  },
  {
   "cell_type": "code",
   "execution_count": 19,
   "id": "b3863fb8",
   "metadata": {
    "execution": {
     "iopub.execute_input": "2024-02-15T03:51:38.105632Z",
     "iopub.status.busy": "2024-02-15T03:51:38.105211Z",
     "iopub.status.idle": "2024-02-15T03:51:38.115980Z",
     "shell.execute_reply": "2024-02-15T03:51:38.114866Z"
    },
    "papermill": {
     "duration": 0.031128,
     "end_time": "2024-02-15T03:51:38.118573",
     "exception": false,
     "start_time": "2024-02-15T03:51:38.087445",
     "status": "completed"
    },
    "tags": []
   },
   "outputs": [
    {
     "data": {
      "application/javascript": [
       "parent.postMessage({\"jupyterEvent\": \"custom.exercise_interaction\", \"data\": {\"outcomeType\": 1, \"valueTowardsCompletion\": 0.2, \"interactionType\": 1, \"questionType\": 2, \"questionId\": \"6_OneTopping\", \"learnToolsVersion\": \"0.3.4\", \"failureMessage\": \"\", \"exceptionClass\": \"\", \"trace\": \"\"}}, \"*\")"
      ],
      "text/plain": [
       "<IPython.core.display.Javascript object>"
      ]
     },
     "metadata": {},
     "output_type": "display_data"
    },
    {
     "data": {
      "text/markdown": [
       "<span style=\"color:#33cc33\">Correct:</span> \n",
       "\n",
       "This condition would be pretty complicated to express using just `and`, `or` and `not`, but using boolean-to-integer conversion gives us this short solution:\n",
       "```python\n",
       "return (int(ketchup) + int(mustard) + int(onion)) == 1\n",
       "```\n",
       "\n",
       "Fun fact: we don't technically need to call `int` on the arguments. Just by doing addition with booleans, Python implicitly does the integer conversion. So we could also write...\n",
       "\n",
       "```python\n",
       "return (ketchup + mustard + onion) == 1\n",
       "```"
      ],
      "text/plain": [
       "Correct: \n",
       "\n",
       "This condition would be pretty complicated to express using just `and`, `or` and `not`, but using boolean-to-integer conversion gives us this short solution:\n",
       "```python\n",
       "return (int(ketchup) + int(mustard) + int(onion)) == 1\n",
       "```\n",
       "\n",
       "Fun fact: we don't technically need to call `int` on the arguments. Just by doing addition with booleans, Python implicitly does the integer conversion. So we could also write...\n",
       "\n",
       "```python\n",
       "return (ketchup + mustard + onion) == 1\n",
       "```"
      ]
     },
     "metadata": {},
     "output_type": "display_data"
    }
   ],
   "source": [
    "def exactly_one_topping(ketchup, mustard, onion):\n",
    "    \"\"\"Return whether the customer wants exactly one of the three available toppings\n",
    "    on their hot dog.\n",
    "    \"\"\"\n",
    "    return int(ketchup) +  int(mustard) + int(onion) == 1\n",
    "\n",
    "# Check your answer\n",
    "q6.check()"
   ]
  },
  {
   "cell_type": "code",
   "execution_count": 20,
   "id": "52239abe",
   "metadata": {
    "execution": {
     "iopub.execute_input": "2024-02-15T03:51:38.212495Z",
     "iopub.status.busy": "2024-02-15T03:51:38.211794Z",
     "iopub.status.idle": "2024-02-15T03:51:38.216509Z",
     "shell.execute_reply": "2024-02-15T03:51:38.215400Z"
    },
    "papermill": {
     "duration": 0.08404,
     "end_time": "2024-02-15T03:51:38.218974",
     "exception": false,
     "start_time": "2024-02-15T03:51:38.134934",
     "status": "completed"
    },
    "tags": []
   },
   "outputs": [],
   "source": [
    "#q6.hint()\n",
    "#q6.solution()"
   ]
  },
  {
   "cell_type": "markdown",
   "id": "27a62b67",
   "metadata": {
    "papermill": {
     "duration": 0.015765,
     "end_time": "2024-02-15T03:51:38.251244",
     "exception": false,
     "start_time": "2024-02-15T03:51:38.235479",
     "status": "completed"
    },
    "tags": []
   },
   "source": [
    "# 7. <span title=\"A bit spicy\" style=\"color: darkgreen \">🌶️</span> (Optional)\n",
    "\n",
    "In this problem we'll be working with a simplified version of [blackjack](https://en.wikipedia.org/wiki/Blackjack) (aka twenty-one). In this version there is one player (who you'll control) and a dealer. Play proceeds as follows:\n",
    "\n",
    "- The player is dealt two face-up cards. The dealer is dealt one face-up card.\n",
    "- The player may ask to be dealt another card ('hit') as many times as they wish. If the sum of their cards exceeds 21, they lose the round immediately.\n",
    "- The dealer then deals additional cards to himself until either:\n",
    "    - the sum of the dealer's cards exceeds 21, in which case the player wins the round\n",
    "    - the sum of the dealer's cards is greater than or equal to 17. If the player's total is greater than the dealer's, the player wins. Otherwise, the dealer wins (even in case of a tie).\n",
    "    \n",
    "When calculating the sum of cards, Jack, Queen, and King count for 10. Aces can count as 1 or 11 (when referring to a player's \"total\" above, we mean the largest total that can be made without exceeding 21. So e.g. A+8 = 19, A+8+8 = 17)\n",
    "\n",
    "For this problem, you'll write a function representing the player's decision-making strategy in this game. We've provided a very unintelligent implementation below:"
   ]
  },
  {
   "cell_type": "code",
   "execution_count": 21,
   "id": "d70d7af5",
   "metadata": {
    "execution": {
     "iopub.execute_input": "2024-02-15T03:51:38.285101Z",
     "iopub.status.busy": "2024-02-15T03:51:38.284705Z",
     "iopub.status.idle": "2024-02-15T03:51:38.290285Z",
     "shell.execute_reply": "2024-02-15T03:51:38.289094Z"
    },
    "papermill": {
     "duration": 0.025322,
     "end_time": "2024-02-15T03:51:38.292561",
     "exception": false,
     "start_time": "2024-02-15T03:51:38.267239",
     "status": "completed"
    },
    "tags": []
   },
   "outputs": [],
   "source": [
    "def should_hit(dealer_total, player_total, player_low_aces, player_high_aces):\n",
    "    \"\"\"Return True if the player should hit (request another card) given the current game\n",
    "    state, or False if the player should stay.\n",
    "    When calculating a hand's total value, we count aces as \"high\" (with value 11) if doing so\n",
    "    doesn't bring the total above 21, otherwise we count them as low (with value 1). \n",
    "    For example, if the player's hand is {A, A, A, 7}, we will count it as 11 + 1 + 1 + 7,\n",
    "    and therefore set player_total=20, player_low_aces=2, player_high_aces=1.\n",
    "    \"\"\"\n",
    "    return False"
   ]
  },
  {
   "cell_type": "markdown",
   "id": "580c0d0e",
   "metadata": {
    "papermill": {
     "duration": 0.015824,
     "end_time": "2024-02-15T03:51:38.325036",
     "exception": false,
     "start_time": "2024-02-15T03:51:38.309212",
     "status": "completed"
    },
    "tags": []
   },
   "source": [
    "This very conservative agent *always* sticks with the hand of two cards that they're dealt.\n",
    "\n",
    "We'll be simulating games between your player agent and our own dealer agent by calling your function.\n",
    "\n",
    "Try running the function below to see an example of a simulated game:"
   ]
  },
  {
   "cell_type": "code",
   "execution_count": 22,
   "id": "86d2e795",
   "metadata": {
    "execution": {
     "iopub.execute_input": "2024-02-15T03:51:38.358804Z",
     "iopub.status.busy": "2024-02-15T03:51:38.358385Z",
     "iopub.status.idle": "2024-02-15T03:51:38.364248Z",
     "shell.execute_reply": "2024-02-15T03:51:38.363185Z"
    },
    "papermill": {
     "duration": 0.025689,
     "end_time": "2024-02-15T03:51:38.366808",
     "exception": false,
     "start_time": "2024-02-15T03:51:38.341119",
     "status": "completed"
    },
    "tags": []
   },
   "outputs": [
    {
     "name": "stdout",
     "output_type": "stream",
     "text": [
      "Player starts with 3 and K (total = 13)\n",
      "Dealer starts with 4\n",
      "\n",
      "__Player's turn__\n",
      "Player stays\n",
      "\n",
      "__Dealer's turn__\n",
      "Dealer hits and receives 6. (total = 10)\n",
      "Dealer hits and receives Q. (total = 20)\n",
      "Dealer stands.\n",
      "Dealer wins. 20 >= 13\n"
     ]
    }
   ],
   "source": [
    "q7.simulate_one_game()"
   ]
  },
  {
   "cell_type": "markdown",
   "id": "2cb9c316",
   "metadata": {
    "papermill": {
     "duration": 0.015958,
     "end_time": "2024-02-15T03:51:38.399090",
     "exception": false,
     "start_time": "2024-02-15T03:51:38.383132",
     "status": "completed"
    },
    "tags": []
   },
   "source": [
    "The real test of your agent's mettle is their average win rate over many games. Try calling the function below to simulate 50000 games of blackjack (it may take a couple seconds):"
   ]
  },
  {
   "cell_type": "code",
   "execution_count": 23,
   "id": "1e976d6d",
   "metadata": {
    "execution": {
     "iopub.execute_input": "2024-02-15T03:51:38.433679Z",
     "iopub.status.busy": "2024-02-15T03:51:38.433283Z",
     "iopub.status.idle": "2024-02-15T03:51:40.617000Z",
     "shell.execute_reply": "2024-02-15T03:51:40.615825Z"
    },
    "papermill": {
     "duration": 2.204103,
     "end_time": "2024-02-15T03:51:40.619395",
     "exception": false,
     "start_time": "2024-02-15T03:51:38.415292",
     "status": "completed"
    },
    "tags": []
   },
   "outputs": [
    {
     "name": "stdout",
     "output_type": "stream",
     "text": [
      "Player won 19028 out of 50000 games (win rate = 38.1%)\n"
     ]
    }
   ],
   "source": [
    "q7.simulate(n_games=50000)"
   ]
  },
  {
   "cell_type": "markdown",
   "id": "ab07b16b",
   "metadata": {
    "papermill": {
     "duration": 0.015805,
     "end_time": "2024-02-15T03:51:40.651358",
     "exception": false,
     "start_time": "2024-02-15T03:51:40.635553",
     "status": "completed"
    },
    "tags": []
   },
   "source": [
    "Our dumb agent that completely ignores the game state still manages to win shockingly often!\n",
    "\n",
    "Try adding some more smarts to the `should_hit` function and see how it affects the results."
   ]
  },
  {
   "cell_type": "code",
   "execution_count": 24,
   "id": "4e18810b",
   "metadata": {
    "execution": {
     "iopub.execute_input": "2024-02-15T03:51:40.686480Z",
     "iopub.status.busy": "2024-02-15T03:51:40.685177Z",
     "iopub.status.idle": "2024-02-15T03:51:42.961333Z",
     "shell.execute_reply": "2024-02-15T03:51:42.960232Z"
    },
    "papermill": {
     "duration": 2.297612,
     "end_time": "2024-02-15T03:51:42.965164",
     "exception": false,
     "start_time": "2024-02-15T03:51:40.667552",
     "status": "completed"
    },
    "tags": []
   },
   "outputs": [
    {
     "name": "stdout",
     "output_type": "stream",
     "text": [
      "Player won 19870 out of 50000 games (win rate = 39.7%)\n"
     ]
    }
   ],
   "source": [
    "def should_hit(dealer_total, player_total, player_low_aces, player_high_aces):\n",
    "    \"\"\"Return True if the player should hit (request another card) given the current game\n",
    "    state, or False if the player should stay.\n",
    "    When calculating a hand's total value, we count aces as \"high\" (with value 11) if doing so\n",
    "    doesn't bring the total above 21, otherwise we count them as low (with value 1). \n",
    "    For example, if the player's hand is {A, A, A, 7}, we will count it as 11 + 1 + 1 + 7,\n",
    "    and therefore set player_total=20, player_low_aces=2, player_high_aces=1.\n",
    "    \"\"\"\n",
    "    return True if player_total < 11 else False\n",
    "\n",
    "q7.simulate(n_games=50000)"
   ]
  },
  {
   "cell_type": "markdown",
   "id": "5a93dff7",
   "metadata": {
    "papermill": {
     "duration": 0.016635,
     "end_time": "2024-02-15T03:51:42.998439",
     "exception": false,
     "start_time": "2024-02-15T03:51:42.981804",
     "status": "completed"
    },
    "tags": []
   },
   "source": [
    "# Keep Going\n",
    "\n",
    "Learn about **[lists and tuples](https://www.kaggle.com/colinmorris/lists)** to handle multiple items of data in a systematic way."
   ]
  },
  {
   "cell_type": "markdown",
   "id": "e65fe20a",
   "metadata": {
    "papermill": {
     "duration": 0.01599,
     "end_time": "2024-02-15T03:51:43.031168",
     "exception": false,
     "start_time": "2024-02-15T03:51:43.015178",
     "status": "completed"
    },
    "tags": []
   },
   "source": [
    "---\n",
    "\n",
    "\n",
    "\n",
    "\n",
    "*Have questions or comments? Visit the [course discussion forum](https://www.kaggle.com/learn/python/discussion) to chat with other learners.*"
   ]
  }
 ],
 "metadata": {
  "kaggle": {
   "accelerator": "none",
   "dataSources": [],
   "isGpuEnabled": false,
   "isInternetEnabled": false,
   "language": "python",
   "sourceType": "notebook"
  },
  "kernelspec": {
   "display_name": "Python 3",
   "language": "python",
   "name": "python3"
  },
  "language_info": {
   "codemirror_mode": {
    "name": "ipython",
    "version": 3
   },
   "file_extension": ".py",
   "mimetype": "text/x-python",
   "name": "python",
   "nbconvert_exporter": "python",
   "pygments_lexer": "ipython3",
   "version": "3.10.13"
  },
  "learntools_metadata": {
   "lesson_index": 2,
   "type": "exercise"
  },
  "papermill": {
   "default_parameters": {},
   "duration": 11.009632,
   "end_time": "2024-02-15T03:51:43.568267",
   "environment_variables": {},
   "exception": null,
   "input_path": "__notebook__.ipynb",
   "output_path": "__notebook__.ipynb",
   "parameters": {},
   "start_time": "2024-02-15T03:51:32.558635",
   "version": "2.5.0"
  }
 },
 "nbformat": 4,
 "nbformat_minor": 5
}
