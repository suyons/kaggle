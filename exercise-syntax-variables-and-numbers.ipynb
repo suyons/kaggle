{
 "cells": [
  {
   "cell_type": "markdown",
   "id": "afa5dea7",
   "metadata": {
    "papermill": {
     "duration": 0.006678,
     "end_time": "2024-02-15T02:41:21.023453",
     "exception": false,
     "start_time": "2024-02-15T02:41:21.016775",
     "status": "completed"
    },
    "tags": []
   },
   "source": [
    "**This notebook is an exercise in the [Python](https://www.kaggle.com/learn/python) course.  You can reference the tutorial at [this link](https://www.kaggle.com/colinmorris/hello-python).**\n",
    "\n",
    "---\n"
   ]
  },
  {
   "cell_type": "markdown",
   "id": "4d98a902",
   "metadata": {
    "papermill": {
     "duration": 0.0058,
     "end_time": "2024-02-15T02:41:21.035380",
     "exception": false,
     "start_time": "2024-02-15T02:41:21.029580",
     "status": "completed"
    },
    "tags": []
   },
   "source": [
    "Welcome to your first set of Python coding problems.  If this is your first time using Kaggle Notebooks, welcome! \n",
    "\n",
    "Notebooks are composed of blocks (called \"cells\") of text and code. Each of these is editable, though you'll mainly be editing the code cells to answer some questions.\n",
    "\n",
    "To get started, try running the code cell below (by pressing the ► button, or clicking on the cell and pressing ctrl+enter on your keyboard)."
   ]
  },
  {
   "cell_type": "code",
   "execution_count": 1,
   "id": "2aacda16",
   "metadata": {
    "execution": {
     "iopub.execute_input": "2024-02-15T02:41:21.049905Z",
     "iopub.status.busy": "2024-02-15T02:41:21.049122Z",
     "iopub.status.idle": "2024-02-15T02:41:21.061888Z",
     "shell.execute_reply": "2024-02-15T02:41:21.060570Z"
    },
    "papermill": {
     "duration": 0.023036,
     "end_time": "2024-02-15T02:41:21.064407",
     "exception": false,
     "start_time": "2024-02-15T02:41:21.041371",
     "status": "completed"
    },
    "tags": []
   },
   "outputs": [
    {
     "name": "stdout",
     "output_type": "stream",
     "text": [
      "You've successfully run some Python code\n",
      "Congratulations!\n"
     ]
    }
   ],
   "source": [
    "print(\"You've successfully run some Python code\")\n",
    "print(\"Congratulations!\")"
   ]
  },
  {
   "cell_type": "markdown",
   "id": "682cdb95",
   "metadata": {
    "papermill": {
     "duration": 0.006001,
     "end_time": "2024-02-15T02:41:21.077124",
     "exception": false,
     "start_time": "2024-02-15T02:41:21.071123",
     "status": "completed"
    },
    "tags": []
   },
   "source": [
    "Try adding another line of code in the cell above and re-running it. \n",
    "\n",
    "Now let's get a little fancier:  Add a new code cell by clicking on an existing code cell, hitting the escape key, and then hitting the `a` or `b` key.  The `a` key will add a cell above the current cell, and `b` adds a cell below.\n",
    "\n",
    "Great! Now you know how to use Notebooks.\n",
    "\n",
    "Each hands-on exercise starts by setting up our feedback and code checking mechanism. Run the code cell below to do that. Then you'll be ready to move on to question 0."
   ]
  },
  {
   "cell_type": "code",
   "execution_count": 2,
   "id": "8dcdc47a",
   "metadata": {
    "_kg_hide-input": true,
    "_kg_hide-output": true,
    "execution": {
     "iopub.execute_input": "2024-02-15T02:41:21.091355Z",
     "iopub.status.busy": "2024-02-15T02:41:21.090907Z",
     "iopub.status.idle": "2024-02-15T02:41:21.922543Z",
     "shell.execute_reply": "2024-02-15T02:41:21.921284Z"
    },
    "papermill": {
     "duration": 0.84138,
     "end_time": "2024-02-15T02:41:21.924763",
     "exception": false,
     "start_time": "2024-02-15T02:41:21.083383",
     "status": "completed"
    },
    "tags": []
   },
   "outputs": [
    {
     "name": "stdout",
     "output_type": "stream",
     "text": [
      "Setup complete! You're ready to start question 0.\n"
     ]
    }
   ],
   "source": [
    "from learntools.core import binder; binder.bind(globals())\n",
    "from learntools.python.ex1 import *\n",
    "print(\"Setup complete! You're ready to start question 0.\")"
   ]
  },
  {
   "cell_type": "markdown",
   "id": "16a0f248",
   "metadata": {
    "papermill": {
     "duration": 0.006068,
     "end_time": "2024-02-15T02:41:21.937361",
     "exception": false,
     "start_time": "2024-02-15T02:41:21.931293",
     "status": "completed"
    },
    "tags": []
   },
   "source": [
    "# 0.\n",
    "\n",
    "*This is a silly question intended as an introduction to the format we use for hands-on exercises throughout all Kaggle courses.*\n",
    "\n",
    "**What is your favorite color? **\n",
    "\n",
    "To complete this question, create a variable called `color` in the cell below with an appropriate value. The function call `q0.check()` (which we've already provided in the cell below) will check your answer."
   ]
  },
  {
   "cell_type": "code",
   "execution_count": 3,
   "id": "9982bdee",
   "metadata": {
    "execution": {
     "iopub.execute_input": "2024-02-15T02:41:21.951505Z",
     "iopub.status.busy": "2024-02-15T02:41:21.951023Z",
     "iopub.status.idle": "2024-02-15T02:41:21.960266Z",
     "shell.execute_reply": "2024-02-15T02:41:21.959263Z"
    },
    "papermill": {
     "duration": 0.01867,
     "end_time": "2024-02-15T02:41:21.962182",
     "exception": false,
     "start_time": "2024-02-15T02:41:21.943512",
     "status": "completed"
    },
    "tags": []
   },
   "outputs": [
    {
     "data": {
      "application/javascript": [
       "parent.postMessage({\"jupyterEvent\": \"custom.exercise_interaction\", \"data\": {\"outcomeType\": 1, \"valueTowardsCompletion\": 0.25, \"interactionType\": 1, \"questionType\": 2, \"questionId\": \"0_ExerciseFormatTutorial\", \"learnToolsVersion\": \"0.3.4\", \"failureMessage\": \"\", \"exceptionClass\": \"\", \"trace\": \"\"}}, \"*\")"
      ],
      "text/plain": [
       "<IPython.core.display.Javascript object>"
      ]
     },
     "metadata": {},
     "output_type": "display_data"
    },
    {
     "data": {
      "text/markdown": [
       "<span style=\"color:#33cc33\">Correct:</span> What?! You got it right without needing a hint or anything? Drats. Well hey, you should still continue to the next step to get some practice asking for a hint and checking solutions. (Even though you obviously don't need any help here.)"
      ],
      "text/plain": [
       "Correct: What?! You got it right without needing a hint or anything? Drats. Well hey, you should still continue to the next step to get some practice asking for a hint and checking solutions. (Even though you obviously don't need any help here.)"
      ]
     },
     "metadata": {},
     "output_type": "display_data"
    }
   ],
   "source": [
    "# create a variable called color with an appropriate value on the line below\n",
    "# (Remember, strings in Python must be enclosed in 'single' or \"double\" quotes)\n",
    "color = \"blue\"\n",
    "\n",
    "# Check your answer\n",
    "q0.check()"
   ]
  },
  {
   "cell_type": "markdown",
   "id": "d11de4d5",
   "metadata": {
    "papermill": {
     "duration": 0.006109,
     "end_time": "2024-02-15T02:41:21.974740",
     "exception": false,
     "start_time": "2024-02-15T02:41:21.968631",
     "status": "completed"
    },
    "tags": []
   },
   "source": [
    "Didn't get the right answer? How do you not even know your own favorite color?!\n",
    "\n",
    "Delete the `#` in the line below to make one of the lines run. You can choose between getting a hint or the full answer by choosing which line to remove the `#` from. \n",
    "\n",
    "Removing the `#` is called uncommenting, because it changes that line from a \"comment\" which Python doesn't run to code, which Python does run."
   ]
  },
  {
   "cell_type": "code",
   "execution_count": 4,
   "id": "8f77b1ff",
   "metadata": {
    "execution": {
     "iopub.execute_input": "2024-02-15T02:41:21.989220Z",
     "iopub.status.busy": "2024-02-15T02:41:21.988831Z",
     "iopub.status.idle": "2024-02-15T02:41:21.992679Z",
     "shell.execute_reply": "2024-02-15T02:41:21.991752Z"
    },
    "papermill": {
     "duration": 0.013509,
     "end_time": "2024-02-15T02:41:21.994678",
     "exception": false,
     "start_time": "2024-02-15T02:41:21.981169",
     "status": "completed"
    },
    "tags": []
   },
   "outputs": [],
   "source": [
    "# q0.hint()\n",
    "# q0.solution()"
   ]
  },
  {
   "cell_type": "markdown",
   "id": "9aa878b3",
   "metadata": {
    "papermill": {
     "duration": 0.007248,
     "end_time": "2024-02-15T02:41:22.008379",
     "exception": false,
     "start_time": "2024-02-15T02:41:22.001131",
     "status": "completed"
    },
    "tags": []
   },
   "source": [
    "The upcoming questions work the same way. The only thing that will change are the question numbers. For the next question, you'll call `q1.check()`, `q1.hint()`, `q1.solution()`, for question 2, you'll call `q2.check()`, and so on."
   ]
  },
  {
   "cell_type": "markdown",
   "id": "7ab033e9",
   "metadata": {
    "papermill": {
     "duration": 0.006408,
     "end_time": "2024-02-15T02:41:22.021616",
     "exception": false,
     "start_time": "2024-02-15T02:41:22.015208",
     "status": "completed"
    },
    "tags": []
   },
   "source": [
    "<hr/>\n",
    "\n",
    "# 1.\n",
    "\n",
    "Complete the code below. In case it's helpful, here is the table of available arithmetic operations:\n",
    "\n",
    "\n",
    "\n",
    "| Operator     | Name           | Description                                            |\n",
    "|--------------|----------------|--------------------------------------------------------|\n",
    "| ``a + b``    | Addition       | Sum of ``a`` and ``b``                                 |\n",
    "| ``a - b``    | Subtraction    | Difference of ``a`` and ``b``                          |\n",
    "| ``a * b``    | Multiplication | Product of ``a`` and ``b``                             |\n",
    "| ``a / b``    | True division  | Quotient of ``a`` and ``b``                            |\n",
    "| ``a // b``   | Floor division | Quotient of ``a`` and ``b``, removing fractional parts |\n",
    "| ``a % b``    | Modulus        | Integer remainder after division of ``a`` by ``b``     |\n",
    "| ``a ** b``   | Exponentiation | ``a`` raised to the power of ``b``                     |\n",
    "| ``-a``       | Negation       | The negative of ``a``                                  |\n",
    "\n",
    "<span style=\"display:none\"></span>\n"
   ]
  },
  {
   "cell_type": "code",
   "execution_count": 5,
   "id": "2d0e371f",
   "metadata": {
    "execution": {
     "iopub.execute_input": "2024-02-15T02:41:22.036941Z",
     "iopub.status.busy": "2024-02-15T02:41:22.036040Z",
     "iopub.status.idle": "2024-02-15T02:41:22.044598Z",
     "shell.execute_reply": "2024-02-15T02:41:22.043679Z"
    },
    "papermill": {
     "duration": 0.018455,
     "end_time": "2024-02-15T02:41:22.046661",
     "exception": false,
     "start_time": "2024-02-15T02:41:22.028206",
     "status": "completed"
    },
    "tags": []
   },
   "outputs": [
    {
     "data": {
      "application/javascript": [
       "parent.postMessage({\"jupyterEvent\": \"custom.exercise_interaction\", \"data\": {\"outcomeType\": 1, \"valueTowardsCompletion\": 0.25, \"interactionType\": 1, \"questionType\": 1, \"questionId\": \"1_CircleArea\", \"learnToolsVersion\": \"0.3.4\", \"failureMessage\": \"\", \"exceptionClass\": \"\", \"trace\": \"\"}}, \"*\")"
      ],
      "text/plain": [
       "<IPython.core.display.Javascript object>"
      ]
     },
     "metadata": {},
     "output_type": "display_data"
    },
    {
     "data": {
      "text/markdown": [
       "<span style=\"color:#33cc33\">Correct</span>"
      ],
      "text/plain": [
       "Correct"
      ]
     },
     "metadata": {},
     "output_type": "display_data"
    }
   ],
   "source": [
    "pi = 3.14159 # approximate\n",
    "diameter = 3\n",
    "\n",
    "# Create a variable called 'radius' equal to half the diameter\n",
    "radius = diameter / 2\n",
    "\n",
    "# Create a variable called 'area', using the formula for the area of a circle: pi times the radius squared\n",
    "area = pi * radius ** 2\n",
    "\n",
    "# Check your answer\n",
    "q1.check()"
   ]
  },
  {
   "cell_type": "code",
   "execution_count": 6,
   "id": "da6f941b",
   "metadata": {
    "execution": {
     "iopub.execute_input": "2024-02-15T02:41:22.061875Z",
     "iopub.status.busy": "2024-02-15T02:41:22.061533Z",
     "iopub.status.idle": "2024-02-15T02:41:22.065933Z",
     "shell.execute_reply": "2024-02-15T02:41:22.064957Z"
    },
    "papermill": {
     "duration": 0.014531,
     "end_time": "2024-02-15T02:41:22.067974",
     "exception": false,
     "start_time": "2024-02-15T02:41:22.053443",
     "status": "completed"
    },
    "tags": []
   },
   "outputs": [],
   "source": [
    "# Uncomment and run the lines below if you need help.\n",
    "# q1.hint()\n",
    "# q1.solution()"
   ]
  },
  {
   "cell_type": "markdown",
   "id": "8c3147f6",
   "metadata": {
    "papermill": {
     "duration": 0.006762,
     "end_time": "2024-02-15T02:41:22.081491",
     "exception": false,
     "start_time": "2024-02-15T02:41:22.074729",
     "status": "completed"
    },
    "tags": []
   },
   "source": [
    "<hr/>\n",
    "\n",
    "# 2.\n",
    "\n",
    "Add code to the following cell to swap variables `a` and `b` (so that `a` refers to the object previously referred to by `b` and vice versa)."
   ]
  },
  {
   "cell_type": "code",
   "execution_count": 7,
   "id": "2530b4d4",
   "metadata": {
    "execution": {
     "iopub.execute_input": "2024-02-15T02:41:22.097167Z",
     "iopub.status.busy": "2024-02-15T02:41:22.096563Z",
     "iopub.status.idle": "2024-02-15T02:41:22.104767Z",
     "shell.execute_reply": "2024-02-15T02:41:22.104095Z"
    },
    "papermill": {
     "duration": 0.018025,
     "end_time": "2024-02-15T02:41:22.106452",
     "exception": false,
     "start_time": "2024-02-15T02:41:22.088427",
     "status": "completed"
    },
    "tags": []
   },
   "outputs": [
    {
     "data": {
      "application/javascript": [
       "parent.postMessage({\"jupyterEvent\": \"custom.exercise_interaction\", \"data\": {\"outcomeType\": 1, \"valueTowardsCompletion\": 0.25, \"interactionType\": 1, \"questionType\": 2, \"questionId\": \"2_VariableSwap\", \"learnToolsVersion\": \"0.3.4\", \"failureMessage\": \"\", \"exceptionClass\": \"\", \"trace\": \"\"}}, \"*\")"
      ],
      "text/plain": [
       "<IPython.core.display.Javascript object>"
      ]
     },
     "metadata": {},
     "output_type": "display_data"
    },
    {
     "data": {
      "text/markdown": [
       "<span style=\"color:#33cc33\">Correct:</span> \n",
       "\n",
       "The most straightforward solution is to use a third variable to temporarily store one of the old values. e.g.:\n",
       "\n",
       "    tmp = a\n",
       "    a = b\n",
       "    b = tmp\n",
       "\n",
       "If you've read lots of Python code, you might have seen the following trick to swap two variables in one line:\n",
       "\n",
       "    a, b = b, a\n",
       "\n",
       "We'll demystify this bit of Python magic later when we talk about *tuples*."
      ],
      "text/plain": [
       "Correct: \n",
       "\n",
       "The most straightforward solution is to use a third variable to temporarily store one of the old values. e.g.:\n",
       "\n",
       "    tmp = a\n",
       "    a = b\n",
       "    b = tmp\n",
       "\n",
       "If you've read lots of Python code, you might have seen the following trick to swap two variables in one line:\n",
       "\n",
       "    a, b = b, a\n",
       "\n",
       "We'll demystify this bit of Python magic later when we talk about *tuples*."
      ]
     },
     "metadata": {},
     "output_type": "display_data"
    }
   ],
   "source": [
    "########### Setup code - don't touch this part ######################\n",
    "# If you're curious, these are examples of lists. We'll talk about \n",
    "# them in depth a few lessons from now. For now, just know that they're\n",
    "# yet another type of Python object, like int or float.\n",
    "a = [1, 2, 3]\n",
    "b = [3, 2, 1]\n",
    "q2.store_original_ids()\n",
    "######################################################################\n",
    "\n",
    "# Your code goes here. Swap the values to which a and b refer.\n",
    "# If you get stuck, you can always uncomment one or both of the lines in\n",
    "# the next cell for a hint, or to peek at the solution.\n",
    "\n",
    "######################################################################\n",
    "\n",
    "a, b = b, a\n",
    "\n",
    "# Check your answer\n",
    "q2.check()"
   ]
  },
  {
   "cell_type": "code",
   "execution_count": 8,
   "id": "1328a62e",
   "metadata": {
    "execution": {
     "iopub.execute_input": "2024-02-15T02:41:22.121758Z",
     "iopub.status.busy": "2024-02-15T02:41:22.121433Z",
     "iopub.status.idle": "2024-02-15T02:41:22.124853Z",
     "shell.execute_reply": "2024-02-15T02:41:22.124128Z"
    },
    "papermill": {
     "duration": 0.013385,
     "end_time": "2024-02-15T02:41:22.126778",
     "exception": false,
     "start_time": "2024-02-15T02:41:22.113393",
     "status": "completed"
    },
    "tags": []
   },
   "outputs": [],
   "source": [
    "#q2.hint()"
   ]
  },
  {
   "cell_type": "code",
   "execution_count": 9,
   "id": "652b42cb",
   "metadata": {
    "execution": {
     "iopub.execute_input": "2024-02-15T02:41:22.142843Z",
     "iopub.status.busy": "2024-02-15T02:41:22.142188Z",
     "iopub.status.idle": "2024-02-15T02:41:22.145673Z",
     "shell.execute_reply": "2024-02-15T02:41:22.145010Z"
    },
    "papermill": {
     "duration": 0.013628,
     "end_time": "2024-02-15T02:41:22.147473",
     "exception": false,
     "start_time": "2024-02-15T02:41:22.133845",
     "status": "completed"
    },
    "tags": []
   },
   "outputs": [],
   "source": [
    "#q2.solution()"
   ]
  },
  {
   "cell_type": "markdown",
   "id": "cc1aaa33",
   "metadata": {
    "papermill": {
     "duration": 0.006786,
     "end_time": "2024-02-15T02:41:22.161313",
     "exception": false,
     "start_time": "2024-02-15T02:41:22.154527",
     "status": "completed"
    },
    "tags": []
   },
   "source": [
    "<hr/>\n",
    "\n",
    "# 3a.\n",
    "\n",
    "Add parentheses to the following expression so that it evaluates to 1."
   ]
  },
  {
   "cell_type": "code",
   "execution_count": 10,
   "id": "2bc1b3c8",
   "metadata": {
    "execution": {
     "iopub.execute_input": "2024-02-15T02:41:22.177318Z",
     "iopub.status.busy": "2024-02-15T02:41:22.176918Z",
     "iopub.status.idle": "2024-02-15T02:41:22.183207Z",
     "shell.execute_reply": "2024-02-15T02:41:22.182318Z"
    },
    "papermill": {
     "duration": 0.016643,
     "end_time": "2024-02-15T02:41:22.185174",
     "exception": false,
     "start_time": "2024-02-15T02:41:22.168531",
     "status": "completed"
    },
    "tags": []
   },
   "outputs": [
    {
     "data": {
      "text/plain": [
       "1"
      ]
     },
     "execution_count": 10,
     "metadata": {},
     "output_type": "execute_result"
    }
   ],
   "source": [
    "(5 - 3) // 2"
   ]
  },
  {
   "cell_type": "code",
   "execution_count": 11,
   "id": "0883ebb6",
   "metadata": {
    "execution": {
     "iopub.execute_input": "2024-02-15T02:41:22.201633Z",
     "iopub.status.busy": "2024-02-15T02:41:22.201028Z",
     "iopub.status.idle": "2024-02-15T02:41:22.204832Z",
     "shell.execute_reply": "2024-02-15T02:41:22.204116Z"
    },
    "papermill": {
     "duration": 0.014648,
     "end_time": "2024-02-15T02:41:22.206977",
     "exception": false,
     "start_time": "2024-02-15T02:41:22.192329",
     "status": "completed"
    },
    "tags": []
   },
   "outputs": [],
   "source": [
    "#q3.a.hint()"
   ]
  },
  {
   "cell_type": "code",
   "execution_count": 12,
   "id": "ccf90bb4",
   "metadata": {
    "execution": {
     "iopub.execute_input": "2024-02-15T02:41:22.223835Z",
     "iopub.status.busy": "2024-02-15T02:41:22.223105Z",
     "iopub.status.idle": "2024-02-15T02:41:22.231505Z",
     "shell.execute_reply": "2024-02-15T02:41:22.230698Z"
    },
    "papermill": {
     "duration": 0.019194,
     "end_time": "2024-02-15T02:41:22.233527",
     "exception": false,
     "start_time": "2024-02-15T02:41:22.214333",
     "status": "completed"
    },
    "tags": []
   },
   "outputs": [
    {
     "data": {
      "application/javascript": [
       "parent.postMessage({\"jupyterEvent\": \"custom.exercise_interaction\", \"data\": {\"interactionType\": 3, \"questionType\": 4, \"questionId\": \"3.1_ArithmeticParensEasy\", \"learnToolsVersion\": \"0.3.4\", \"valueTowardsCompletion\": 0.0, \"failureMessage\": \"\", \"exceptionClass\": \"\", \"trace\": \"\", \"outcomeType\": 4}}, \"*\")"
      ],
      "text/plain": [
       "<IPython.core.display.Javascript object>"
      ]
     },
     "metadata": {},
     "output_type": "display_data"
    },
    {
     "data": {
      "text/markdown": [
       "<span style=\"color:#33cc99\">Solution:</span> \n",
       "```python\n",
       "(5 - 3) // 2\n",
       "```"
      ],
      "text/plain": [
       "Solution: \n",
       "```python\n",
       "(5 - 3) // 2\n",
       "```"
      ]
     },
     "metadata": {},
     "output_type": "display_data"
    }
   ],
   "source": [
    "# Check your answer (Run this code cell to receive credit!)\n",
    "q3.a.solution()"
   ]
  },
  {
   "cell_type": "markdown",
   "id": "f7bbb87d",
   "metadata": {
    "papermill": {
     "duration": 0.00735,
     "end_time": "2024-02-15T02:41:22.248598",
     "exception": false,
     "start_time": "2024-02-15T02:41:22.241248",
     "status": "completed"
    },
    "tags": []
   },
   "source": [
    "# 3b.  <span title=\"A bit spicy\" style=\"color: darkgreen \">🌶️</span>\n",
    "\n",
    "<small>Questions, like this one, marked a spicy pepper are a bit harder.</small>\n",
    "\n",
    "Add parentheses to the following expression so that it evaluates to 0."
   ]
  },
  {
   "cell_type": "code",
   "execution_count": 13,
   "id": "d6e8d4a9",
   "metadata": {
    "execution": {
     "iopub.execute_input": "2024-02-15T02:41:22.265659Z",
     "iopub.status.busy": "2024-02-15T02:41:22.265179Z",
     "iopub.status.idle": "2024-02-15T02:41:22.271716Z",
     "shell.execute_reply": "2024-02-15T02:41:22.270677Z"
    },
    "papermill": {
     "duration": 0.017588,
     "end_time": "2024-02-15T02:41:22.273823",
     "exception": false,
     "start_time": "2024-02-15T02:41:22.256235",
     "status": "completed"
    },
    "tags": []
   },
   "outputs": [
    {
     "data": {
      "text/plain": [
       "0"
      ]
     },
     "execution_count": 13,
     "metadata": {},
     "output_type": "execute_result"
    }
   ],
   "source": [
    "8 - (3 * 2) - (1 + 1)"
   ]
  },
  {
   "cell_type": "code",
   "execution_count": 14,
   "id": "7c2f3088",
   "metadata": {
    "execution": {
     "iopub.execute_input": "2024-02-15T02:41:22.291037Z",
     "iopub.status.busy": "2024-02-15T02:41:22.290621Z",
     "iopub.status.idle": "2024-02-15T02:41:22.294865Z",
     "shell.execute_reply": "2024-02-15T02:41:22.293842Z"
    },
    "papermill": {
     "duration": 0.015496,
     "end_time": "2024-02-15T02:41:22.296970",
     "exception": false,
     "start_time": "2024-02-15T02:41:22.281474",
     "status": "completed"
    },
    "tags": []
   },
   "outputs": [],
   "source": [
    "#q3.b.hint()"
   ]
  },
  {
   "cell_type": "code",
   "execution_count": 15,
   "id": "b4e6253e",
   "metadata": {
    "execution": {
     "iopub.execute_input": "2024-02-15T02:41:22.314511Z",
     "iopub.status.busy": "2024-02-15T02:41:22.313724Z",
     "iopub.status.idle": "2024-02-15T02:41:22.322509Z",
     "shell.execute_reply": "2024-02-15T02:41:22.321489Z"
    },
    "papermill": {
     "duration": 0.019724,
     "end_time": "2024-02-15T02:41:22.324528",
     "exception": false,
     "start_time": "2024-02-15T02:41:22.304804",
     "status": "completed"
    },
    "tags": []
   },
   "outputs": [
    {
     "data": {
      "application/javascript": [
       "parent.postMessage({\"jupyterEvent\": \"custom.exercise_interaction\", \"data\": {\"interactionType\": 3, \"questionType\": 4, \"questionId\": \"3.2_ArithmeticParensHard\", \"learnToolsVersion\": \"0.3.4\", \"valueTowardsCompletion\": 0.0, \"failureMessage\": \"\", \"exceptionClass\": \"\", \"trace\": \"\", \"outcomeType\": 4}}, \"*\")"
      ],
      "text/plain": [
       "<IPython.core.display.Javascript object>"
      ]
     },
     "metadata": {},
     "output_type": "display_data"
    },
    {
     "data": {
      "text/markdown": [
       "<span style=\"color:#33cc99\">Solution:</span> `(8 - 3) * (2 - (1 + 1))` is one solution. There may be others."
      ],
      "text/plain": [
       "Solution: `(8 - 3) * (2 - (1 + 1))` is one solution. There may be others."
      ]
     },
     "metadata": {},
     "output_type": "display_data"
    }
   ],
   "source": [
    "# Check your answer (Run this code cell to receive credit!)\n",
    "q3.b.solution()"
   ]
  },
  {
   "cell_type": "markdown",
   "id": "afb1f2d5",
   "metadata": {
    "papermill": {
     "duration": 0.007831,
     "end_time": "2024-02-15T02:41:22.340299",
     "exception": false,
     "start_time": "2024-02-15T02:41:22.332468",
     "status": "completed"
    },
    "tags": []
   },
   "source": [
    "<hr/>\n",
    "\n",
    "# 4. \n",
    "Alice, Bob and Carol have agreed to pool their Halloween candy and split it evenly among themselves.\n",
    "For the sake of their friendship, any candies left over will be smashed. For example, if they collectively\n",
    "bring home 91 candies, they'll take 30 each and smash 1.\n",
    "\n",
    "Write an arithmetic expression below to calculate how many candies they must smash for a given haul."
   ]
  },
  {
   "cell_type": "code",
   "execution_count": 16,
   "id": "bd09f456",
   "metadata": {
    "execution": {
     "iopub.execute_input": "2024-02-15T02:41:22.357613Z",
     "iopub.status.busy": "2024-02-15T02:41:22.357263Z",
     "iopub.status.idle": "2024-02-15T02:41:22.364036Z",
     "shell.execute_reply": "2024-02-15T02:41:22.363328Z"
    },
    "papermill": {
     "duration": 0.018071,
     "end_time": "2024-02-15T02:41:22.366165",
     "exception": false,
     "start_time": "2024-02-15T02:41:22.348094",
     "status": "completed"
    },
    "tags": []
   },
   "outputs": [
    {
     "data": {
      "application/javascript": [
       "parent.postMessage({\"jupyterEvent\": \"custom.exercise_interaction\", \"data\": {\"outcomeType\": 1, \"valueTowardsCompletion\": 0.25, \"interactionType\": 1, \"questionType\": 1, \"questionId\": \"4_CandySplitting\", \"learnToolsVersion\": \"0.3.4\", \"failureMessage\": \"\", \"exceptionClass\": \"\", \"trace\": \"\"}}, \"*\")"
      ],
      "text/plain": [
       "<IPython.core.display.Javascript object>"
      ]
     },
     "metadata": {},
     "output_type": "display_data"
    },
    {
     "data": {
      "text/markdown": [
       "<span style=\"color:#33cc33\">Correct</span>"
      ],
      "text/plain": [
       "Correct"
      ]
     },
     "metadata": {},
     "output_type": "display_data"
    }
   ],
   "source": [
    "# Variables representing the number of candies collected by alice, bob, and carol\n",
    "alice_candies = 121\n",
    "bob_candies = 77\n",
    "carol_candies = 109\n",
    "\n",
    "# Your code goes here! Replace the right-hand side of this assignment with an expression\n",
    "# involving alice_candies, bob_candies, and carol_candies\n",
    "to_smash = ( alice_candies + bob_candies + carol_candies ) % 3\n",
    "\n",
    "# Check your answer\n",
    "q4.check()"
   ]
  },
  {
   "cell_type": "code",
   "execution_count": 17,
   "id": "4b533bb6",
   "metadata": {
    "execution": {
     "iopub.execute_input": "2024-02-15T02:41:22.384455Z",
     "iopub.status.busy": "2024-02-15T02:41:22.383922Z",
     "iopub.status.idle": "2024-02-15T02:41:22.387119Z",
     "shell.execute_reply": "2024-02-15T02:41:22.386435Z"
    },
    "papermill": {
     "duration": 0.014232,
     "end_time": "2024-02-15T02:41:22.388902",
     "exception": false,
     "start_time": "2024-02-15T02:41:22.374670",
     "status": "completed"
    },
    "tags": []
   },
   "outputs": [],
   "source": [
    "#q4.hint()\n",
    "# q4.solution()"
   ]
  },
  {
   "cell_type": "markdown",
   "id": "8636b62c",
   "metadata": {
    "papermill": {
     "duration": 0.007936,
     "end_time": "2024-02-15T02:41:22.405052",
     "exception": false,
     "start_time": "2024-02-15T02:41:22.397116",
     "status": "completed"
    },
    "tags": []
   },
   "source": [
    "# Keep Going\n",
    "\n",
    "Next up, you'll **[learn to write new functions and understand functions others write](https://www.kaggle.com/colinmorris/functions-and-getting-help)**. This will make you at least 10 times more productive as a Python programmer. "
   ]
  },
  {
   "cell_type": "markdown",
   "id": "f18e8199",
   "metadata": {
    "papermill": {
     "duration": 0.007713,
     "end_time": "2024-02-15T02:41:22.420712",
     "exception": false,
     "start_time": "2024-02-15T02:41:22.412999",
     "status": "completed"
    },
    "tags": []
   },
   "source": [
    "---\n",
    "\n",
    "\n",
    "\n",
    "\n",
    "*Have questions or comments? Visit the [course discussion forum](https://www.kaggle.com/learn/python/discussion) to chat with other learners.*"
   ]
  }
 ],
 "metadata": {
  "kaggle": {
   "accelerator": "none",
   "dataSources": [],
   "isGpuEnabled": false,
   "isInternetEnabled": false,
   "language": "python",
   "sourceType": "notebook"
  },
  "kernelspec": {
   "display_name": "Python 3",
   "language": "python",
   "name": "python3"
  },
  "language_info": {
   "codemirror_mode": {
    "name": "ipython",
    "version": 3
   },
   "file_extension": ".py",
   "mimetype": "text/x-python",
   "name": "python",
   "nbconvert_exporter": "python",
   "pygments_lexer": "ipython3",
   "version": "3.10.13"
  },
  "learntools_metadata": {
   "lesson_index": 0,
   "type": "exercise"
  },
  "papermill": {
   "default_parameters": {},
   "duration": 4.755026,
   "end_time": "2024-02-15T02:41:22.849435",
   "environment_variables": {},
   "exception": null,
   "input_path": "__notebook__.ipynb",
   "output_path": "__notebook__.ipynb",
   "parameters": {},
   "start_time": "2024-02-15T02:41:18.094409",
   "version": "2.5.0"
  }
 },
 "nbformat": 4,
 "nbformat_minor": 5
}
