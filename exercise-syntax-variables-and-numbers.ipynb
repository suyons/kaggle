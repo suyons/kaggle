{
 "cells": [
  {
   "cell_type": "markdown",
   "id": "3a66f273",
   "metadata": {
    "papermill": {
     "duration": 0.009002,
     "end_time": "2024-02-15T02:24:42.953754",
     "exception": false,
     "start_time": "2024-02-15T02:24:42.944752",
     "status": "completed"
    },
    "tags": []
   },
   "source": [
    "**This notebook is an exercise in the [Python](https://www.kaggle.com/learn/python) course.  You can reference the tutorial at [this link](https://www.kaggle.com/colinmorris/hello-python).**\n",
    "\n",
    "---\n"
   ]
  },
  {
   "cell_type": "markdown",
   "id": "335ccaad",
   "metadata": {
    "papermill": {
     "duration": 0.008021,
     "end_time": "2024-02-15T02:24:42.970554",
     "exception": false,
     "start_time": "2024-02-15T02:24:42.962533",
     "status": "completed"
    },
    "tags": []
   },
   "source": [
    "Welcome to your first set of Python coding problems.  If this is your first time using Kaggle Notebooks, welcome! \n",
    "\n",
    "Notebooks are composed of blocks (called \"cells\") of text and code. Each of these is editable, though you'll mainly be editing the code cells to answer some questions.\n",
    "\n",
    "To get started, try running the code cell below (by pressing the ► button, or clicking on the cell and pressing ctrl+enter on your keyboard)."
   ]
  },
  {
   "cell_type": "code",
   "execution_count": 1,
   "id": "00c25818",
   "metadata": {
    "execution": {
     "iopub.execute_input": "2024-02-15T02:24:42.990738Z",
     "iopub.status.busy": "2024-02-15T02:24:42.989521Z",
     "iopub.status.idle": "2024-02-15T02:24:43.009809Z",
     "shell.execute_reply": "2024-02-15T02:24:43.008431Z"
    },
    "papermill": {
     "duration": 0.033734,
     "end_time": "2024-02-15T02:24:43.012895",
     "exception": false,
     "start_time": "2024-02-15T02:24:42.979161",
     "status": "completed"
    },
    "tags": []
   },
   "outputs": [
    {
     "name": "stdout",
     "output_type": "stream",
     "text": [
      "You've successfully run some Python code\n",
      "Congratulations!\n"
     ]
    }
   ],
   "source": [
    "print(\"You've successfully run some Python code\")\n",
    "print(\"Congratulations!\")"
   ]
  },
  {
   "cell_type": "markdown",
   "id": "77bb9c97",
   "metadata": {
    "papermill": {
     "duration": 0.008636,
     "end_time": "2024-02-15T02:24:43.030225",
     "exception": false,
     "start_time": "2024-02-15T02:24:43.021589",
     "status": "completed"
    },
    "tags": []
   },
   "source": [
    "Try adding another line of code in the cell above and re-running it. \n",
    "\n",
    "Now let's get a little fancier:  Add a new code cell by clicking on an existing code cell, hitting the escape key, and then hitting the `a` or `b` key.  The `a` key will add a cell above the current cell, and `b` adds a cell below.\n",
    "\n",
    "Great! Now you know how to use Notebooks.\n",
    "\n",
    "Each hands-on exercise starts by setting up our feedback and code checking mechanism. Run the code cell below to do that. Then you'll be ready to move on to question 0."
   ]
  },
  {
   "cell_type": "code",
   "execution_count": 2,
   "id": "d60c3c78",
   "metadata": {
    "_kg_hide-input": true,
    "_kg_hide-output": true,
    "execution": {
     "iopub.execute_input": "2024-02-15T02:24:43.052189Z",
     "iopub.status.busy": "2024-02-15T02:24:43.050673Z",
     "iopub.status.idle": "2024-02-15T02:24:44.225986Z",
     "shell.execute_reply": "2024-02-15T02:24:44.223942Z"
    },
    "papermill": {
     "duration": 1.189604,
     "end_time": "2024-02-15T02:24:44.229070",
     "exception": false,
     "start_time": "2024-02-15T02:24:43.039466",
     "status": "completed"
    },
    "tags": []
   },
   "outputs": [
    {
     "name": "stdout",
     "output_type": "stream",
     "text": [
      "Setup complete! You're ready to start question 0.\n"
     ]
    }
   ],
   "source": [
    "from learntools.core import binder; binder.bind(globals())\n",
    "from learntools.python.ex1 import *\n",
    "print(\"Setup complete! You're ready to start question 0.\")"
   ]
  },
  {
   "cell_type": "markdown",
   "id": "147d260a",
   "metadata": {
    "papermill": {
     "duration": 0.00793,
     "end_time": "2024-02-15T02:24:44.245555",
     "exception": false,
     "start_time": "2024-02-15T02:24:44.237625",
     "status": "completed"
    },
    "tags": []
   },
   "source": [
    "# 0.\n",
    "\n",
    "*This is a silly question intended as an introduction to the format we use for hands-on exercises throughout all Kaggle courses.*\n",
    "\n",
    "**What is your favorite color? **\n",
    "\n",
    "To complete this question, create a variable called `color` in the cell below with an appropriate value. The function call `q0.check()` (which we've already provided in the cell below) will check your answer."
   ]
  },
  {
   "cell_type": "code",
   "execution_count": 3,
   "id": "d2b586b6",
   "metadata": {
    "execution": {
     "iopub.execute_input": "2024-02-15T02:24:44.265783Z",
     "iopub.status.busy": "2024-02-15T02:24:44.265099Z",
     "iopub.status.idle": "2024-02-15T02:24:44.279200Z",
     "shell.execute_reply": "2024-02-15T02:24:44.277505Z"
    },
    "papermill": {
     "duration": 0.027452,
     "end_time": "2024-02-15T02:24:44.281988",
     "exception": false,
     "start_time": "2024-02-15T02:24:44.254536",
     "status": "completed"
    },
    "tags": []
   },
   "outputs": [
    {
     "data": {
      "application/javascript": [
       "parent.postMessage({\"jupyterEvent\": \"custom.exercise_interaction\", \"data\": {\"outcomeType\": 4, \"interactionType\": 1, \"questionType\": 2, \"questionId\": \"0_ExerciseFormatTutorial\", \"learnToolsVersion\": \"0.3.4\", \"valueTowardsCompletion\": 0.0, \"failureMessage\": \"\", \"exceptionClass\": \"\", \"trace\": \"\"}}, \"*\")"
      ],
      "text/plain": [
       "<IPython.core.display.Javascript object>"
      ]
     },
     "metadata": {},
     "output_type": "display_data"
    },
    {
     "data": {
      "text/markdown": [
       "<span style=\"color:#ccaa33\">Check:</span> When you've updated the starter code, `check()` will tell you whether your code is correct. Remember, you must create the following variable: `color`"
      ],
      "text/plain": [
       "Check: When you've updated the starter code, `check()` will tell you whether your code is correct. Remember, you must create the following variable: `color`"
      ]
     },
     "metadata": {},
     "output_type": "display_data"
    }
   ],
   "source": [
    "# create a variable called color with an appropriate value on the line below\n",
    "# (Remember, strings in Python must be enclosed in 'single' or \"double\" quotes)\n",
    "____\n",
    "\n",
    "# Check your answer\n",
    "q0.check()"
   ]
  },
  {
   "cell_type": "markdown",
   "id": "8eb9c488",
   "metadata": {
    "papermill": {
     "duration": 0.009241,
     "end_time": "2024-02-15T02:24:44.299992",
     "exception": false,
     "start_time": "2024-02-15T02:24:44.290751",
     "status": "completed"
    },
    "tags": []
   },
   "source": [
    "Didn't get the right answer? How do you not even know your own favorite color?!\n",
    "\n",
    "Delete the `#` in the line below to make one of the lines run. You can choose between getting a hint or the full answer by choosing which line to remove the `#` from. \n",
    "\n",
    "Removing the `#` is called uncommenting, because it changes that line from a \"comment\" which Python doesn't run to code, which Python does run."
   ]
  },
  {
   "cell_type": "code",
   "execution_count": 4,
   "id": "237d0acf",
   "metadata": {
    "execution": {
     "iopub.execute_input": "2024-02-15T02:24:44.319718Z",
     "iopub.status.busy": "2024-02-15T02:24:44.319245Z",
     "iopub.status.idle": "2024-02-15T02:24:44.324700Z",
     "shell.execute_reply": "2024-02-15T02:24:44.323358Z"
    },
    "papermill": {
     "duration": 0.018875,
     "end_time": "2024-02-15T02:24:44.327465",
     "exception": false,
     "start_time": "2024-02-15T02:24:44.308590",
     "status": "completed"
    },
    "tags": []
   },
   "outputs": [],
   "source": [
    "#q0.hint()\n",
    "#q0.solution()"
   ]
  },
  {
   "cell_type": "markdown",
   "id": "507db8f8",
   "metadata": {
    "papermill": {
     "duration": 0.009582,
     "end_time": "2024-02-15T02:24:44.346187",
     "exception": false,
     "start_time": "2024-02-15T02:24:44.336605",
     "status": "completed"
    },
    "tags": []
   },
   "source": [
    "The upcoming questions work the same way. The only thing that will change are the question numbers. For the next question, you'll call `q1.check()`, `q1.hint()`, `q1.solution()`, for question 2, you'll call `q2.check()`, and so on."
   ]
  },
  {
   "cell_type": "markdown",
   "id": "082ada25",
   "metadata": {
    "papermill": {
     "duration": 0.009545,
     "end_time": "2024-02-15T02:24:44.364896",
     "exception": false,
     "start_time": "2024-02-15T02:24:44.355351",
     "status": "completed"
    },
    "tags": []
   },
   "source": [
    "<hr/>\n",
    "\n",
    "# 1.\n",
    "\n",
    "Complete the code below. In case it's helpful, here is the table of available arithmetic operations:\n",
    "\n",
    "\n",
    "\n",
    "| Operator     | Name           | Description                                            |\n",
    "|--------------|----------------|--------------------------------------------------------|\n",
    "| ``a + b``    | Addition       | Sum of ``a`` and ``b``                                 |\n",
    "| ``a - b``    | Subtraction    | Difference of ``a`` and ``b``                          |\n",
    "| ``a * b``    | Multiplication | Product of ``a`` and ``b``                             |\n",
    "| ``a / b``    | True division  | Quotient of ``a`` and ``b``                            |\n",
    "| ``a // b``   | Floor division | Quotient of ``a`` and ``b``, removing fractional parts |\n",
    "| ``a % b``    | Modulus        | Integer remainder after division of ``a`` by ``b``     |\n",
    "| ``a ** b``   | Exponentiation | ``a`` raised to the power of ``b``                     |\n",
    "| ``-a``       | Negation       | The negative of ``a``                                  |\n",
    "\n",
    "<span style=\"display:none\"></span>\n"
   ]
  },
  {
   "cell_type": "code",
   "execution_count": 5,
   "id": "010f3cc1",
   "metadata": {
    "execution": {
     "iopub.execute_input": "2024-02-15T02:24:44.384730Z",
     "iopub.status.busy": "2024-02-15T02:24:44.384226Z",
     "iopub.status.idle": "2024-02-15T02:24:44.395934Z",
     "shell.execute_reply": "2024-02-15T02:24:44.394438Z"
    },
    "papermill": {
     "duration": 0.024969,
     "end_time": "2024-02-15T02:24:44.398498",
     "exception": false,
     "start_time": "2024-02-15T02:24:44.373529",
     "status": "completed"
    },
    "tags": []
   },
   "outputs": [
    {
     "data": {
      "application/javascript": [
       "parent.postMessage({\"jupyterEvent\": \"custom.exercise_interaction\", \"data\": {\"outcomeType\": 4, \"interactionType\": 1, \"questionType\": 1, \"questionId\": \"1_CircleArea\", \"learnToolsVersion\": \"0.3.4\", \"valueTowardsCompletion\": 0.0, \"failureMessage\": \"\", \"exceptionClass\": \"\", \"trace\": \"\"}}, \"*\")"
      ],
      "text/plain": [
       "<IPython.core.display.Javascript object>"
      ]
     },
     "metadata": {},
     "output_type": "display_data"
    },
    {
     "data": {
      "text/markdown": [
       "<span style=\"color:#ccaa33\">Check:</span> When you've updated the starter code, `check()` will tell you whether your code is correct. Remember, you must create the following variables: `area`, `radius`"
      ],
      "text/plain": [
       "Check: When you've updated the starter code, `check()` will tell you whether your code is correct. Remember, you must create the following variables: `area`, `radius`"
      ]
     },
     "metadata": {},
     "output_type": "display_data"
    }
   ],
   "source": [
    "pi = 3.14159 # approximate\n",
    "diameter = 3\n",
    "\n",
    "# Create a variable called 'radius' equal to half the diameter\n",
    "____\n",
    "\n",
    "# Create a variable called 'area', using the formula for the area of a circle: pi times the radius squared\n",
    "____\n",
    "\n",
    "# Check your answer\n",
    "q1.check()"
   ]
  },
  {
   "cell_type": "code",
   "execution_count": 6,
   "id": "131225cb",
   "metadata": {
    "execution": {
     "iopub.execute_input": "2024-02-15T02:24:44.419517Z",
     "iopub.status.busy": "2024-02-15T02:24:44.419027Z",
     "iopub.status.idle": "2024-02-15T02:24:44.424287Z",
     "shell.execute_reply": "2024-02-15T02:24:44.422852Z"
    },
    "papermill": {
     "duration": 0.019432,
     "end_time": "2024-02-15T02:24:44.427010",
     "exception": false,
     "start_time": "2024-02-15T02:24:44.407578",
     "status": "completed"
    },
    "tags": []
   },
   "outputs": [],
   "source": [
    "# Uncomment and run the lines below if you need help.\n",
    "#q1.hint()\n",
    "#q1.solution()"
   ]
  },
  {
   "cell_type": "markdown",
   "id": "ff74ddf5",
   "metadata": {
    "papermill": {
     "duration": 0.00973,
     "end_time": "2024-02-15T02:24:44.446807",
     "exception": false,
     "start_time": "2024-02-15T02:24:44.437077",
     "status": "completed"
    },
    "tags": []
   },
   "source": [
    "<hr/>\n",
    "\n",
    "# 2.\n",
    "\n",
    "Add code to the following cell to swap variables `a` and `b` (so that `a` refers to the object previously referred to by `b` and vice versa)."
   ]
  },
  {
   "cell_type": "code",
   "execution_count": 7,
   "id": "a54b17cc",
   "metadata": {
    "execution": {
     "iopub.execute_input": "2024-02-15T02:24:44.468427Z",
     "iopub.status.busy": "2024-02-15T02:24:44.467933Z",
     "iopub.status.idle": "2024-02-15T02:24:44.479035Z",
     "shell.execute_reply": "2024-02-15T02:24:44.477978Z"
    },
    "papermill": {
     "duration": 0.024721,
     "end_time": "2024-02-15T02:24:44.481407",
     "exception": false,
     "start_time": "2024-02-15T02:24:44.456686",
     "status": "completed"
    },
    "tags": []
   },
   "outputs": [
    {
     "data": {
      "application/javascript": [
       "parent.postMessage({\"jupyterEvent\": \"custom.exercise_interaction\", \"data\": {\"outcomeType\": 2, \"failureMessage\": \"`a` and `b` still have their original values.\", \"interactionType\": 1, \"questionType\": 2, \"questionId\": \"2_VariableSwap\", \"learnToolsVersion\": \"0.3.4\", \"valueTowardsCompletion\": 0.0, \"exceptionClass\": \"\", \"trace\": \"\"}}, \"*\")"
      ],
      "text/plain": [
       "<IPython.core.display.Javascript object>"
      ]
     },
     "metadata": {},
     "output_type": "display_data"
    },
    {
     "data": {
      "text/markdown": [
       "<span style=\"color:#cc3333\">Incorrect:</span> `a` and `b` still have their original values."
      ],
      "text/plain": [
       "Incorrect: `a` and `b` still have their original values."
      ]
     },
     "metadata": {},
     "output_type": "display_data"
    }
   ],
   "source": [
    "########### Setup code - don't touch this part ######################\n",
    "# If you're curious, these are examples of lists. We'll talk about \n",
    "# them in depth a few lessons from now. For now, just know that they're\n",
    "# yet another type of Python object, like int or float.\n",
    "a = [1, 2, 3]\n",
    "b = [3, 2, 1]\n",
    "q2.store_original_ids()\n",
    "######################################################################\n",
    "\n",
    "# Your code goes here. Swap the values to which a and b refer.\n",
    "# If you get stuck, you can always uncomment one or both of the lines in\n",
    "# the next cell for a hint, or to peek at the solution.\n",
    "\n",
    "######################################################################\n",
    "\n",
    "# Check your answer\n",
    "q2.check()"
   ]
  },
  {
   "cell_type": "code",
   "execution_count": 8,
   "id": "10c3e864",
   "metadata": {
    "execution": {
     "iopub.execute_input": "2024-02-15T02:24:44.504167Z",
     "iopub.status.busy": "2024-02-15T02:24:44.502647Z",
     "iopub.status.idle": "2024-02-15T02:24:44.508910Z",
     "shell.execute_reply": "2024-02-15T02:24:44.507582Z"
    },
    "papermill": {
     "duration": 0.020457,
     "end_time": "2024-02-15T02:24:44.511510",
     "exception": false,
     "start_time": "2024-02-15T02:24:44.491053",
     "status": "completed"
    },
    "tags": []
   },
   "outputs": [],
   "source": [
    "#q2.hint()"
   ]
  },
  {
   "cell_type": "code",
   "execution_count": 9,
   "id": "6a054bd1",
   "metadata": {
    "execution": {
     "iopub.execute_input": "2024-02-15T02:24:44.533618Z",
     "iopub.status.busy": "2024-02-15T02:24:44.533128Z",
     "iopub.status.idle": "2024-02-15T02:24:44.537799Z",
     "shell.execute_reply": "2024-02-15T02:24:44.536772Z"
    },
    "papermill": {
     "duration": 0.018941,
     "end_time": "2024-02-15T02:24:44.540414",
     "exception": false,
     "start_time": "2024-02-15T02:24:44.521473",
     "status": "completed"
    },
    "tags": []
   },
   "outputs": [],
   "source": [
    "#q2.solution()"
   ]
  },
  {
   "cell_type": "markdown",
   "id": "9535fdbc",
   "metadata": {
    "papermill": {
     "duration": 0.009402,
     "end_time": "2024-02-15T02:24:44.559695",
     "exception": false,
     "start_time": "2024-02-15T02:24:44.550293",
     "status": "completed"
    },
    "tags": []
   },
   "source": [
    "<hr/>\n",
    "\n",
    "# 3a.\n",
    "\n",
    "Add parentheses to the following expression so that it evaluates to 1."
   ]
  },
  {
   "cell_type": "code",
   "execution_count": 10,
   "id": "27dc8cea",
   "metadata": {
    "execution": {
     "iopub.execute_input": "2024-02-15T02:24:44.581941Z",
     "iopub.status.busy": "2024-02-15T02:24:44.581450Z",
     "iopub.status.idle": "2024-02-15T02:24:44.589305Z",
     "shell.execute_reply": "2024-02-15T02:24:44.587928Z"
    },
    "papermill": {
     "duration": 0.022252,
     "end_time": "2024-02-15T02:24:44.591863",
     "exception": false,
     "start_time": "2024-02-15T02:24:44.569611",
     "status": "completed"
    },
    "tags": []
   },
   "outputs": [
    {
     "data": {
      "text/plain": [
       "4"
      ]
     },
     "execution_count": 10,
     "metadata": {},
     "output_type": "execute_result"
    }
   ],
   "source": [
    "5 - 3 // 2"
   ]
  },
  {
   "cell_type": "code",
   "execution_count": 11,
   "id": "aa951b8b",
   "metadata": {
    "execution": {
     "iopub.execute_input": "2024-02-15T02:24:44.614338Z",
     "iopub.status.busy": "2024-02-15T02:24:44.613752Z",
     "iopub.status.idle": "2024-02-15T02:24:44.619270Z",
     "shell.execute_reply": "2024-02-15T02:24:44.617926Z"
    },
    "papermill": {
     "duration": 0.020608,
     "end_time": "2024-02-15T02:24:44.622323",
     "exception": false,
     "start_time": "2024-02-15T02:24:44.601715",
     "status": "completed"
    },
    "tags": []
   },
   "outputs": [],
   "source": [
    "#q3.a.hint()"
   ]
  },
  {
   "cell_type": "code",
   "execution_count": 12,
   "id": "4c035aa8",
   "metadata": {
    "execution": {
     "iopub.execute_input": "2024-02-15T02:24:44.645781Z",
     "iopub.status.busy": "2024-02-15T02:24:44.645327Z",
     "iopub.status.idle": "2024-02-15T02:24:44.655397Z",
     "shell.execute_reply": "2024-02-15T02:24:44.653964Z"
    },
    "papermill": {
     "duration": 0.024996,
     "end_time": "2024-02-15T02:24:44.658066",
     "exception": false,
     "start_time": "2024-02-15T02:24:44.633070",
     "status": "completed"
    },
    "tags": []
   },
   "outputs": [
    {
     "data": {
      "application/javascript": [
       "parent.postMessage({\"jupyterEvent\": \"custom.exercise_interaction\", \"data\": {\"interactionType\": 3, \"questionType\": 4, \"questionId\": \"3.1_ArithmeticParensEasy\", \"learnToolsVersion\": \"0.3.4\", \"valueTowardsCompletion\": 0.0, \"failureMessage\": \"\", \"exceptionClass\": \"\", \"trace\": \"\", \"outcomeType\": 4}}, \"*\")"
      ],
      "text/plain": [
       "<IPython.core.display.Javascript object>"
      ]
     },
     "metadata": {},
     "output_type": "display_data"
    },
    {
     "data": {
      "text/markdown": [
       "<span style=\"color:#33cc99\">Solution:</span> \n",
       "```python\n",
       "(5 - 3) // 2\n",
       "```"
      ],
      "text/plain": [
       "Solution: \n",
       "```python\n",
       "(5 - 3) // 2\n",
       "```"
      ]
     },
     "metadata": {},
     "output_type": "display_data"
    }
   ],
   "source": [
    "# Check your answer (Run this code cell to receive credit!)\n",
    "q3.a.solution()"
   ]
  },
  {
   "cell_type": "markdown",
   "id": "6e485645",
   "metadata": {
    "papermill": {
     "duration": 0.011013,
     "end_time": "2024-02-15T02:24:44.680009",
     "exception": false,
     "start_time": "2024-02-15T02:24:44.668996",
     "status": "completed"
    },
    "tags": []
   },
   "source": [
    "# 3b.  <span title=\"A bit spicy\" style=\"color: darkgreen \">🌶️</span>\n",
    "\n",
    "<small>Questions, like this one, marked a spicy pepper are a bit harder.</small>\n",
    "\n",
    "Add parentheses to the following expression so that it evaluates to 0."
   ]
  },
  {
   "cell_type": "code",
   "execution_count": 13,
   "id": "a4a2555c",
   "metadata": {
    "execution": {
     "iopub.execute_input": "2024-02-15T02:24:44.705055Z",
     "iopub.status.busy": "2024-02-15T02:24:44.704605Z",
     "iopub.status.idle": "2024-02-15T02:24:44.713578Z",
     "shell.execute_reply": "2024-02-15T02:24:44.711718Z"
    },
    "papermill": {
     "duration": 0.025561,
     "end_time": "2024-02-15T02:24:44.716611",
     "exception": false,
     "start_time": "2024-02-15T02:24:44.691050",
     "status": "completed"
    },
    "tags": []
   },
   "outputs": [
    {
     "data": {
      "text/plain": [
       "2"
      ]
     },
     "execution_count": 13,
     "metadata": {},
     "output_type": "execute_result"
    }
   ],
   "source": [
    "8 - 3 * 2 - 1 + 1"
   ]
  },
  {
   "cell_type": "code",
   "execution_count": 14,
   "id": "3ae7a07e",
   "metadata": {
    "execution": {
     "iopub.execute_input": "2024-02-15T02:24:44.741603Z",
     "iopub.status.busy": "2024-02-15T02:24:44.741128Z",
     "iopub.status.idle": "2024-02-15T02:24:44.747028Z",
     "shell.execute_reply": "2024-02-15T02:24:44.745470Z"
    },
    "papermill": {
     "duration": 0.021384,
     "end_time": "2024-02-15T02:24:44.749368",
     "exception": false,
     "start_time": "2024-02-15T02:24:44.727984",
     "status": "completed"
    },
    "tags": []
   },
   "outputs": [],
   "source": [
    "#q3.b.hint()"
   ]
  },
  {
   "cell_type": "code",
   "execution_count": 15,
   "id": "93bd2be7",
   "metadata": {
    "execution": {
     "iopub.execute_input": "2024-02-15T02:24:44.776498Z",
     "iopub.status.busy": "2024-02-15T02:24:44.776087Z",
     "iopub.status.idle": "2024-02-15T02:24:44.785661Z",
     "shell.execute_reply": "2024-02-15T02:24:44.784385Z"
    },
    "papermill": {
     "duration": 0.027386,
     "end_time": "2024-02-15T02:24:44.788677",
     "exception": false,
     "start_time": "2024-02-15T02:24:44.761291",
     "status": "completed"
    },
    "tags": []
   },
   "outputs": [
    {
     "data": {
      "application/javascript": [
       "parent.postMessage({\"jupyterEvent\": \"custom.exercise_interaction\", \"data\": {\"interactionType\": 3, \"questionType\": 4, \"questionId\": \"3.2_ArithmeticParensHard\", \"learnToolsVersion\": \"0.3.4\", \"valueTowardsCompletion\": 0.0, \"failureMessage\": \"\", \"exceptionClass\": \"\", \"trace\": \"\", \"outcomeType\": 4}}, \"*\")"
      ],
      "text/plain": [
       "<IPython.core.display.Javascript object>"
      ]
     },
     "metadata": {},
     "output_type": "display_data"
    },
    {
     "data": {
      "text/markdown": [
       "<span style=\"color:#33cc99\">Solution:</span> `(8 - 3) * (2 - (1 + 1))` is one solution. There may be others."
      ],
      "text/plain": [
       "Solution: `(8 - 3) * (2 - (1 + 1))` is one solution. There may be others."
      ]
     },
     "metadata": {},
     "output_type": "display_data"
    }
   ],
   "source": [
    "# Check your answer (Run this code cell to receive credit!)\n",
    "q3.b.solution()"
   ]
  },
  {
   "cell_type": "markdown",
   "id": "62187bd8",
   "metadata": {
    "papermill": {
     "duration": 0.011298,
     "end_time": "2024-02-15T02:24:44.812262",
     "exception": false,
     "start_time": "2024-02-15T02:24:44.800964",
     "status": "completed"
    },
    "tags": []
   },
   "source": [
    "<hr/>\n",
    "\n",
    "# 4. \n",
    "Alice, Bob and Carol have agreed to pool their Halloween candy and split it evenly among themselves.\n",
    "For the sake of their friendship, any candies left over will be smashed. For example, if they collectively\n",
    "bring home 91 candies, they'll take 30 each and smash 1.\n",
    "\n",
    "Write an arithmetic expression below to calculate how many candies they must smash for a given haul."
   ]
  },
  {
   "cell_type": "code",
   "execution_count": 16,
   "id": "0c6b2eaa",
   "metadata": {
    "execution": {
     "iopub.execute_input": "2024-02-15T02:24:44.837489Z",
     "iopub.status.busy": "2024-02-15T02:24:44.837029Z",
     "iopub.status.idle": "2024-02-15T02:24:44.849379Z",
     "shell.execute_reply": "2024-02-15T02:24:44.847884Z"
    },
    "papermill": {
     "duration": 0.028425,
     "end_time": "2024-02-15T02:24:44.852194",
     "exception": false,
     "start_time": "2024-02-15T02:24:44.823769",
     "status": "completed"
    },
    "tags": []
   },
   "outputs": [
    {
     "data": {
      "application/javascript": [
       "parent.postMessage({\"jupyterEvent\": \"custom.exercise_interaction\", \"data\": {\"outcomeType\": 4, \"interactionType\": 1, \"questionType\": 1, \"questionId\": \"4_CandySplitting\", \"learnToolsVersion\": \"0.3.4\", \"valueTowardsCompletion\": 0.0, \"failureMessage\": \"\", \"exceptionClass\": \"\", \"trace\": \"\"}}, \"*\")"
      ],
      "text/plain": [
       "<IPython.core.display.Javascript object>"
      ]
     },
     "metadata": {},
     "output_type": "display_data"
    },
    {
     "data": {
      "text/markdown": [
       "<span style=\"color:#ccaa33\">Check:</span> When you've updated the starter code, `check()` will tell you whether your code is correct. You need to update the code that creates variable `to_smash`"
      ],
      "text/plain": [
       "Check: When you've updated the starter code, `check()` will tell you whether your code is correct. You need to update the code that creates variable `to_smash`"
      ]
     },
     "metadata": {},
     "output_type": "display_data"
    }
   ],
   "source": [
    "# Variables representing the number of candies collected by alice, bob, and carol\n",
    "alice_candies = 121\n",
    "bob_candies = 77\n",
    "carol_candies = 109\n",
    "\n",
    "# Your code goes here! Replace the right-hand side of this assignment with an expression\n",
    "# involving alice_candies, bob_candies, and carol_candies\n",
    "to_smash = -1\n",
    "\n",
    "# Check your answer\n",
    "q4.check()"
   ]
  },
  {
   "cell_type": "code",
   "execution_count": 17,
   "id": "a18f3490",
   "metadata": {
    "execution": {
     "iopub.execute_input": "2024-02-15T02:24:44.878483Z",
     "iopub.status.busy": "2024-02-15T02:24:44.878034Z",
     "iopub.status.idle": "2024-02-15T02:24:44.883607Z",
     "shell.execute_reply": "2024-02-15T02:24:44.882246Z"
    },
    "papermill": {
     "duration": 0.022363,
     "end_time": "2024-02-15T02:24:44.886676",
     "exception": false,
     "start_time": "2024-02-15T02:24:44.864313",
     "status": "completed"
    },
    "tags": []
   },
   "outputs": [],
   "source": [
    "#q4.hint()\n",
    "#q4.solution()"
   ]
  },
  {
   "cell_type": "markdown",
   "id": "7ba6bc84",
   "metadata": {
    "papermill": {
     "duration": 0.01236,
     "end_time": "2024-02-15T02:24:44.911320",
     "exception": false,
     "start_time": "2024-02-15T02:24:44.898960",
     "status": "completed"
    },
    "tags": []
   },
   "source": [
    "# Keep Going\n",
    "\n",
    "Next up, you'll **[learn to write new functions and understand functions others write](https://www.kaggle.com/colinmorris/functions-and-getting-help)**. This will make you at least 10 times more productive as a Python programmer. "
   ]
  },
  {
   "cell_type": "markdown",
   "id": "80b0620d",
   "metadata": {
    "papermill": {
     "duration": 0.011351,
     "end_time": "2024-02-15T02:24:44.934510",
     "exception": false,
     "start_time": "2024-02-15T02:24:44.923159",
     "status": "completed"
    },
    "tags": []
   },
   "source": [
    "---\n",
    "\n",
    "\n",
    "\n",
    "\n",
    "*Have questions or comments? Visit the [course discussion forum](https://www.kaggle.com/learn/python/discussion) to chat with other learners.*"
   ]
  }
 ],
 "metadata": {
  "kaggle": {
   "accelerator": "none",
   "dataSources": [],
   "isGpuEnabled": false,
   "isInternetEnabled": false,
   "language": "python",
   "sourceType": "notebook"
  },
  "kernelspec": {
   "display_name": "Python 3",
   "language": "python",
   "name": "python3"
  },
  "language_info": {
   "codemirror_mode": {
    "name": "ipython",
    "version": 3
   },
   "file_extension": ".py",
   "mimetype": "text/x-python",
   "name": "python",
   "nbconvert_exporter": "python",
   "pygments_lexer": "ipython3",
   "version": "3.10.13"
  },
  "learntools_metadata": {
   "lesson_index": 0,
   "type": "exercise"
  },
  "papermill": {
   "default_parameters": {},
   "duration": 6.450672,
   "end_time": "2024-02-15T02:24:45.572378",
   "environment_variables": {},
   "exception": null,
   "input_path": "__notebook__.ipynb",
   "output_path": "__notebook__.ipynb",
   "parameters": {},
   "start_time": "2024-02-15T02:24:39.121706",
   "version": "2.5.0"
  }
 },
 "nbformat": 4,
 "nbformat_minor": 5
}
